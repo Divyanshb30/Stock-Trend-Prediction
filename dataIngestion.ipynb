{
 "cells": [
  {
   "cell_type": "code",
   "execution_count": 1,
   "id": "646ee5d9",
   "metadata": {},
   "outputs": [
    {
     "name": "stderr",
     "output_type": "stream",
     "text": [
      "C:\\Users\\Divyansh\\AppData\\Local\\Temp\\ipykernel_7660\\2803374588.py:8: FutureWarning: YF.download() has changed argument auto_adjust default to True\n",
      "  df = yf.download('TSLA', start='2020-01-01', end=today)\n",
      "[*********************100%***********************]  1 of 1 completed\n"
     ]
    }
   ],
   "source": [
    "import yfinance as yf\n",
    "from datetime import datetime\n",
    "\n",
    "# Get today's date in YYYY-MM-DD format\n",
    "today = datetime.today().strftime('%Y-%m-%d')\n",
    "\n",
    "# Download TSLA stock data from 2020 to today\n",
    "df = yf.download('TSLA', start='2020-01-01', end=today)\n",
    "\n",
    "# Save to CSV\n",
    "df.to_csv('tesla_data.csv')\n"
   ]
  },
  {
   "cell_type": "code",
   "execution_count": null,
   "id": "2c068a89",
   "metadata": {},
   "outputs": [],
   "source": []
  }
 ],
 "metadata": {
  "kernelspec": {
   "display_name": "Python 3",
   "language": "python",
   "name": "python3"
  },
  "language_info": {
   "codemirror_mode": {
    "name": "ipython",
    "version": 3
   },
   "file_extension": ".py",
   "mimetype": "text/x-python",
   "name": "python",
   "nbconvert_exporter": "python",
   "pygments_lexer": "ipython3",
   "version": "3.11.13"
  }
 },
 "nbformat": 4,
 "nbformat_minor": 5
}
