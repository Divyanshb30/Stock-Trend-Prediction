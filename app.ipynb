{
 "cells": [
  {
   "cell_type": "code",
   "execution_count": 122,
   "id": "343fef36",
   "metadata": {},
   "outputs": [],
   "source": [
    "import numpy as np\n",
    "import pandas_datareader as pdr"
   ]
  },
  {
   "cell_type": "code",
   "execution_count": 123,
   "id": "a73c2357",
   "metadata": {},
   "outputs": [
    {
     "name": "stderr",
     "output_type": "stream",
     "text": [
      "C:\\Users\\Divyansh\\AppData\\Local\\Temp\\ipykernel_19776\\2499730030.py:3: FutureWarning: YF.download() has changed argument auto_adjust default to True\n",
      "  df = yf.download(\"TSLA\", start=\"2015-01-01\", end=\"2024-12-31\")\n",
      "[*********************100%***********************]  1 of 1 completed\n"
     ]
    },
    {
     "data": {
      "text/html": [
       "<div>\n",
       "<style scoped>\n",
       "    .dataframe tbody tr th:only-of-type {\n",
       "        vertical-align: middle;\n",
       "    }\n",
       "\n",
       "    .dataframe tbody tr th {\n",
       "        vertical-align: top;\n",
       "    }\n",
       "\n",
       "    .dataframe thead tr th {\n",
       "        text-align: left;\n",
       "    }\n",
       "\n",
       "    .dataframe thead tr:last-of-type th {\n",
       "        text-align: right;\n",
       "    }\n",
       "</style>\n",
       "<table border=\"1\" class=\"dataframe\">\n",
       "  <thead>\n",
       "    <tr>\n",
       "      <th>Price</th>\n",
       "      <th>Close</th>\n",
       "      <th>High</th>\n",
       "      <th>Low</th>\n",
       "      <th>Open</th>\n",
       "      <th>Volume</th>\n",
       "    </tr>\n",
       "    <tr>\n",
       "      <th>Ticker</th>\n",
       "      <th>TSLA</th>\n",
       "      <th>TSLA</th>\n",
       "      <th>TSLA</th>\n",
       "      <th>TSLA</th>\n",
       "      <th>TSLA</th>\n",
       "    </tr>\n",
       "    <tr>\n",
       "      <th>Date</th>\n",
       "      <th></th>\n",
       "      <th></th>\n",
       "      <th></th>\n",
       "      <th></th>\n",
       "      <th></th>\n",
       "    </tr>\n",
       "  </thead>\n",
       "  <tbody>\n",
       "    <tr>\n",
       "      <th>2015-01-02</th>\n",
       "      <td>14.620667</td>\n",
       "      <td>14.883333</td>\n",
       "      <td>14.217333</td>\n",
       "      <td>14.858000</td>\n",
       "      <td>71466000</td>\n",
       "    </tr>\n",
       "    <tr>\n",
       "      <th>2015-01-05</th>\n",
       "      <td>14.006000</td>\n",
       "      <td>14.433333</td>\n",
       "      <td>13.810667</td>\n",
       "      <td>14.303333</td>\n",
       "      <td>80527500</td>\n",
       "    </tr>\n",
       "    <tr>\n",
       "      <th>2015-01-06</th>\n",
       "      <td>14.085333</td>\n",
       "      <td>14.280000</td>\n",
       "      <td>13.614000</td>\n",
       "      <td>14.004000</td>\n",
       "      <td>93928500</td>\n",
       "    </tr>\n",
       "    <tr>\n",
       "      <th>2015-01-07</th>\n",
       "      <td>14.063333</td>\n",
       "      <td>14.318667</td>\n",
       "      <td>13.985333</td>\n",
       "      <td>14.223333</td>\n",
       "      <td>44526000</td>\n",
       "    </tr>\n",
       "    <tr>\n",
       "      <th>2015-01-08</th>\n",
       "      <td>14.041333</td>\n",
       "      <td>14.253333</td>\n",
       "      <td>14.000667</td>\n",
       "      <td>14.187333</td>\n",
       "      <td>51637500</td>\n",
       "    </tr>\n",
       "  </tbody>\n",
       "</table>\n",
       "</div>"
      ],
      "text/plain": [
       "Price           Close       High        Low       Open    Volume\n",
       "Ticker           TSLA       TSLA       TSLA       TSLA      TSLA\n",
       "Date                                                            \n",
       "2015-01-02  14.620667  14.883333  14.217333  14.858000  71466000\n",
       "2015-01-05  14.006000  14.433333  13.810667  14.303333  80527500\n",
       "2015-01-06  14.085333  14.280000  13.614000  14.004000  93928500\n",
       "2015-01-07  14.063333  14.318667  13.985333  14.223333  44526000\n",
       "2015-01-08  14.041333  14.253333  14.000667  14.187333  51637500"
      ]
     },
     "execution_count": 123,
     "metadata": {},
     "output_type": "execute_result"
    }
   ],
   "source": [
    "import yfinance as yf\n",
    "\n",
    "df = yf.download(\"TSLA\", start=\"2015-01-01\", end=\"2024-12-31\")\n",
    "df.head()\n"
   ]
  },
  {
   "cell_type": "code",
   "execution_count": 124,
   "id": "dbe85ccd",
   "metadata": {},
   "outputs": [
    {
     "name": "stdout",
     "output_type": "stream",
     "text": [
      "<class 'pandas.core.frame.DataFrame'>\n",
      "DatetimeIndex: 2515 entries, 2015-01-02 to 2024-12-30\n",
      "Data columns (total 5 columns):\n",
      " #   Column          Non-Null Count  Dtype  \n",
      "---  ------          --------------  -----  \n",
      " 0   (Close, TSLA)   2515 non-null   float64\n",
      " 1   (High, TSLA)    2515 non-null   float64\n",
      " 2   (Low, TSLA)     2515 non-null   float64\n",
      " 3   (Open, TSLA)    2515 non-null   float64\n",
      " 4   (Volume, TSLA)  2515 non-null   int64  \n",
      "dtypes: float64(4), int64(1)\n",
      "memory usage: 117.9 KB\n"
     ]
    }
   ],
   "source": [
    "import pandas as pd\n",
    "df.info()\n"
   ]
  },
  {
   "cell_type": "code",
   "execution_count": 125,
   "id": "7f4e2641",
   "metadata": {},
   "outputs": [
    {
     "data": {
      "text/html": [
       "<div>\n",
       "<style scoped>\n",
       "    .dataframe tbody tr th:only-of-type {\n",
       "        vertical-align: middle;\n",
       "    }\n",
       "\n",
       "    .dataframe tbody tr th {\n",
       "        vertical-align: top;\n",
       "    }\n",
       "\n",
       "    .dataframe thead tr th {\n",
       "        text-align: left;\n",
       "    }\n",
       "</style>\n",
       "<table border=\"1\" class=\"dataframe\">\n",
       "  <thead>\n",
       "    <tr>\n",
       "      <th>Price</th>\n",
       "      <th>Close</th>\n",
       "      <th>High</th>\n",
       "      <th>Low</th>\n",
       "      <th>Open</th>\n",
       "      <th>Volume</th>\n",
       "    </tr>\n",
       "    <tr>\n",
       "      <th>Ticker</th>\n",
       "      <th>TSLA</th>\n",
       "      <th>TSLA</th>\n",
       "      <th>TSLA</th>\n",
       "      <th>TSLA</th>\n",
       "      <th>TSLA</th>\n",
       "    </tr>\n",
       "  </thead>\n",
       "  <tbody>\n",
       "    <tr>\n",
       "      <th>count</th>\n",
       "      <td>2515.000000</td>\n",
       "      <td>2515.000000</td>\n",
       "      <td>2515.000000</td>\n",
       "      <td>2515.000000</td>\n",
       "      <td>2.515000e+03</td>\n",
       "    </tr>\n",
       "    <tr>\n",
       "      <th>mean</th>\n",
       "      <td>115.564847</td>\n",
       "      <td>118.127021</td>\n",
       "      <td>112.871415</td>\n",
       "      <td>115.578935</td>\n",
       "      <td>1.123272e+08</td>\n",
       "    </tr>\n",
       "    <tr>\n",
       "      <th>std</th>\n",
       "      <td>114.104456</td>\n",
       "      <td>116.747743</td>\n",
       "      <td>111.357651</td>\n",
       "      <td>114.169550</td>\n",
       "      <td>7.408223e+07</td>\n",
       "    </tr>\n",
       "    <tr>\n",
       "      <th>min</th>\n",
       "      <td>9.578000</td>\n",
       "      <td>10.331333</td>\n",
       "      <td>9.403333</td>\n",
       "      <td>9.488000</td>\n",
       "      <td>1.062000e+07</td>\n",
       "    </tr>\n",
       "    <tr>\n",
       "      <th>25%</th>\n",
       "      <td>17.185000</td>\n",
       "      <td>17.480000</td>\n",
       "      <td>16.888333</td>\n",
       "      <td>17.174334</td>\n",
       "      <td>6.681690e+07</td>\n",
       "    </tr>\n",
       "    <tr>\n",
       "      <th>50%</th>\n",
       "      <td>28.502001</td>\n",
       "      <td>28.713333</td>\n",
       "      <td>27.333332</td>\n",
       "      <td>28.299999</td>\n",
       "      <td>9.286200e+07</td>\n",
       "    </tr>\n",
       "    <tr>\n",
       "      <th>75%</th>\n",
       "      <td>220.178337</td>\n",
       "      <td>225.253334</td>\n",
       "      <td>215.294998</td>\n",
       "      <td>220.825005</td>\n",
       "      <td>1.298032e+08</td>\n",
       "    </tr>\n",
       "    <tr>\n",
       "      <th>max</th>\n",
       "      <td>479.859985</td>\n",
       "      <td>488.540009</td>\n",
       "      <td>457.510010</td>\n",
       "      <td>475.899994</td>\n",
       "      <td>9.140820e+08</td>\n",
       "    </tr>\n",
       "  </tbody>\n",
       "</table>\n",
       "</div>"
      ],
      "text/plain": [
       "Price         Close         High          Low         Open        Volume\n",
       "Ticker         TSLA         TSLA         TSLA         TSLA          TSLA\n",
       "count   2515.000000  2515.000000  2515.000000  2515.000000  2.515000e+03\n",
       "mean     115.564847   118.127021   112.871415   115.578935  1.123272e+08\n",
       "std      114.104456   116.747743   111.357651   114.169550  7.408223e+07\n",
       "min        9.578000    10.331333     9.403333     9.488000  1.062000e+07\n",
       "25%       17.185000    17.480000    16.888333    17.174334  6.681690e+07\n",
       "50%       28.502001    28.713333    27.333332    28.299999  9.286200e+07\n",
       "75%      220.178337   225.253334   215.294998   220.825005  1.298032e+08\n",
       "max      479.859985   488.540009   457.510010   475.899994  9.140820e+08"
      ]
     },
     "execution_count": 125,
     "metadata": {},
     "output_type": "execute_result"
    }
   ],
   "source": [
    "df.describe()"
   ]
  },
  {
   "cell_type": "code",
   "execution_count": 126,
   "id": "79e0098b",
   "metadata": {},
   "outputs": [
    {
     "data": {
      "text/plain": [
       "MultiIndex([( 'Close', 'TSLA'),\n",
       "            (  'High', 'TSLA'),\n",
       "            (   'Low', 'TSLA'),\n",
       "            (  'Open', 'TSLA'),\n",
       "            ('Volume', 'TSLA')],\n",
       "           names=['Price', 'Ticker'])"
      ]
     },
     "execution_count": 126,
     "metadata": {},
     "output_type": "execute_result"
    }
   ],
   "source": [
    "df.columns"
   ]
  },
  {
   "cell_type": "code",
   "execution_count": 127,
   "id": "9f327610",
   "metadata": {},
   "outputs": [],
   "source": [
    "# df has MultiIndex columns like ('Close', 'TSLA')\n",
    "df.columns = df.columns.droplevel(1)  # Remove ticker name like 'TSLA'\n",
    "df.to_csv('TSLA_clean.csv')          \n"
   ]
  },
  {
   "cell_type": "code",
   "execution_count": 128,
   "id": "2eb76d57",
   "metadata": {},
   "outputs": [],
   "source": [
    "df = pd.read_csv('TSLA_clean.csv', index_col='Date', parse_dates=True)\n"
   ]
  },
  {
   "cell_type": "code",
   "execution_count": 129,
   "id": "db88caea",
   "metadata": {},
   "outputs": [
    {
     "data": {
      "text/html": [
       "<div>\n",
       "<style scoped>\n",
       "    .dataframe tbody tr th:only-of-type {\n",
       "        vertical-align: middle;\n",
       "    }\n",
       "\n",
       "    .dataframe tbody tr th {\n",
       "        vertical-align: top;\n",
       "    }\n",
       "\n",
       "    .dataframe thead th {\n",
       "        text-align: right;\n",
       "    }\n",
       "</style>\n",
       "<table border=\"1\" class=\"dataframe\">\n",
       "  <thead>\n",
       "    <tr style=\"text-align: right;\">\n",
       "      <th></th>\n",
       "      <th>Close</th>\n",
       "      <th>High</th>\n",
       "      <th>Low</th>\n",
       "      <th>Open</th>\n",
       "      <th>Volume</th>\n",
       "    </tr>\n",
       "    <tr>\n",
       "      <th>Date</th>\n",
       "      <th></th>\n",
       "      <th></th>\n",
       "      <th></th>\n",
       "      <th></th>\n",
       "      <th></th>\n",
       "    </tr>\n",
       "  </thead>\n",
       "  <tbody>\n",
       "    <tr>\n",
       "      <th>2015-01-02</th>\n",
       "      <td>14.620667</td>\n",
       "      <td>14.883333</td>\n",
       "      <td>14.217333</td>\n",
       "      <td>14.858000</td>\n",
       "      <td>71466000</td>\n",
       "    </tr>\n",
       "    <tr>\n",
       "      <th>2015-01-05</th>\n",
       "      <td>14.006000</td>\n",
       "      <td>14.433333</td>\n",
       "      <td>13.810667</td>\n",
       "      <td>14.303333</td>\n",
       "      <td>80527500</td>\n",
       "    </tr>\n",
       "    <tr>\n",
       "      <th>2015-01-06</th>\n",
       "      <td>14.085333</td>\n",
       "      <td>14.280000</td>\n",
       "      <td>13.614000</td>\n",
       "      <td>14.004000</td>\n",
       "      <td>93928500</td>\n",
       "    </tr>\n",
       "    <tr>\n",
       "      <th>2015-01-07</th>\n",
       "      <td>14.063333</td>\n",
       "      <td>14.318667</td>\n",
       "      <td>13.985333</td>\n",
       "      <td>14.223333</td>\n",
       "      <td>44526000</td>\n",
       "    </tr>\n",
       "    <tr>\n",
       "      <th>2015-01-08</th>\n",
       "      <td>14.041333</td>\n",
       "      <td>14.253333</td>\n",
       "      <td>14.000667</td>\n",
       "      <td>14.187333</td>\n",
       "      <td>51637500</td>\n",
       "    </tr>\n",
       "  </tbody>\n",
       "</table>\n",
       "</div>"
      ],
      "text/plain": [
       "                Close       High        Low       Open    Volume\n",
       "Date                                                            \n",
       "2015-01-02  14.620667  14.883333  14.217333  14.858000  71466000\n",
       "2015-01-05  14.006000  14.433333  13.810667  14.303333  80527500\n",
       "2015-01-06  14.085333  14.280000  13.614000  14.004000  93928500\n",
       "2015-01-07  14.063333  14.318667  13.985333  14.223333  44526000\n",
       "2015-01-08  14.041333  14.253333  14.000667  14.187333  51637500"
      ]
     },
     "execution_count": 129,
     "metadata": {},
     "output_type": "execute_result"
    }
   ],
   "source": [
    "df.head()"
   ]
  },
  {
   "cell_type": "code",
   "execution_count": 130,
   "id": "738240e0",
   "metadata": {},
   "outputs": [
    {
     "data": {
      "text/html": [
       "<div>\n",
       "<style scoped>\n",
       "    .dataframe tbody tr th:only-of-type {\n",
       "        vertical-align: middle;\n",
       "    }\n",
       "\n",
       "    .dataframe tbody tr th {\n",
       "        vertical-align: top;\n",
       "    }\n",
       "\n",
       "    .dataframe thead th {\n",
       "        text-align: right;\n",
       "    }\n",
       "</style>\n",
       "<table border=\"1\" class=\"dataframe\">\n",
       "  <thead>\n",
       "    <tr style=\"text-align: right;\">\n",
       "      <th></th>\n",
       "      <th>Close</th>\n",
       "      <th>High</th>\n",
       "      <th>Low</th>\n",
       "      <th>Open</th>\n",
       "      <th>Volume</th>\n",
       "    </tr>\n",
       "    <tr>\n",
       "      <th>Date</th>\n",
       "      <th></th>\n",
       "      <th></th>\n",
       "      <th></th>\n",
       "      <th></th>\n",
       "      <th></th>\n",
       "    </tr>\n",
       "  </thead>\n",
       "  <tbody>\n",
       "    <tr>\n",
       "      <th>2024-12-23</th>\n",
       "      <td>430.600006</td>\n",
       "      <td>434.510010</td>\n",
       "      <td>415.410004</td>\n",
       "      <td>431.000000</td>\n",
       "      <td>72698100</td>\n",
       "    </tr>\n",
       "    <tr>\n",
       "      <th>2024-12-24</th>\n",
       "      <td>462.279999</td>\n",
       "      <td>462.779999</td>\n",
       "      <td>435.140015</td>\n",
       "      <td>435.899994</td>\n",
       "      <td>59551800</td>\n",
       "    </tr>\n",
       "    <tr>\n",
       "      <th>2024-12-26</th>\n",
       "      <td>454.130005</td>\n",
       "      <td>465.329987</td>\n",
       "      <td>451.019989</td>\n",
       "      <td>465.160004</td>\n",
       "      <td>76366400</td>\n",
       "    </tr>\n",
       "    <tr>\n",
       "      <th>2024-12-27</th>\n",
       "      <td>431.660004</td>\n",
       "      <td>450.000000</td>\n",
       "      <td>426.500000</td>\n",
       "      <td>449.519989</td>\n",
       "      <td>82666800</td>\n",
       "    </tr>\n",
       "    <tr>\n",
       "      <th>2024-12-30</th>\n",
       "      <td>417.410004</td>\n",
       "      <td>427.000000</td>\n",
       "      <td>415.750000</td>\n",
       "      <td>419.399994</td>\n",
       "      <td>64941000</td>\n",
       "    </tr>\n",
       "  </tbody>\n",
       "</table>\n",
       "</div>"
      ],
      "text/plain": [
       "                 Close        High         Low        Open    Volume\n",
       "Date                                                                \n",
       "2024-12-23  430.600006  434.510010  415.410004  431.000000  72698100\n",
       "2024-12-24  462.279999  462.779999  435.140015  435.899994  59551800\n",
       "2024-12-26  454.130005  465.329987  451.019989  465.160004  76366400\n",
       "2024-12-27  431.660004  450.000000  426.500000  449.519989  82666800\n",
       "2024-12-30  417.410004  427.000000  415.750000  419.399994  64941000"
      ]
     },
     "execution_count": 130,
     "metadata": {},
     "output_type": "execute_result"
    }
   ],
   "source": [
    "df.tail()"
   ]
  },
  {
   "cell_type": "code",
   "execution_count": 131,
   "id": "e31c9052",
   "metadata": {},
   "outputs": [
    {
     "data": {
      "text/plain": [
       "0        14.620667\n",
       "1        14.006000\n",
       "2        14.085333\n",
       "3        14.063333\n",
       "4        14.041333\n",
       "           ...    \n",
       "2510    430.600006\n",
       "2511    462.279999\n",
       "2512    454.130005\n",
       "2513    431.660004\n",
       "2514    417.410004\n",
       "Name: Close, Length: 2515, dtype: float64"
      ]
     },
     "execution_count": 131,
     "metadata": {},
     "output_type": "execute_result"
    }
   ],
   "source": [
    "df1 = df.reset_index()['Close']\n",
    "df1"
   ]
  },
  {
   "cell_type": "code",
   "execution_count": 132,
   "id": "9a7fea71",
   "metadata": {},
   "outputs": [
    {
     "data": {
      "text/plain": [
       "[<matplotlib.lines.Line2D at 0x16bded1dd90>]"
      ]
     },
     "execution_count": 132,
     "metadata": {},
     "output_type": "execute_result"
    },
    {
     "data": {
      "image/png": "[encoded data removed]",
      "text/plain": [
       "<Figure size 640x480 with 1 Axes>"
      ]
     },
     "metadata": {},
     "output_type": "display_data"
    }
   ],
   "source": [
    "import matplotlib.pyplot as plt\n",
    "plt.plot(df1)"
   ]
  },
  {
   "cell_type": "code",
   "execution_count": 133,
   "id": "729b8f63",
   "metadata": {},
   "outputs": [
    {
     "name": "stdout",
     "output_type": "stream",
     "text": [
      "(1760,)\n",
      "(755,)\n"
     ]
    }
   ],
   "source": [
    "training_size = int(len(df1) * 0.70)\n",
    "train_data = df1[0:training_size]\n",
    "test_data = df1[training_size:]\n",
    "print(train_data.shape)\n",
    "print(test_data.shape)\n"
   ]
  },
  {
   "cell_type": "code",
   "execution_count": 134,
   "id": "a31eaecf",
   "metadata": {},
   "outputs": [],
   "source": [
    "from sklearn.preprocessing import MinMaxScaler\n",
    "scaler = MinMaxScaler(feature_range=(0,1))\n",
    "train_data = scaler.fit_transform(np.array(train_data).reshape(-1,1))\n",
    "test_data = scaler.transform(np.array(test_data).reshape(-1,1))\n"
   ]
  },
  {
   "cell_type": "code",
   "execution_count": 135,
   "id": "6e389925",
   "metadata": {},
   "outputs": [
    {
     "name": "stdout",
     "output_type": "stream",
     "text": [
      "[[0.01259433]\n",
      " [0.01105916]\n",
      " [0.0112573 ]\n",
      " ...\n",
      " [0.86437455]\n",
      " [0.8868026 ]\n",
      " [0.88224873]]\n"
     ]
    }
   ],
   "source": [
    "print(train_data)"
   ]
  },
  {
   "cell_type": "code",
   "execution_count": 136,
   "id": "13d1e135",
   "metadata": {},
   "outputs": [],
   "source": [
    "def create_dataset(dataset, time_step=1):\n",
    "    dataX, dataY = [],[]\n",
    "    for i in range(len(dataset)-time_step-1):\n",
    "        a = dataset[i:(i+time_step),0]\n",
    "        dataX.append(a)\n",
    "        dataY.append(dataset[i+time_step,0])\n",
    "\n",
    "    return np.array(dataX),np.array(dataY)"
   ]
  },
  {
   "cell_type": "code",
   "execution_count": 137,
   "id": "50aec0bf",
   "metadata": {},
   "outputs": [],
   "source": [
    "time_step = 100\n",
    "X_train, y_train = create_dataset(train_data, time_step)\n",
    "X_test, y_test = create_dataset(test_data,time_step)"
   ]
  },
  {
   "cell_type": "code",
   "execution_count": 138,
   "id": "d222269e",
   "metadata": {},
   "outputs": [
    {
     "name": "stdout",
     "output_type": "stream",
     "text": [
      "(1659, 100)\n",
      "(1659,)\n"
     ]
    },
    {
     "data": {
      "text/plain": [
       "(None, None)"
      ]
     },
     "execution_count": 138,
     "metadata": {},
     "output_type": "execute_result"
    }
   ],
   "source": [
    "print(X_train.shape),print(y_train.shape)"
   ]
  },
  {
   "cell_type": "code",
   "execution_count": 139,
   "id": "15fad829",
   "metadata": {},
   "outputs": [
    {
     "name": "stdout",
     "output_type": "stream",
     "text": [
      "(654, 100)\n",
      "(654,)\n"
     ]
    },
    {
     "data": {
      "text/plain": [
       "(None, None)"
      ]
     },
     "execution_count": 139,
     "metadata": {},
     "output_type": "execute_result"
    }
   ],
   "source": [
    "print(X_test.shape),print(y_test.shape)"
   ]
  },
  {
   "cell_type": "code",
   "execution_count": 140,
   "id": "d17776e3",
   "metadata": {},
   "outputs": [],
   "source": [
    "# reshape input to be [samples, time steps, features] which is required for LSTM\n",
    "X_train =X_train.reshape(X_train.shape[0],X_train.shape[1] , 1)\n",
    "X_test = X_test.reshape(X_test.shape[0],X_test.shape[1] , 1)"
   ]
  },
  {
   "cell_type": "code",
   "execution_count": 141,
   "id": "34cb0e44",
   "metadata": {},
   "outputs": [],
   "source": [
    "### Create the Stacked LSTM model\n",
    "from tensorflow.keras.models import Sequential\n",
    "from tensorflow.keras.layers import Dense\n",
    "from tensorflow.keras.layers import LSTM"
   ]
  },
  {
   "cell_type": "code",
   "execution_count": 142,
   "id": "fc63c03d",
   "metadata": {},
   "outputs": [
    {
     "name": "stderr",
     "output_type": "stream",
     "text": [
      "c:\\college\\PRACTICE AND PROJECTS\\ML\\Stock Trend Prediction using LSTM\\Stock-Trend-Prediction\\venv1\\Lib\\site-packages\\keras\\src\\layers\\rnn\\rnn.py:199: UserWarning: Do not pass an `input_shape`/`input_dim` argument to a layer. When using Sequential models, prefer using an `Input(shape)` object as the first layer in the model instead.\n",
      "  super().__init__(**kwargs)\n"
     ]
    }
   ],
   "source": [
    "model=Sequential()\n",
    "model.add(LSTM(50,return_sequences=True,input_shape=(100,1)))\n",
    "model.add(LSTM(50,return_sequences=True))\n",
    "model.add(LSTM(50))\n",
    "model.add(Dense(1))\n",
    "model.compile(loss='mean_squared_error',optimizer='adam')"
   ]
  },
  {
   "cell_type": "code",
   "execution_count": 143,
   "id": "308ca3d4",
   "metadata": {},
   "outputs": [
    {
     "data": {
      "text/html": [
       "<pre style=\"white-space:pre;overflow-x:auto;line-height:normal;font-family:Menlo,'DejaVu Sans Mono',consolas,'Courier New',monospace\"><span style=\"font-weight: bold\">Model: \"sequential_3\"</span>\n",
       "</pre>\n"
      ],
      "text/plain": [
       "\u001b[1mModel: \"sequential_3\"\u001b[0m\n"
      ]
     },
     "metadata": {},
     "output_type": "display_data"
    },
    {
     "data": {
      "text/html": [
       "<pre style=\"white-space:pre;overflow-x:auto;line-height:normal;font-family:Menlo,'DejaVu Sans Mono',consolas,'Courier New',monospace\">┏━━━━━━━━━━━━━━━━━━━━━━━━━━━━━━━━━┳━━━━━━━━━━━━━━━━━━━━━━━━┳━━━━━━━━━━━━━━━┓\n",
       "┃<span style=\"font-weight: bold\"> Layer (type)                    </span>┃<span style=\"font-weight: bold\"> Output Shape           </span>┃<span style=\"font-weight: bold\">       Param # </span>┃\n",
       "┡━━━━━━━━━━━━━━━━━━━━━━━━━━━━━━━━━╇━━━━━━━━━━━━━━━━━━━━━━━━╇━━━━━━━━━━━━━━━┩\n",
       "│ lstm_9 (<span style=\"color: #0087ff; text-decoration-color: #0087ff\">LSTM</span>)                   │ (<span style=\"color: #00d7ff; text-decoration-color: #00d7ff\">None</span>, <span style=\"color: #00af00; text-decoration-color: #00af00\">100</span>, <span style=\"color: #00af00; text-decoration-color: #00af00\">50</span>)        │        <span style=\"color: #00af00; text-decoration-color: #00af00\">10,400</span> │\n",
       "├─────────────────────────────────┼────────────────────────┼───────────────┤\n",
       "│ lstm_10 (<span style=\"color: #0087ff; text-decoration-color: #0087ff\">LSTM</span>)                  │ (<span style=\"color: #00d7ff; text-decoration-color: #00d7ff\">None</span>, <span style=\"color: #00af00; text-decoration-color: #00af00\">100</span>, <span style=\"color: #00af00; text-decoration-color: #00af00\">50</span>)        │        <span style=\"color: #00af00; text-decoration-color: #00af00\">20,200</span> │\n",
       "├─────────────────────────────────┼────────────────────────┼───────────────┤\n",
       "│ lstm_11 (<span style=\"color: #0087ff; text-decoration-color: #0087ff\">LSTM</span>)                  │ (<span style=\"color: #00d7ff; text-decoration-color: #00d7ff\">None</span>, <span style=\"color: #00af00; text-decoration-color: #00af00\">50</span>)             │        <span style=\"color: #00af00; text-decoration-color: #00af00\">20,200</span> │\n",
       "├─────────────────────────────────┼────────────────────────┼───────────────┤\n",
       "│ dense_3 (<span style=\"color: #0087ff; text-decoration-color: #0087ff\">Dense</span>)                 │ (<span style=\"color: #00d7ff; text-decoration-color: #00d7ff\">None</span>, <span style=\"color: #00af00; text-decoration-color: #00af00\">1</span>)              │            <span style=\"color: #00af00; text-decoration-color: #00af00\">51</span> │\n",
       "└─────────────────────────────────┴────────────────────────┴───────────────┘\n",
       "</pre>\n"
      ],
      "text/plain": [
       "┏━━━━━━━━━━━━━━━━━━━━━━━━━━━━━━━━━┳━━━━━━━━━━━━━━━━━━━━━━━━┳━━━━━━━━━━━━━━━┓\n",
       "┃\u001b[1m \u001b[0m\u001b[1mLayer (type)                   \u001b[0m\u001b[1m \u001b[0m┃\u001b[1m \u001b[0m\u001b[1mOutput Shape          \u001b[0m\u001b[1m \u001b[0m┃\u001b[1m \u001b[0m\u001b[1m      Param #\u001b[0m\u001b[1m \u001b[0m┃\n",
       "┡━━━━━━━━━━━━━━━━━━━━━━━━━━━━━━━━━╇━━━━━━━━━━━━━━━━━━━━━━━━╇━━━━━━━━━━━━━━━┩\n",
       "│ lstm_9 (\u001b[38;5;33mLSTM\u001b[0m)                   │ (\u001b[38;5;45mNone\u001b[0m, \u001b[38;5;34m100\u001b[0m, \u001b[38;5;34m50\u001b[0m)        │        \u001b[38;5;34m10,400\u001b[0m │\n",
       "├─────────────────────────────────┼────────────────────────┼───────────────┤\n",
       "│ lstm_10 (\u001b[38;5;33mLSTM\u001b[0m)                  │ (\u001b[38;5;45mNone\u001b[0m, \u001b[38;5;34m100\u001b[0m, \u001b[38;5;34m50\u001b[0m)        │        \u001b[38;5;34m20,200\u001b[0m │\n",
       "├─────────────────────────────────┼────────────────────────┼───────────────┤\n",
       "│ lstm_11 (\u001b[38;5;33mLSTM\u001b[0m)                  │ (\u001b[38;5;45mNone\u001b[0m, \u001b[38;5;34m50\u001b[0m)             │        \u001b[38;5;34m20,200\u001b[0m │\n",
       "├─────────────────────────────────┼────────────────────────┼───────────────┤\n",
       "│ dense_3 (\u001b[38;5;33mDense\u001b[0m)                 │ (\u001b[38;5;45mNone\u001b[0m, \u001b[38;5;34m1\u001b[0m)              │            \u001b[38;5;34m51\u001b[0m │\n",
       "└─────────────────────────────────┴────────────────────────┴───────────────┘\n"
      ]
     },
     "metadata": {},
     "output_type": "display_data"
    },
    {
     "data": {
      "text/html": [
       "<pre style=\"white-space:pre;overflow-x:auto;line-height:normal;font-family:Menlo,'DejaVu Sans Mono',consolas,'Courier New',monospace\"><span style=\"font-weight: bold\"> Total params: </span><span style=\"color: #00af00; text-decoration-color: #00af00\">50,851</span> (198.64 KB)\n",
       "</pre>\n"
      ],
      "text/plain": [
       "\u001b[1m Total params: \u001b[0m\u001b[38;5;34m50,851\u001b[0m (198.64 KB)\n"
      ]
     },
     "metadata": {},
     "output_type": "display_data"
    },
    {
     "data": {
      "text/html": [
       "<pre style=\"white-space:pre;overflow-x:auto;line-height:normal;font-family:Menlo,'DejaVu Sans Mono',consolas,'Courier New',monospace\"><span style=\"font-weight: bold\"> Trainable params: </span><span style=\"color: #00af00; text-decoration-color: #00af00\">50,851</span> (198.64 KB)\n",
       "</pre>\n"
      ],
      "text/plain": [
       "\u001b[1m Trainable params: \u001b[0m\u001b[38;5;34m50,851\u001b[0m (198.64 KB)\n"
      ]
     },
     "metadata": {},
     "output_type": "display_data"
    },
    {
     "data": {
      "text/html": [
       "<pre style=\"white-space:pre;overflow-x:auto;line-height:normal;font-family:Menlo,'DejaVu Sans Mono',consolas,'Courier New',monospace\"><span style=\"font-weight: bold\"> Non-trainable params: </span><span style=\"color: #00af00; text-decoration-color: #00af00\">0</span> (0.00 B)\n",
       "</pre>\n"
      ],
      "text/plain": [
       "\u001b[1m Non-trainable params: \u001b[0m\u001b[38;5;34m0\u001b[0m (0.00 B)\n"
      ]
     },
     "metadata": {},
     "output_type": "display_data"
    }
   ],
   "source": [
    "model.summary()"
   ]
  },
  {
   "cell_type": "code",
   "execution_count": 144,
   "id": "d9751816",
   "metadata": {},
   "outputs": [
    {
     "name": "stdout",
     "output_type": "stream",
     "text": [
      "Epoch 1/100\n",
      "\u001b[1m26/26\u001b[0m \u001b[32m━━━━━━━━━━━━━━━━━━━━\u001b[0m\u001b[37m\u001b[0m \u001b[1m6s\u001b[0m 106ms/step - loss: 0.0229 - val_loss: 0.0054\n",
      "Epoch 2/100\n",
      "\u001b[1m26/26\u001b[0m \u001b[32m━━━━━━━━━━━━━━━━━━━━\u001b[0m\u001b[37m\u001b[0m \u001b[1m2s\u001b[0m 84ms/step - loss: 0.0014 - val_loss: 0.0059\n",
      "Epoch 3/100\n",
      "\u001b[1m26/26\u001b[0m \u001b[32m━━━━━━━━━━━━━━━━━━━━\u001b[0m\u001b[37m\u001b[0m \u001b[1m2s\u001b[0m 80ms/step - loss: 8.3279e-04 - val_loss: 0.0058\n",
      "Epoch 4/100\n",
      "\u001b[1m26/26\u001b[0m \u001b[32m━━━━━━━━━━━━━━━━━━━━\u001b[0m\u001b[37m\u001b[0m \u001b[1m2s\u001b[0m 73ms/step - loss: 7.7916e-04 - val_loss: 0.0044\n",
      "Epoch 5/100\n",
      "\u001b[1m26/26\u001b[0m \u001b[32m━━━━━━━━━━━━━━━━━━━━\u001b[0m\u001b[37m\u001b[0m \u001b[1m2s\u001b[0m 82ms/step - loss: 0.0010 - val_loss: 0.0040\n",
      "Epoch 6/100\n",
      "\u001b[1m26/26\u001b[0m \u001b[32m━━━━━━━━━━━━━━━━━━━━\u001b[0m\u001b[37m\u001b[0m \u001b[1m2s\u001b[0m 84ms/step - loss: 5.8513e-04 - val_loss: 0.0038\n",
      "Epoch 7/100\n",
      "\u001b[1m26/26\u001b[0m \u001b[32m━━━━━━━━━━━━━━━━━━━━\u001b[0m\u001b[37m\u001b[0m \u001b[1m2s\u001b[0m 79ms/step - loss: 6.9330e-04 - val_loss: 0.0036\n",
      "Epoch 8/100\n",
      "\u001b[1m26/26\u001b[0m \u001b[32m━━━━━━━━━━━━━━━━━━━━\u001b[0m\u001b[37m\u001b[0m \u001b[1m2s\u001b[0m 73ms/step - loss: 6.7045e-04 - val_loss: 0.0039\n",
      "Epoch 9/100\n",
      "\u001b[1m26/26\u001b[0m \u001b[32m━━━━━━━━━━━━━━━━━━━━\u001b[0m\u001b[37m\u001b[0m \u001b[1m2s\u001b[0m 88ms/step - loss: 8.5956e-04 - val_loss: 0.0032\n",
      "Epoch 10/100\n",
      "\u001b[1m26/26\u001b[0m \u001b[32m━━━━━━━━━━━━━━━━━━━━\u001b[0m\u001b[37m\u001b[0m \u001b[1m2s\u001b[0m 90ms/step - loss: 7.7757e-04 - val_loss: 0.0030\n",
      "Epoch 11/100\n",
      "\u001b[1m26/26\u001b[0m \u001b[32m━━━━━━━━━━━━━━━━━━━━\u001b[0m\u001b[37m\u001b[0m \u001b[1m2s\u001b[0m 95ms/step - loss: 7.4791e-04 - val_loss: 0.0030\n",
      "Epoch 12/100\n",
      "\u001b[1m26/26\u001b[0m \u001b[32m━━━━━━━━━━━━━━━━━━━━\u001b[0m\u001b[37m\u001b[0m \u001b[1m3s\u001b[0m 100ms/step - loss: 6.1089e-04 - val_loss: 0.0030\n",
      "Epoch 13/100\n",
      "\u001b[1m26/26\u001b[0m \u001b[32m━━━━━━━━━━━━━━━━━━━━\u001b[0m\u001b[37m\u001b[0m \u001b[1m2s\u001b[0m 95ms/step - loss: 6.6185e-04 - val_loss: 0.0030\n",
      "Epoch 14/100\n",
      "\u001b[1m26/26\u001b[0m \u001b[32m━━━━━━━━━━━━━━━━━━━━\u001b[0m\u001b[37m\u001b[0m \u001b[1m3s\u001b[0m 96ms/step - loss: 5.7957e-04 - val_loss: 0.0034\n",
      "Epoch 15/100\n",
      "\u001b[1m26/26\u001b[0m \u001b[32m━━━━━━━━━━━━━━━━━━━━\u001b[0m\u001b[37m\u001b[0m \u001b[1m2s\u001b[0m 90ms/step - loss: 6.1224e-04 - val_loss: 0.0026\n",
      "Epoch 16/100\n",
      "\u001b[1m26/26\u001b[0m \u001b[32m━━━━━━━━━━━━━━━━━━━━\u001b[0m\u001b[37m\u001b[0m \u001b[1m2s\u001b[0m 94ms/step - loss: 5.4448e-04 - val_loss: 0.0029\n",
      "Epoch 17/100\n",
      "\u001b[1m26/26\u001b[0m \u001b[32m━━━━━━━━━━━━━━━━━━━━\u001b[0m\u001b[37m\u001b[0m \u001b[1m3s\u001b[0m 101ms/step - loss: 8.1361e-04 - val_loss: 0.0026\n",
      "Epoch 18/100\n",
      "\u001b[1m26/26\u001b[0m \u001b[32m━━━━━━━━━━━━━━━━━━━━\u001b[0m\u001b[37m\u001b[0m \u001b[1m2s\u001b[0m 92ms/step - loss: 5.6615e-04 - val_loss: 0.0025\n",
      "Epoch 19/100\n",
      "\u001b[1m26/26\u001b[0m \u001b[32m━━━━━━━━━━━━━━━━━━━━\u001b[0m\u001b[37m\u001b[0m \u001b[1m2s\u001b[0m 77ms/step - loss: 5.7367e-04 - val_loss: 0.0033\n",
      "Epoch 20/100\n",
      "\u001b[1m26/26\u001b[0m \u001b[32m━━━━━━━━━━━━━━━━━━━━\u001b[0m\u001b[37m\u001b[0m \u001b[1m2s\u001b[0m 79ms/step - loss: 5.8484e-04 - val_loss: 0.0027\n",
      "Epoch 21/100\n",
      "\u001b[1m26/26\u001b[0m \u001b[32m━━━━━━━━━━━━━━━━━━━━\u001b[0m\u001b[37m\u001b[0m \u001b[1m2s\u001b[0m 78ms/step - loss: 5.3914e-04 - val_loss: 0.0021\n",
      "Epoch 22/100\n",
      "\u001b[1m26/26\u001b[0m \u001b[32m━━━━━━━━━━━━━━━━━━━━\u001b[0m\u001b[37m\u001b[0m \u001b[1m2s\u001b[0m 79ms/step - loss: 4.6729e-04 - val_loss: 0.0021\n",
      "Epoch 23/100\n",
      "\u001b[1m26/26\u001b[0m \u001b[32m━━━━━━━━━━━━━━━━━━━━\u001b[0m\u001b[37m\u001b[0m \u001b[1m2s\u001b[0m 79ms/step - loss: 3.5520e-04 - val_loss: 0.0020\n",
      "Epoch 24/100\n",
      "\u001b[1m26/26\u001b[0m \u001b[32m━━━━━━━━━━━━━━━━━━━━\u001b[0m\u001b[37m\u001b[0m \u001b[1m2s\u001b[0m 73ms/step - loss: 5.4530e-04 - val_loss: 0.0027\n",
      "Epoch 25/100\n",
      "\u001b[1m26/26\u001b[0m \u001b[32m━━━━━━━━━━━━━━━━━━━━\u001b[0m\u001b[37m\u001b[0m \u001b[1m2s\u001b[0m 69ms/step - loss: 4.4175e-04 - val_loss: 0.0017\n",
      "Epoch 26/100\n",
      "\u001b[1m26/26\u001b[0m \u001b[32m━━━━━━━━━━━━━━━━━━━━\u001b[0m\u001b[37m\u001b[0m \u001b[1m2s\u001b[0m 82ms/step - loss: 4.4833e-04 - val_loss: 0.0016\n",
      "Epoch 27/100\n",
      "\u001b[1m26/26\u001b[0m \u001b[32m━━━━━━━━━━━━━━━━━━━━\u001b[0m\u001b[37m\u001b[0m \u001b[1m2s\u001b[0m 77ms/step - loss: 4.4312e-04 - val_loss: 0.0030\n",
      "Epoch 28/100\n",
      "\u001b[1m26/26\u001b[0m \u001b[32m━━━━━━━━━━━━━━━━━━━━\u001b[0m\u001b[37m\u001b[0m \u001b[1m2s\u001b[0m 76ms/step - loss: 5.0427e-04 - val_loss: 0.0015\n",
      "Epoch 29/100\n",
      "\u001b[1m26/26\u001b[0m \u001b[32m━━━━━━━━━━━━━━━━━━━━\u001b[0m\u001b[37m\u001b[0m \u001b[1m3s\u001b[0m 102ms/step - loss: 3.1105e-04 - val_loss: 0.0018\n",
      "Epoch 30/100\n",
      "\u001b[1m26/26\u001b[0m \u001b[32m━━━━━━━━━━━━━━━━━━━━\u001b[0m\u001b[37m\u001b[0m \u001b[1m3s\u001b[0m 98ms/step - loss: 3.4227e-04 - val_loss: 0.0014\n",
      "Epoch 31/100\n",
      "\u001b[1m26/26\u001b[0m \u001b[32m━━━━━━━━━━━━━━━━━━━━\u001b[0m\u001b[37m\u001b[0m \u001b[1m2s\u001b[0m 77ms/step - loss: 3.3731e-04 - val_loss: 0.0016\n",
      "Epoch 32/100\n",
      "\u001b[1m26/26\u001b[0m \u001b[32m━━━━━━━━━━━━━━━━━━━━\u001b[0m\u001b[37m\u001b[0m \u001b[1m2s\u001b[0m 80ms/step - loss: 3.2662e-04 - val_loss: 0.0013\n",
      "Epoch 33/100\n",
      "\u001b[1m26/26\u001b[0m \u001b[32m━━━━━━━━━━━━━━━━━━━━\u001b[0m\u001b[37m\u001b[0m \u001b[1m2s\u001b[0m 82ms/step - loss: 2.9729e-04 - val_loss: 0.0012\n",
      "Epoch 34/100\n",
      "\u001b[1m26/26\u001b[0m \u001b[32m━━━━━━━━━━━━━━━━━━━━\u001b[0m\u001b[37m\u001b[0m \u001b[1m2s\u001b[0m 73ms/step - loss: 2.7196e-04 - val_loss: 0.0011\n",
      "Epoch 35/100\n",
      "\u001b[1m26/26\u001b[0m \u001b[32m━━━━━━━━━━━━━━━━━━━━\u001b[0m\u001b[37m\u001b[0m \u001b[1m2s\u001b[0m 74ms/step - loss: 3.2795e-04 - val_loss: 0.0025\n",
      "Epoch 36/100\n",
      "\u001b[1m26/26\u001b[0m \u001b[32m━━━━━━━━━━━━━━━━━━━━\u001b[0m\u001b[37m\u001b[0m \u001b[1m2s\u001b[0m 82ms/step - loss: 2.7610e-04 - val_loss: 0.0011\n",
      "Epoch 37/100\n",
      "\u001b[1m26/26\u001b[0m \u001b[32m━━━━━━━━━━━━━━━━━━━━\u001b[0m\u001b[37m\u001b[0m \u001b[1m2s\u001b[0m 78ms/step - loss: 2.5050e-04 - val_loss: 0.0017\n",
      "Epoch 38/100\n",
      "\u001b[1m26/26\u001b[0m \u001b[32m━━━━━━━━━━━━━━━━━━━━\u001b[0m\u001b[37m\u001b[0m \u001b[1m2s\u001b[0m 72ms/step - loss: 2.5194e-04 - val_loss: 0.0011\n",
      "Epoch 39/100\n",
      "\u001b[1m26/26\u001b[0m \u001b[32m━━━━━━━━━━━━━━━━━━━━\u001b[0m\u001b[37m\u001b[0m \u001b[1m2s\u001b[0m 80ms/step - loss: 2.9902e-04 - val_loss: 0.0011\n",
      "Epoch 40/100\n",
      "\u001b[1m26/26\u001b[0m \u001b[32m━━━━━━━━━━━━━━━━━━━━\u001b[0m\u001b[37m\u001b[0m \u001b[1m2s\u001b[0m 77ms/step - loss: 3.1088e-04 - val_loss: 0.0010\n",
      "Epoch 41/100\n",
      "\u001b[1m26/26\u001b[0m \u001b[32m━━━━━━━━━━━━━━━━━━━━\u001b[0m\u001b[37m\u001b[0m \u001b[1m2s\u001b[0m 79ms/step - loss: 2.8894e-04 - val_loss: 0.0014\n",
      "Epoch 42/100\n",
      "\u001b[1m26/26\u001b[0m \u001b[32m━━━━━━━━━━━━━━━━━━━━\u001b[0m\u001b[37m\u001b[0m \u001b[1m2s\u001b[0m 75ms/step - loss: 2.5980e-04 - val_loss: 0.0010\n",
      "Epoch 43/100\n",
      "\u001b[1m26/26\u001b[0m \u001b[32m━━━━━━━━━━━━━━━━━━━━\u001b[0m\u001b[37m\u001b[0m \u001b[1m2s\u001b[0m 73ms/step - loss: 2.1223e-04 - val_loss: 0.0011\n",
      "Epoch 44/100\n",
      "\u001b[1m26/26\u001b[0m \u001b[32m━━━━━━━━━━━━━━━━━━━━\u001b[0m\u001b[37m\u001b[0m \u001b[1m2s\u001b[0m 92ms/step - loss: 2.3971e-04 - val_loss: 9.6271e-04\n",
      "Epoch 45/100\n",
      "\u001b[1m26/26\u001b[0m \u001b[32m━━━━━━━━━━━━━━━━━━━━\u001b[0m\u001b[37m\u001b[0m \u001b[1m3s\u001b[0m 102ms/step - loss: 2.3815e-04 - val_loss: 0.0013\n",
      "Epoch 46/100\n",
      "\u001b[1m26/26\u001b[0m \u001b[32m━━━━━━━━━━━━━━━━━━━━\u001b[0m\u001b[37m\u001b[0m \u001b[1m2s\u001b[0m 93ms/step - loss: 2.5854e-04 - val_loss: 9.1007e-04\n",
      "Epoch 47/100\n",
      "\u001b[1m26/26\u001b[0m \u001b[32m━━━━━━━━━━━━━━━━━━━━\u001b[0m\u001b[37m\u001b[0m \u001b[1m2s\u001b[0m 76ms/step - loss: 2.2405e-04 - val_loss: 0.0015\n",
      "Epoch 48/100\n",
      "\u001b[1m26/26\u001b[0m \u001b[32m━━━━━━━━━━━━━━━━━━━━\u001b[0m\u001b[37m\u001b[0m \u001b[1m2s\u001b[0m 78ms/step - loss: 3.3705e-04 - val_loss: 9.3874e-04\n",
      "Epoch 49/100\n",
      "\u001b[1m26/26\u001b[0m \u001b[32m━━━━━━━━━━━━━━━━━━━━\u001b[0m\u001b[37m\u001b[0m \u001b[1m2s\u001b[0m 75ms/step - loss: 1.9656e-04 - val_loss: 0.0014\n",
      "Epoch 50/100\n",
      "\u001b[1m26/26\u001b[0m \u001b[32m━━━━━━━━━━━━━━━━━━━━\u001b[0m\u001b[37m\u001b[0m \u001b[1m2s\u001b[0m 73ms/step - loss: 2.1987e-04 - val_loss: 8.8458e-04\n",
      "Epoch 51/100\n",
      "\u001b[1m26/26\u001b[0m \u001b[32m━━━━━━━━━━━━━━━━━━━━\u001b[0m\u001b[37m\u001b[0m \u001b[1m2s\u001b[0m 78ms/step - loss: 1.7899e-04 - val_loss: 8.7905e-04\n",
      "Epoch 52/100\n",
      "\u001b[1m26/26\u001b[0m \u001b[32m━━━━━━━━━━━━━━━━━━━━\u001b[0m\u001b[37m\u001b[0m \u001b[1m2s\u001b[0m 78ms/step - loss: 2.2220e-04 - val_loss: 8.3071e-04\n",
      "Epoch 53/100\n",
      "\u001b[1m26/26\u001b[0m \u001b[32m━━━━━━━━━━━━━━━━━━━━\u001b[0m\u001b[37m\u001b[0m \u001b[1m2s\u001b[0m 76ms/step - loss: 1.8913e-04 - val_loss: 8.4729e-04\n",
      "Epoch 54/100\n",
      "\u001b[1m26/26\u001b[0m \u001b[32m━━━━━━━━━━━━━━━━━━━━\u001b[0m\u001b[37m\u001b[0m \u001b[1m2s\u001b[0m 78ms/step - loss: 1.6715e-04 - val_loss: 0.0010\n",
      "Epoch 55/100\n",
      "\u001b[1m26/26\u001b[0m \u001b[32m━━━━━━━━━━━━━━━━━━━━\u001b[0m\u001b[37m\u001b[0m \u001b[1m2s\u001b[0m 84ms/step - loss: 1.8797e-04 - val_loss: 0.0011\n",
      "Epoch 56/100\n",
      "\u001b[1m26/26\u001b[0m \u001b[32m━━━━━━━━━━━━━━━━━━━━\u001b[0m\u001b[37m\u001b[0m \u001b[1m2s\u001b[0m 69ms/step - loss: 2.0330e-04 - val_loss: 8.3871e-04\n",
      "Epoch 57/100\n",
      "\u001b[1m26/26\u001b[0m \u001b[32m━━━━━━━━━━━━━━━━━━━━\u001b[0m\u001b[37m\u001b[0m \u001b[1m2s\u001b[0m 70ms/step - loss: 2.1918e-04 - val_loss: 8.9148e-04\n",
      "Epoch 58/100\n",
      "\u001b[1m26/26\u001b[0m \u001b[32m━━━━━━━━━━━━━━━━━━━━\u001b[0m\u001b[37m\u001b[0m \u001b[1m2s\u001b[0m 80ms/step - loss: 1.9431e-04 - val_loss: 8.5112e-04\n",
      "Epoch 59/100\n",
      "\u001b[1m26/26\u001b[0m \u001b[32m━━━━━━━━━━━━━━━━━━━━\u001b[0m\u001b[37m\u001b[0m \u001b[1m2s\u001b[0m 79ms/step - loss: 1.5795e-04 - val_loss: 9.5318e-04\n",
      "Epoch 60/100\n",
      "\u001b[1m26/26\u001b[0m \u001b[32m━━━━━━━━━━━━━━━━━━━━\u001b[0m\u001b[37m\u001b[0m \u001b[1m2s\u001b[0m 77ms/step - loss: 2.0287e-04 - val_loss: 7.2033e-04\n",
      "Epoch 61/100\n",
      "\u001b[1m26/26\u001b[0m \u001b[32m━━━━━━━━━━━━━━━━━━━━\u001b[0m\u001b[37m\u001b[0m \u001b[1m2s\u001b[0m 81ms/step - loss: 2.3389e-04 - val_loss: 7.2420e-04\n",
      "Epoch 62/100\n",
      "\u001b[1m26/26\u001b[0m \u001b[32m━━━━━━━━━━━━━━━━━━━━\u001b[0m\u001b[37m\u001b[0m \u001b[1m2s\u001b[0m 77ms/step - loss: 1.8289e-04 - val_loss: 8.5579e-04\n",
      "Epoch 63/100\n",
      "\u001b[1m26/26\u001b[0m \u001b[32m━━━━━━━━━━━━━━━━━━━━\u001b[0m\u001b[37m\u001b[0m \u001b[1m2s\u001b[0m 71ms/step - loss: 1.6073e-04 - val_loss: 9.4162e-04\n",
      "Epoch 64/100\n",
      "\u001b[1m26/26\u001b[0m \u001b[32m━━━━━━━━━━━━━━━━━━━━\u001b[0m\u001b[37m\u001b[0m \u001b[1m2s\u001b[0m 73ms/step - loss: 2.2561e-04 - val_loss: 0.0014\n",
      "Epoch 65/100\n",
      "\u001b[1m26/26\u001b[0m \u001b[32m━━━━━━━━━━━━━━━━━━━━\u001b[0m\u001b[37m\u001b[0m \u001b[1m2s\u001b[0m 77ms/step - loss: 2.2864e-04 - val_loss: 9.3862e-04\n",
      "Epoch 66/100\n",
      "\u001b[1m26/26\u001b[0m \u001b[32m━━━━━━━━━━━━━━━━━━━━\u001b[0m\u001b[37m\u001b[0m \u001b[1m2s\u001b[0m 71ms/step - loss: 1.7201e-04 - val_loss: 7.8975e-04\n",
      "Epoch 67/100\n",
      "\u001b[1m26/26\u001b[0m \u001b[32m━━━━━━━━━━━━━━━━━━━━\u001b[0m\u001b[37m\u001b[0m \u001b[1m2s\u001b[0m 71ms/step - loss: 1.9719e-04 - val_loss: 7.8659e-04\n",
      "Epoch 68/100\n",
      "\u001b[1m26/26\u001b[0m \u001b[32m━━━━━━━━━━━━━━━━━━━━\u001b[0m\u001b[37m\u001b[0m \u001b[1m2s\u001b[0m 84ms/step - loss: 1.7749e-04 - val_loss: 8.0105e-04\n",
      "Epoch 69/100\n",
      "\u001b[1m26/26\u001b[0m \u001b[32m━━━━━━━━━━━━━━━━━━━━\u001b[0m\u001b[37m\u001b[0m \u001b[1m2s\u001b[0m 74ms/step - loss: 1.8062e-04 - val_loss: 9.7877e-04\n",
      "Epoch 70/100\n",
      "\u001b[1m26/26\u001b[0m \u001b[32m━━━━━━━━━━━━━━━━━━━━\u001b[0m\u001b[37m\u001b[0m \u001b[1m2s\u001b[0m 68ms/step - loss: 2.8404e-04 - val_loss: 6.2647e-04\n",
      "Epoch 71/100\n",
      "\u001b[1m26/26\u001b[0m \u001b[32m━━━━━━━━━━━━━━━━━━━━\u001b[0m\u001b[37m\u001b[0m \u001b[1m2s\u001b[0m 93ms/step - loss: 1.7240e-04 - val_loss: 0.0013\n",
      "Epoch 72/100\n",
      "\u001b[1m26/26\u001b[0m \u001b[32m━━━━━━━━━━━━━━━━━━━━\u001b[0m\u001b[37m\u001b[0m \u001b[1m3s\u001b[0m 96ms/step - loss: 2.0559e-04 - val_loss: 6.8895e-04\n",
      "Epoch 73/100\n",
      "\u001b[1m26/26\u001b[0m \u001b[32m━━━━━━━━━━━━━━━━━━━━\u001b[0m\u001b[37m\u001b[0m \u001b[1m2s\u001b[0m 90ms/step - loss: 1.5628e-04 - val_loss: 6.4713e-04\n",
      "Epoch 74/100\n",
      "\u001b[1m26/26\u001b[0m \u001b[32m━━━━━━━━━━━━━━━━━━━━\u001b[0m\u001b[37m\u001b[0m \u001b[1m2s\u001b[0m 71ms/step - loss: 1.4098e-04 - val_loss: 6.3297e-04\n",
      "Epoch 75/100\n",
      "\u001b[1m26/26\u001b[0m \u001b[32m━━━━━━━━━━━━━━━━━━━━\u001b[0m\u001b[37m\u001b[0m \u001b[1m2s\u001b[0m 81ms/step - loss: 1.5233e-04 - val_loss: 0.0011\n",
      "Epoch 76/100\n",
      "\u001b[1m26/26\u001b[0m \u001b[32m━━━━━━━━━━━━━━━━━━━━\u001b[0m\u001b[37m\u001b[0m \u001b[1m2s\u001b[0m 74ms/step - loss: 1.6883e-04 - val_loss: 0.0011\n",
      "Epoch 77/100\n",
      "\u001b[1m26/26\u001b[0m \u001b[32m━━━━━━━━━━━━━━━━━━━━\u001b[0m\u001b[37m\u001b[0m \u001b[1m2s\u001b[0m 67ms/step - loss: 1.4809e-04 - val_loss: 6.1414e-04\n",
      "Epoch 78/100\n",
      "\u001b[1m26/26\u001b[0m \u001b[32m━━━━━━━━━━━━━━━━━━━━\u001b[0m\u001b[37m\u001b[0m \u001b[1m2s\u001b[0m 80ms/step - loss: 1.3913e-04 - val_loss: 5.7859e-04\n",
      "Epoch 79/100\n",
      "\u001b[1m26/26\u001b[0m \u001b[32m━━━━━━━━━━━━━━━━━━━━\u001b[0m\u001b[37m\u001b[0m \u001b[1m2s\u001b[0m 77ms/step - loss: 1.6252e-04 - val_loss: 5.6370e-04\n",
      "Epoch 80/100\n",
      "\u001b[1m26/26\u001b[0m \u001b[32m━━━━━━━━━━━━━━━━━━━━\u001b[0m\u001b[37m\u001b[0m \u001b[1m2s\u001b[0m 70ms/step - loss: 1.4170e-04 - val_loss: 5.5678e-04\n",
      "Epoch 81/100\n",
      "\u001b[1m26/26\u001b[0m \u001b[32m━━━━━━━━━━━━━━━━━━━━\u001b[0m\u001b[37m\u001b[0m \u001b[1m2s\u001b[0m 71ms/step - loss: 1.3853e-04 - val_loss: 0.0011\n",
      "Epoch 82/100\n",
      "\u001b[1m26/26\u001b[0m \u001b[32m━━━━━━━━━━━━━━━━━━━━\u001b[0m\u001b[37m\u001b[0m \u001b[1m2s\u001b[0m 77ms/step - loss: 1.5109e-04 - val_loss: 6.4285e-04\n",
      "Epoch 83/100\n",
      "\u001b[1m26/26\u001b[0m \u001b[32m━━━━━━━━━━━━━━━━━━━━\u001b[0m\u001b[37m\u001b[0m \u001b[1m2s\u001b[0m 74ms/step - loss: 1.3202e-04 - val_loss: 7.0997e-04\n",
      "Epoch 84/100\n",
      "\u001b[1m26/26\u001b[0m \u001b[32m━━━━━━━━━━━━━━━━━━━━\u001b[0m\u001b[37m\u001b[0m \u001b[1m2s\u001b[0m 70ms/step - loss: 1.5126e-04 - val_loss: 6.9557e-04\n",
      "Epoch 85/100\n",
      "\u001b[1m26/26\u001b[0m \u001b[32m━━━━━━━━━━━━━━━━━━━━\u001b[0m\u001b[37m\u001b[0m \u001b[1m2s\u001b[0m 74ms/step - loss: 1.3418e-04 - val_loss: 5.9230e-04\n",
      "Epoch 86/100\n",
      "\u001b[1m26/26\u001b[0m \u001b[32m━━━━━━━━━━━━━━━━━━━━\u001b[0m\u001b[37m\u001b[0m \u001b[1m2s\u001b[0m 72ms/step - loss: 1.2719e-04 - val_loss: 5.6977e-04\n",
      "Epoch 87/100\n",
      "\u001b[1m26/26\u001b[0m \u001b[32m━━━━━━━━━━━━━━━━━━━━\u001b[0m\u001b[37m\u001b[0m \u001b[1m2s\u001b[0m 70ms/step - loss: 1.4054e-04 - val_loss: 8.4302e-04\n",
      "Epoch 88/100\n",
      "\u001b[1m26/26\u001b[0m \u001b[32m━━━━━━━━━━━━━━━━━━━━\u001b[0m\u001b[37m\u001b[0m \u001b[1m2s\u001b[0m 72ms/step - loss: 1.9017e-04 - val_loss: 6.8880e-04\n",
      "Epoch 89/100\n",
      "\u001b[1m26/26\u001b[0m \u001b[32m━━━━━━━━━━━━━━━━━━━━\u001b[0m\u001b[37m\u001b[0m \u001b[1m2s\u001b[0m 76ms/step - loss: 1.5486e-04 - val_loss: 6.0907e-04\n",
      "Epoch 90/100\n",
      "\u001b[1m26/26\u001b[0m \u001b[32m━━━━━━━━━━━━━━━━━━━━\u001b[0m\u001b[37m\u001b[0m \u001b[1m2s\u001b[0m 68ms/step - loss: 1.3759e-04 - val_loss: 8.0757e-04\n",
      "Epoch 91/100\n",
      "\u001b[1m26/26\u001b[0m \u001b[32m━━━━━━━━━━━━━━━━━━━━\u001b[0m\u001b[37m\u001b[0m \u001b[1m2s\u001b[0m 69ms/step - loss: 1.3593e-04 - val_loss: 5.6648e-04\n",
      "Epoch 92/100\n",
      "\u001b[1m26/26\u001b[0m \u001b[32m━━━━━━━━━━━━━━━━━━━━\u001b[0m\u001b[37m\u001b[0m \u001b[1m2s\u001b[0m 86ms/step - loss: 1.3681e-04 - val_loss: 5.5270e-04\n",
      "Epoch 93/100\n",
      "\u001b[1m26/26\u001b[0m \u001b[32m━━━━━━━━━━━━━━━━━━━━\u001b[0m\u001b[37m\u001b[0m \u001b[1m2s\u001b[0m 76ms/step - loss: 1.6735e-04 - val_loss: 8.8148e-04\n",
      "Epoch 94/100\n",
      "\u001b[1m26/26\u001b[0m \u001b[32m━━━━━━━━━━━━━━━━━━━━\u001b[0m\u001b[37m\u001b[0m \u001b[1m2s\u001b[0m 73ms/step - loss: 1.7853e-04 - val_loss: 6.5142e-04\n",
      "Epoch 95/100\n",
      "\u001b[1m26/26\u001b[0m \u001b[32m━━━━━━━━━━━━━━━━━━━━\u001b[0m\u001b[37m\u001b[0m \u001b[1m2s\u001b[0m 77ms/step - loss: 1.2640e-04 - val_loss: 5.4919e-04\n",
      "Epoch 96/100\n",
      "\u001b[1m26/26\u001b[0m \u001b[32m━━━━━━━━━━━━━━━━━━━━\u001b[0m\u001b[37m\u001b[0m \u001b[1m2s\u001b[0m 79ms/step - loss: 1.2996e-04 - val_loss: 5.7159e-04\n",
      "Epoch 97/100\n",
      "\u001b[1m26/26\u001b[0m \u001b[32m━━━━━━━━━━━━━━━━━━━━\u001b[0m\u001b[37m\u001b[0m \u001b[1m2s\u001b[0m 77ms/step - loss: 1.2532e-04 - val_loss: 6.8114e-04\n",
      "Epoch 98/100\n",
      "\u001b[1m26/26\u001b[0m \u001b[32m━━━━━━━━━━━━━━━━━━━━\u001b[0m\u001b[37m\u001b[0m \u001b[1m2s\u001b[0m 79ms/step - loss: 1.4446e-04 - val_loss: 5.2230e-04\n",
      "Epoch 99/100\n",
      "\u001b[1m26/26\u001b[0m \u001b[32m━━━━━━━━━━━━━━━━━━━━\u001b[0m\u001b[37m\u001b[0m \u001b[1m2s\u001b[0m 86ms/step - loss: 1.6149e-04 - val_loss: 5.5490e-04\n",
      "Epoch 100/100\n",
      "\u001b[1m26/26\u001b[0m \u001b[32m━━━━━━━━━━━━━━━━━━━━\u001b[0m\u001b[37m\u001b[0m \u001b[1m3s\u001b[0m 95ms/step - loss: 1.7424e-04 - val_loss: 5.1666e-04\n"
     ]
    },
    {
     "data": {
      "text/plain": [
       "<keras.src.callbacks.history.History at 0x16be35c1810>"
      ]
     },
     "execution_count": 144,
     "metadata": {},
     "output_type": "execute_result"
    }
   ],
   "source": [
    "model.fit(X_train,y_train,validation_data=(X_test,y_test),epochs=100,batch_size=64,verbose=1)"
   ]
  },
  {
   "cell_type": "code",
   "execution_count": 145,
   "id": "6b8a0c72",
   "metadata": {},
   "outputs": [
    {
     "name": "stdout",
     "output_type": "stream",
     "text": [
      "\u001b[1m52/52\u001b[0m \u001b[32m━━━━━━━━━━━━━━━━━━━━\u001b[0m\u001b[37m\u001b[0m \u001b[1m2s\u001b[0m 29ms/step\n",
      "\u001b[1m21/21\u001b[0m \u001b[32m━━━━━━━━━━━━━━━━━━━━\u001b[0m\u001b[37m\u001b[0m \u001b[1m1s\u001b[0m 26ms/step\n"
     ]
    }
   ],
   "source": [
    "### Lets Do the prediction and check performance metrics\n",
    "train_predict=model.predict(X_train)\n",
    "test_predict=model.predict(X_test)"
   ]
  },
  {
   "cell_type": "code",
   "execution_count": null,
   "id": "3a7b85d4",
   "metadata": {},
   "outputs": [],
   "source": [
    "##Transformback to original form\n",
    "train_predict=scaler.inverse_transform(train_predict)\n",
    "test_predict=scaler.inverse_transform(test_predict)"
   ]
  },
  {
   "cell_type": "code",
   "execution_count": null,
   "id": "8051b95a",
   "metadata": {},
   "outputs": [],
   "source": [
    "# Inverse y_train/y_test for RMSE\n",
    "y_train_inv = scaler.inverse_transform(y_train.reshape(-1, 1))\n",
    "y_test_inv  = scaler.inverse_transform(y_test.reshape(-1, 1))"
   ]
  },
  {
   "cell_type": "code",
   "execution_count": 150,
   "id": "f4272b08",
   "metadata": {},
   "outputs": [],
   "source": [
    "### Calculate RMSE performance metrics\n",
    "import math\n",
    "from sklearn.metrics import mean_squared_error\n"
   ]
  },
  {
   "cell_type": "code",
   "execution_count": 151,
   "id": "fe4c8613",
   "metadata": {},
   "outputs": [
    {
     "name": "stdout",
     "output_type": "stream",
     "text": [
      "Train RMSE: 4.372483592654929\n",
      "Test RMSE : 9.100986648209803\n"
     ]
    }
   ],
   "source": [
    "# RMSE\n",
    "print(\"Train RMSE:\", math.sqrt(mean_squared_error(y_train_inv, train_predict)))\n",
    "print(\"Test RMSE :\", math.sqrt(mean_squared_error(y_test_inv, test_predict)))"
   ]
  },
  {
   "cell_type": "code",
   "execution_count": 158,
   "id": "2b7be14d",
   "metadata": {},
   "outputs": [
    {
     "data": {
      "image/png": "[encoded data removed]",
      "text/plain": [
       "<Figure size 640x480 with 1 Axes>"
      ]
     },
     "metadata": {},
     "output_type": "display_data"
    }
   ],
   "source": [
    "### Plotting \n",
    "# shift train predictions for plotting\n",
    "look_back=100\n",
    "df1 = np.array(df1).reshape(-1,1)\n",
    "trainPredictPlot = np.empty_like(df1)\n",
    "trainPredictPlot[:, :] = np.nan\n",
    "trainPredictPlot[look_back:len(train_predict)+look_back, :] = train_predict\n",
    "# shift test predictions for plotting\n",
    "testPredictPlot = np.empty_like(df1)\n",
    "testPredictPlot[:, :] = np.nan\n",
    "testPredictPlot[len(train_predict)+(look_back*2)+1:len(df1)-1, :] = test_predict\n",
    "# plot baseline and predictions\n",
    "plt.plot(df1, label=\"Original\")\n",
    "plt.plot(trainPredictPlot, label=\"Train Prediction\")\n",
    "plt.plot(testPredictPlot, label=\"Test Prediction\")\n",
    "plt.legend()\n",
    "plt.show()"
   ]
  },
  {
   "cell_type": "code",
   "execution_count": 160,
   "id": "5f765090",
   "metadata": {},
   "outputs": [],
   "source": [
    "x_input=test_data[-time_step:].reshape(1,-1)\n"
   ]
  },
  {
   "cell_type": "code",
   "execution_count": 161,
   "id": "93b4e0d5",
   "metadata": {},
   "outputs": [],
   "source": [
    "temp_input=list(x_input)\n",
    "temp_input=temp_input[0].tolist()"
   ]
  },
  {
   "cell_type": "code",
   "execution_count": 162,
   "id": "6aff8a10",
   "metadata": {},
   "outputs": [
    {
     "data": {
      "text/plain": [
       "[0.47269175139530006,\n",
       " 0.4755889213157073,\n",
       " 0.4693200785325998,\n",
       " 0.495144761114019,\n",
       " 0.4790355558110065,\n",
       " 0.5109043106066117,\n",
       " 0.5158494536710136,\n",
       " 0.5323333146985206,\n",
       " 0.5282872920194303,\n",
       " 0.5337069761357504,\n",
       " 0.5022128389550148,\n",
       " 0.5263392042028591,\n",
       " 0.5085816051751709,\n",
       " 0.49859139560931814,\n",
       " 0.4899498475666206,\n",
       " 0.4912735472853261,\n",
       " 0.5108293870836378,\n",
       " 0.502062991909067,\n",
       " 0.5240664223803175,\n",
       " 0.5509400723929964,\n",
       " 0.5023876478054121,\n",
       " 0.5162241093955081,\n",
       " 0.5409498628271436,\n",
       " 0.5458450822826465,\n",
       " 0.5500409520076844,\n",
       " 0.5512397664848918,\n",
       " 0.5424733713103211,\n",
       " 0.545195694270706,\n",
       " 0.5435223387415806,\n",
       " 0.5852814177756149,\n",
       " 0.5711203002891738,\n",
       " 0.6004665408888661,\n",
       " 0.6111311002711088,\n",
       " 0.6179993312380074,\n",
       " 0.6110062150296107,\n",
       " 0.6265909175621808,\n",
       " 0.6295130873966628,\n",
       " 0.6204968836294706,\n",
       " 0.5980189502159271,\n",
       " 0.57713941069891,\n",
       " 0.6006663496533381,\n",
       " 0.5775639900323037,\n",
       " 0.5867300027358187,\n",
       " 0.5781134546071957,\n",
       " 0.5724190382034295,\n",
       " 0.5200453615056769,\n",
       " 0.5234420342824517,\n",
       " 0.5244660399092618,\n",
       " 0.5288617183987718,\n",
       " 0.527762789248988,\n",
       " 0.52728824819707,\n",
       " 0.5226677991386381,\n",
       " 0.5204699408390706,\n",
       " 0.5096804962153297,\n",
       " 0.6266409173903302,\n",
       " 0.6483945773785844,\n",
       " 0.6317109456962304,\n",
       " 0.6242432122166655,\n",
       " 0.6193230309567129,\n",
       " 0.6000919232739965,\n",
       " 0.5979190267788785,\n",
       " 0.5825840566196798,\n",
       " 0.604063022430113,\n",
       " 0.6966972314831722,\n",
       " 0.7176267327187136,\n",
       " 0.7783422252576434,\n",
       " 0.8502217800351836,\n",
       " 0.7964994037046506,\n",
       " 0.8008701203897112,\n",
       " 0.7532667779059631,\n",
       " 0.7770934490619118,\n",
       " 0.8220993157171481,\n",
       " 0.8402315704693308,\n",
       " 0.830316284426452,\n",
       " 0.8243471738448651,\n",
       " 0.856615508059789,\n",
       " 0.8217246981022787,\n",
       " 0.8208256158265921,\n",
       " 0.8074886952024887,\n",
       " 0.8381336356068118,\n",
       " 0.8679294173443474,\n",
       " 0.8537683379675314,\n",
       " 0.8700273522068664,\n",
       " 0.8988990517546407,\n",
       " 0.9481757878771392,\n",
       " 0.9495994110328932,\n",
       " 0.9775719520857307,\n",
       " 1.036963744905955,\n",
       " 1.0203051131376757,\n",
       " 1.065585750189983,\n",
       " 1.1324951238794214,\n",
       " 1.1745538970053513,\n",
       " 1.0753261892728394,\n",
       " 1.0654359031440355,\n",
       " 1.0276978468750166,\n",
       " 1.0515245180309654,\n",
       " 1.1306469594998987,\n",
       " 1.110291922753324,\n",
       " 1.0541719174683764,\n",
       " 1.018581795890026]"
      ]
     },
     "execution_count": 162,
     "metadata": {},
     "output_type": "execute_result"
    }
   ],
   "source": [
    "temp_input"
   ]
  },
  {
   "cell_type": "code",
   "execution_count": 163,
   "id": "0e2faa8d",
   "metadata": {},
   "outputs": [
    {
     "name": "stdout",
     "output_type": "stream",
     "text": [
      "[0.9897069]\n",
      "101\n",
      "1 day input [0.47558892 0.46932008 0.49514476 0.47903556 0.51090431 0.51584945\n",
      " 0.53233331 0.52828729 0.53370698 0.50221284 0.5263392  0.50858161\n",
      " 0.4985914  0.48994985 0.49127355 0.51082939 0.50206299 0.52406642\n",
      " 0.55094007 0.50238765 0.51622411 0.54094986 0.54584508 0.55004095\n",
      " 0.55123977 0.54247337 0.54519569 0.54352234 0.58528142 0.5711203\n",
      " 0.60046654 0.6111311  0.61799933 0.61100622 0.62659092 0.62951309\n",
      " 0.62049688 0.59801895 0.57713941 0.60066635 0.57756399 0.58673\n",
      " 0.57811345 0.57241904 0.52004536 0.52344203 0.52446604 0.52886172\n",
      " 0.52776279 0.52728825 0.5226678  0.52046994 0.5096805  0.62664092\n",
      " 0.64839458 0.63171095 0.62424321 0.61932303 0.60009192 0.59791903\n",
      " 0.58258406 0.60406302 0.69669723 0.71762673 0.77834223 0.85022178\n",
      " 0.7964994  0.80087012 0.75326678 0.77709345 0.82209932 0.84023157\n",
      " 0.83031628 0.82434717 0.85661551 0.8217247  0.82082562 0.8074887\n",
      " 0.83813364 0.86792942 0.85376834 0.87002735 0.89889905 0.94817579\n",
      " 0.94959941 0.97757195 1.03696374 1.02030511 1.06558575 1.13249512\n",
      " 1.1745539  1.07532619 1.0654359  1.02769785 1.05152452 1.13064696\n",
      " 1.11029192 1.05417192 1.0185818  0.98970687]\n",
      "1 day output [[0.9687735]]\n",
      "2 day input [0.46932008 0.49514476 0.47903556 0.51090431 0.51584945 0.53233331\n",
      " 0.52828729 0.53370698 0.50221284 0.5263392  0.50858161 0.4985914\n",
      " 0.48994985 0.49127355 0.51082939 0.50206299 0.52406642 0.55094007\n",
      " 0.50238765 0.51622411 0.54094986 0.54584508 0.55004095 0.55123977\n",
      " 0.54247337 0.54519569 0.54352234 0.58528142 0.5711203  0.60046654\n",
      " 0.6111311  0.61799933 0.61100622 0.62659092 0.62951309 0.62049688\n",
      " 0.59801895 0.57713941 0.60066635 0.57756399 0.58673    0.57811345\n",
      " 0.57241904 0.52004536 0.52344203 0.52446604 0.52886172 0.52776279\n",
      " 0.52728825 0.5226678  0.52046994 0.5096805  0.62664092 0.64839458\n",
      " 0.63171095 0.62424321 0.61932303 0.60009192 0.59791903 0.58258406\n",
      " 0.60406302 0.69669723 0.71762673 0.77834223 0.85022178 0.7964994\n",
      " 0.80087012 0.75326678 0.77709345 0.82209932 0.84023157 0.83031628\n",
      " 0.82434717 0.85661551 0.8217247  0.82082562 0.8074887  0.83813364\n",
      " 0.86792942 0.85376834 0.87002735 0.89889905 0.94817579 0.94959941\n",
      " 0.97757195 1.03696374 1.02030511 1.06558575 1.13249512 1.1745539\n",
      " 1.07532619 1.0654359  1.02769785 1.05152452 1.13064696 1.11029192\n",
      " 1.05417192 1.0185818  0.98970687 0.96877348]\n",
      "2 day output [[0.9524707]]\n",
      "3 day input [0.49514476 0.47903556 0.51090431 0.51584945 0.53233331 0.52828729\n",
      " 0.53370698 0.50221284 0.5263392  0.50858161 0.4985914  0.48994985\n",
      " 0.49127355 0.51082939 0.50206299 0.52406642 0.55094007 0.50238765\n",
      " 0.51622411 0.54094986 0.54584508 0.55004095 0.55123977 0.54247337\n",
      " 0.54519569 0.54352234 0.58528142 0.5711203  0.60046654 0.6111311\n",
      " 0.61799933 0.61100622 0.62659092 0.62951309 0.62049688 0.59801895\n",
      " 0.57713941 0.60066635 0.57756399 0.58673    0.57811345 0.57241904\n",
      " 0.52004536 0.52344203 0.52446604 0.52886172 0.52776279 0.52728825\n",
      " 0.5226678  0.52046994 0.5096805  0.62664092 0.64839458 0.63171095\n",
      " 0.62424321 0.61932303 0.60009192 0.59791903 0.58258406 0.60406302\n",
      " 0.69669723 0.71762673 0.77834223 0.85022178 0.7964994  0.80087012\n",
      " 0.75326678 0.77709345 0.82209932 0.84023157 0.83031628 0.82434717\n",
      " 0.85661551 0.8217247  0.82082562 0.8074887  0.83813364 0.86792942\n",
      " 0.85376834 0.87002735 0.89889905 0.94817579 0.94959941 0.97757195\n",
      " 1.03696374 1.02030511 1.06558575 1.13249512 1.1745539  1.07532619\n",
      " 1.0654359  1.02769785 1.05152452 1.13064696 1.11029192 1.05417192\n",
      " 1.0185818  0.98970687 0.96877348 0.95247072]\n",
      "3 day output [[0.9411625]]\n",
      "4 day input [0.47903556 0.51090431 0.51584945 0.53233331 0.52828729 0.53370698\n",
      " 0.50221284 0.5263392  0.50858161 0.4985914  0.48994985 0.49127355\n",
      " 0.51082939 0.50206299 0.52406642 0.55094007 0.50238765 0.51622411\n",
      " 0.54094986 0.54584508 0.55004095 0.55123977 0.54247337 0.54519569\n",
      " 0.54352234 0.58528142 0.5711203  0.60046654 0.6111311  0.61799933\n",
      " 0.61100622 0.62659092 0.62951309 0.62049688 0.59801895 0.57713941\n",
      " 0.60066635 0.57756399 0.58673    0.57811345 0.57241904 0.52004536\n",
      " 0.52344203 0.52446604 0.52886172 0.52776279 0.52728825 0.5226678\n",
      " 0.52046994 0.5096805  0.62664092 0.64839458 0.63171095 0.62424321\n",
      " 0.61932303 0.60009192 0.59791903 0.58258406 0.60406302 0.69669723\n",
      " 0.71762673 0.77834223 0.85022178 0.7964994  0.80087012 0.75326678\n",
      " 0.77709345 0.82209932 0.84023157 0.83031628 0.82434717 0.85661551\n",
      " 0.8217247  0.82082562 0.8074887  0.83813364 0.86792942 0.85376834\n",
      " 0.87002735 0.89889905 0.94817579 0.94959941 0.97757195 1.03696374\n",
      " 1.02030511 1.06558575 1.13249512 1.1745539  1.07532619 1.0654359\n",
      " 1.02769785 1.05152452 1.13064696 1.11029192 1.05417192 1.0185818\n",
      " 0.98970687 0.96877348 0.95247072 0.94116253]\n",
      "4 day output [[0.9340064]]\n",
      "5 day input [0.51090431 0.51584945 0.53233331 0.52828729 0.53370698 0.50221284\n",
      " 0.5263392  0.50858161 0.4985914  0.48994985 0.49127355 0.51082939\n",
      " 0.50206299 0.52406642 0.55094007 0.50238765 0.51622411 0.54094986\n",
      " 0.54584508 0.55004095 0.55123977 0.54247337 0.54519569 0.54352234\n",
      " 0.58528142 0.5711203  0.60046654 0.6111311  0.61799933 0.61100622\n",
      " 0.62659092 0.62951309 0.62049688 0.59801895 0.57713941 0.60066635\n",
      " 0.57756399 0.58673    0.57811345 0.57241904 0.52004536 0.52344203\n",
      " 0.52446604 0.52886172 0.52776279 0.52728825 0.5226678  0.52046994\n",
      " 0.5096805  0.62664092 0.64839458 0.63171095 0.62424321 0.61932303\n",
      " 0.60009192 0.59791903 0.58258406 0.60406302 0.69669723 0.71762673\n",
      " 0.77834223 0.85022178 0.7964994  0.80087012 0.75326678 0.77709345\n",
      " 0.82209932 0.84023157 0.83031628 0.82434717 0.85661551 0.8217247\n",
      " 0.82082562 0.8074887  0.83813364 0.86792942 0.85376834 0.87002735\n",
      " 0.89889905 0.94817579 0.94959941 0.97757195 1.03696374 1.02030511\n",
      " 1.06558575 1.13249512 1.1745539  1.07532619 1.0654359  1.02769785\n",
      " 1.05152452 1.13064696 1.11029192 1.05417192 1.0185818  0.98970687\n",
      " 0.96877348 0.95247072 0.94116253 0.93400639]\n",
      "5 day output [[0.9297558]]\n",
      "6 day input [0.51584945 0.53233331 0.52828729 0.53370698 0.50221284 0.5263392\n",
      " 0.50858161 0.4985914  0.48994985 0.49127355 0.51082939 0.50206299\n",
      " 0.52406642 0.55094007 0.50238765 0.51622411 0.54094986 0.54584508\n",
      " 0.55004095 0.55123977 0.54247337 0.54519569 0.54352234 0.58528142\n",
      " 0.5711203  0.60046654 0.6111311  0.61799933 0.61100622 0.62659092\n",
      " 0.62951309 0.62049688 0.59801895 0.57713941 0.60066635 0.57756399\n",
      " 0.58673    0.57811345 0.57241904 0.52004536 0.52344203 0.52446604\n",
      " 0.52886172 0.52776279 0.52728825 0.5226678  0.52046994 0.5096805\n",
      " 0.62664092 0.64839458 0.63171095 0.62424321 0.61932303 0.60009192\n",
      " 0.59791903 0.58258406 0.60406302 0.69669723 0.71762673 0.77834223\n",
      " 0.85022178 0.7964994  0.80087012 0.75326678 0.77709345 0.82209932\n",
      " 0.84023157 0.83031628 0.82434717 0.85661551 0.8217247  0.82082562\n",
      " 0.8074887  0.83813364 0.86792942 0.85376834 0.87002735 0.89889905\n",
      " 0.94817579 0.94959941 0.97757195 1.03696374 1.02030511 1.06558575\n",
      " 1.13249512 1.1745539  1.07532619 1.0654359  1.02769785 1.05152452\n",
      " 1.13064696 1.11029192 1.05417192 1.0185818  0.98970687 0.96877348\n",
      " 0.95247072 0.94116253 0.93400639 0.92975581]\n",
      "6 day output [[0.92724913]]\n",
      "7 day input [0.53233331 0.52828729 0.53370698 0.50221284 0.5263392  0.50858161\n",
      " 0.4985914  0.48994985 0.49127355 0.51082939 0.50206299 0.52406642\n",
      " 0.55094007 0.50238765 0.51622411 0.54094986 0.54584508 0.55004095\n",
      " 0.55123977 0.54247337 0.54519569 0.54352234 0.58528142 0.5711203\n",
      " 0.60046654 0.6111311  0.61799933 0.61100622 0.62659092 0.62951309\n",
      " 0.62049688 0.59801895 0.57713941 0.60066635 0.57756399 0.58673\n",
      " 0.57811345 0.57241904 0.52004536 0.52344203 0.52446604 0.52886172\n",
      " 0.52776279 0.52728825 0.5226678  0.52046994 0.5096805  0.62664092\n",
      " 0.64839458 0.63171095 0.62424321 0.61932303 0.60009192 0.59791903\n",
      " 0.58258406 0.60406302 0.69669723 0.71762673 0.77834223 0.85022178\n",
      " 0.7964994  0.80087012 0.75326678 0.77709345 0.82209932 0.84023157\n",
      " 0.83031628 0.82434717 0.85661551 0.8217247  0.82082562 0.8074887\n",
      " 0.83813364 0.86792942 0.85376834 0.87002735 0.89889905 0.94817579\n",
      " 0.94959941 0.97757195 1.03696374 1.02030511 1.06558575 1.13249512\n",
      " 1.1745539  1.07532619 1.0654359  1.02769785 1.05152452 1.13064696\n",
      " 1.11029192 1.05417192 1.0185818  0.98970687 0.96877348 0.95247072\n",
      " 0.94116253 0.93400639 0.92975581 0.92724913]\n",
      "7 day output [[0.925513]]\n",
      "8 day input [0.52828729 0.53370698 0.50221284 0.5263392  0.50858161 0.4985914\n",
      " 0.48994985 0.49127355 0.51082939 0.50206299 0.52406642 0.55094007\n",
      " 0.50238765 0.51622411 0.54094986 0.54584508 0.55004095 0.55123977\n",
      " 0.54247337 0.54519569 0.54352234 0.58528142 0.5711203  0.60046654\n",
      " 0.6111311  0.61799933 0.61100622 0.62659092 0.62951309 0.62049688\n",
      " 0.59801895 0.57713941 0.60066635 0.57756399 0.58673    0.57811345\n",
      " 0.57241904 0.52004536 0.52344203 0.52446604 0.52886172 0.52776279\n",
      " 0.52728825 0.5226678  0.52046994 0.5096805  0.62664092 0.64839458\n",
      " 0.63171095 0.62424321 0.61932303 0.60009192 0.59791903 0.58258406\n",
      " 0.60406302 0.69669723 0.71762673 0.77834223 0.85022178 0.7964994\n",
      " 0.80087012 0.75326678 0.77709345 0.82209932 0.84023157 0.83031628\n",
      " 0.82434717 0.85661551 0.8217247  0.82082562 0.8074887  0.83813364\n",
      " 0.86792942 0.85376834 0.87002735 0.89889905 0.94817579 0.94959941\n",
      " 0.97757195 1.03696374 1.02030511 1.06558575 1.13249512 1.1745539\n",
      " 1.07532619 1.0654359  1.02769785 1.05152452 1.13064696 1.11029192\n",
      " 1.05417192 1.0185818  0.98970687 0.96877348 0.95247072 0.94116253\n",
      " 0.93400639 0.92975581 0.92724913 0.92551303]\n",
      "8 day output [[0.9237774]]\n",
      "9 day input [0.53370698 0.50221284 0.5263392  0.50858161 0.4985914  0.48994985\n",
      " 0.49127355 0.51082939 0.50206299 0.52406642 0.55094007 0.50238765\n",
      " 0.51622411 0.54094986 0.54584508 0.55004095 0.55123977 0.54247337\n",
      " 0.54519569 0.54352234 0.58528142 0.5711203  0.60046654 0.6111311\n",
      " 0.61799933 0.61100622 0.62659092 0.62951309 0.62049688 0.59801895\n",
      " 0.57713941 0.60066635 0.57756399 0.58673    0.57811345 0.57241904\n",
      " 0.52004536 0.52344203 0.52446604 0.52886172 0.52776279 0.52728825\n",
      " 0.5226678  0.52046994 0.5096805  0.62664092 0.64839458 0.63171095\n",
      " 0.62424321 0.61932303 0.60009192 0.59791903 0.58258406 0.60406302\n",
      " 0.69669723 0.71762673 0.77834223 0.85022178 0.7964994  0.80087012\n",
      " 0.75326678 0.77709345 0.82209932 0.84023157 0.83031628 0.82434717\n",
      " 0.85661551 0.8217247  0.82082562 0.8074887  0.83813364 0.86792942\n",
      " 0.85376834 0.87002735 0.89889905 0.94817579 0.94959941 0.97757195\n",
      " 1.03696374 1.02030511 1.06558575 1.13249512 1.1745539  1.07532619\n",
      " 1.0654359  1.02769785 1.05152452 1.13064696 1.11029192 1.05417192\n",
      " 1.0185818  0.98970687 0.96877348 0.95247072 0.94116253 0.93400639\n",
      " 0.92975581 0.92724913 0.92551303 0.9237774 ]\n",
      "9 day output [[0.9214896]]\n",
      "10 day input [0.50221284 0.5263392  0.50858161 0.4985914  0.48994985 0.49127355\n",
      " 0.51082939 0.50206299 0.52406642 0.55094007 0.50238765 0.51622411\n",
      " 0.54094986 0.54584508 0.55004095 0.55123977 0.54247337 0.54519569\n",
      " 0.54352234 0.58528142 0.5711203  0.60046654 0.6111311  0.61799933\n",
      " 0.61100622 0.62659092 0.62951309 0.62049688 0.59801895 0.57713941\n",
      " 0.60066635 0.57756399 0.58673    0.57811345 0.57241904 0.52004536\n",
      " 0.52344203 0.52446604 0.52886172 0.52776279 0.52728825 0.5226678\n",
      " 0.52046994 0.5096805  0.62664092 0.64839458 0.63171095 0.62424321\n",
      " 0.61932303 0.60009192 0.59791903 0.58258406 0.60406302 0.69669723\n",
      " 0.71762673 0.77834223 0.85022178 0.7964994  0.80087012 0.75326678\n",
      " 0.77709345 0.82209932 0.84023157 0.83031628 0.82434717 0.85661551\n",
      " 0.8217247  0.82082562 0.8074887  0.83813364 0.86792942 0.85376834\n",
      " 0.87002735 0.89889905 0.94817579 0.94959941 0.97757195 1.03696374\n",
      " 1.02030511 1.06558575 1.13249512 1.1745539  1.07532619 1.0654359\n",
      " 1.02769785 1.05152452 1.13064696 1.11029192 1.05417192 1.0185818\n",
      " 0.98970687 0.96877348 0.95247072 0.94116253 0.93400639 0.92975581\n",
      " 0.92724913 0.92551303 0.9237774  0.9214896 ]\n",
      "10 day output [[0.91832066]]\n",
      "11 day input [0.5263392  0.50858161 0.4985914  0.48994985 0.49127355 0.51082939\n",
      " 0.50206299 0.52406642 0.55094007 0.50238765 0.51622411 0.54094986\n",
      " 0.54584508 0.55004095 0.55123977 0.54247337 0.54519569 0.54352234\n",
      " 0.58528142 0.5711203  0.60046654 0.6111311  0.61799933 0.61100622\n",
      " 0.62659092 0.62951309 0.62049688 0.59801895 0.57713941 0.60066635\n",
      " 0.57756399 0.58673    0.57811345 0.57241904 0.52004536 0.52344203\n",
      " 0.52446604 0.52886172 0.52776279 0.52728825 0.5226678  0.52046994\n",
      " 0.5096805  0.62664092 0.64839458 0.63171095 0.62424321 0.61932303\n",
      " 0.60009192 0.59791903 0.58258406 0.60406302 0.69669723 0.71762673\n",
      " 0.77834223 0.85022178 0.7964994  0.80087012 0.75326678 0.77709345\n",
      " 0.82209932 0.84023157 0.83031628 0.82434717 0.85661551 0.8217247\n",
      " 0.82082562 0.8074887  0.83813364 0.86792942 0.85376834 0.87002735\n",
      " 0.89889905 0.94817579 0.94959941 0.97757195 1.03696374 1.02030511\n",
      " 1.06558575 1.13249512 1.1745539  1.07532619 1.0654359  1.02769785\n",
      " 1.05152452 1.13064696 1.11029192 1.05417192 1.0185818  0.98970687\n",
      " 0.96877348 0.95247072 0.94116253 0.93400639 0.92975581 0.92724913\n",
      " 0.92551303 0.9237774  0.9214896  0.91832066]\n",
      "11 day output [[0.9141497]]\n",
      "12 day input [0.50858161 0.4985914  0.48994985 0.49127355 0.51082939 0.50206299\n",
      " 0.52406642 0.55094007 0.50238765 0.51622411 0.54094986 0.54584508\n",
      " 0.55004095 0.55123977 0.54247337 0.54519569 0.54352234 0.58528142\n",
      " 0.5711203  0.60046654 0.6111311  0.61799933 0.61100622 0.62659092\n",
      " 0.62951309 0.62049688 0.59801895 0.57713941 0.60066635 0.57756399\n",
      " 0.58673    0.57811345 0.57241904 0.52004536 0.52344203 0.52446604\n",
      " 0.52886172 0.52776279 0.52728825 0.5226678  0.52046994 0.5096805\n",
      " 0.62664092 0.64839458 0.63171095 0.62424321 0.61932303 0.60009192\n",
      " 0.59791903 0.58258406 0.60406302 0.69669723 0.71762673 0.77834223\n",
      " 0.85022178 0.7964994  0.80087012 0.75326678 0.77709345 0.82209932\n",
      " 0.84023157 0.83031628 0.82434717 0.85661551 0.8217247  0.82082562\n",
      " 0.8074887  0.83813364 0.86792942 0.85376834 0.87002735 0.89889905\n",
      " 0.94817579 0.94959941 0.97757195 1.03696374 1.02030511 1.06558575\n",
      " 1.13249512 1.1745539  1.07532619 1.0654359  1.02769785 1.05152452\n",
      " 1.13064696 1.11029192 1.05417192 1.0185818  0.98970687 0.96877348\n",
      " 0.95247072 0.94116253 0.93400639 0.92975581 0.92724913 0.92551303\n",
      " 0.9237774  0.9214896  0.91832066 0.9141497 ]\n",
      "12 day output [[0.9090309]]\n",
      "13 day input [0.4985914  0.48994985 0.49127355 0.51082939 0.50206299 0.52406642\n",
      " 0.55094007 0.50238765 0.51622411 0.54094986 0.54584508 0.55004095\n",
      " 0.55123977 0.54247337 0.54519569 0.54352234 0.58528142 0.5711203\n",
      " 0.60046654 0.6111311  0.61799933 0.61100622 0.62659092 0.62951309\n",
      " 0.62049688 0.59801895 0.57713941 0.60066635 0.57756399 0.58673\n",
      " 0.57811345 0.57241904 0.52004536 0.52344203 0.52446604 0.52886172\n",
      " 0.52776279 0.52728825 0.5226678  0.52046994 0.5096805  0.62664092\n",
      " 0.64839458 0.63171095 0.62424321 0.61932303 0.60009192 0.59791903\n",
      " 0.58258406 0.60406302 0.69669723 0.71762673 0.77834223 0.85022178\n",
      " 0.7964994  0.80087012 0.75326678 0.77709345 0.82209932 0.84023157\n",
      " 0.83031628 0.82434717 0.85661551 0.8217247  0.82082562 0.8074887\n",
      " 0.83813364 0.86792942 0.85376834 0.87002735 0.89889905 0.94817579\n",
      " 0.94959941 0.97757195 1.03696374 1.02030511 1.06558575 1.13249512\n",
      " 1.1745539  1.07532619 1.0654359  1.02769785 1.05152452 1.13064696\n",
      " 1.11029192 1.05417192 1.0185818  0.98970687 0.96877348 0.95247072\n",
      " 0.94116253 0.93400639 0.92975581 0.92724913 0.92551303 0.9237774\n",
      " 0.9214896  0.91832066 0.9141497  0.90903091]\n",
      "13 day output [[0.90314806]]\n",
      "14 day input [0.48994985 0.49127355 0.51082939 0.50206299 0.52406642 0.55094007\n",
      " 0.50238765 0.51622411 0.54094986 0.54584508 0.55004095 0.55123977\n",
      " 0.54247337 0.54519569 0.54352234 0.58528142 0.5711203  0.60046654\n",
      " 0.6111311  0.61799933 0.61100622 0.62659092 0.62951309 0.62049688\n",
      " 0.59801895 0.57713941 0.60066635 0.57756399 0.58673    0.57811345\n",
      " 0.57241904 0.52004536 0.52344203 0.52446604 0.52886172 0.52776279\n",
      " 0.52728825 0.5226678  0.52046994 0.5096805  0.62664092 0.64839458\n",
      " 0.63171095 0.62424321 0.61932303 0.60009192 0.59791903 0.58258406\n",
      " 0.60406302 0.69669723 0.71762673 0.77834223 0.85022178 0.7964994\n",
      " 0.80087012 0.75326678 0.77709345 0.82209932 0.84023157 0.83031628\n",
      " 0.82434717 0.85661551 0.8217247  0.82082562 0.8074887  0.83813364\n",
      " 0.86792942 0.85376834 0.87002735 0.89889905 0.94817579 0.94959941\n",
      " 0.97757195 1.03696374 1.02030511 1.06558575 1.13249512 1.1745539\n",
      " 1.07532619 1.0654359  1.02769785 1.05152452 1.13064696 1.11029192\n",
      " 1.05417192 1.0185818  0.98970687 0.96877348 0.95247072 0.94116253\n",
      " 0.93400639 0.92975581 0.92724913 0.92551303 0.9237774  0.9214896\n",
      " 0.91832066 0.9141497  0.90903091 0.90314806]\n",
      "14 day output [[0.8967628]]\n",
      "15 day input [0.49127355 0.51082939 0.50206299 0.52406642 0.55094007 0.50238765\n",
      " 0.51622411 0.54094986 0.54584508 0.55004095 0.55123977 0.54247337\n",
      " 0.54519569 0.54352234 0.58528142 0.5711203  0.60046654 0.6111311\n",
      " 0.61799933 0.61100622 0.62659092 0.62951309 0.62049688 0.59801895\n",
      " 0.57713941 0.60066635 0.57756399 0.58673    0.57811345 0.57241904\n",
      " 0.52004536 0.52344203 0.52446604 0.52886172 0.52776279 0.52728825\n",
      " 0.5226678  0.52046994 0.5096805  0.62664092 0.64839458 0.63171095\n",
      " 0.62424321 0.61932303 0.60009192 0.59791903 0.58258406 0.60406302\n",
      " 0.69669723 0.71762673 0.77834223 0.85022178 0.7964994  0.80087012\n",
      " 0.75326678 0.77709345 0.82209932 0.84023157 0.83031628 0.82434717\n",
      " 0.85661551 0.8217247  0.82082562 0.8074887  0.83813364 0.86792942\n",
      " 0.85376834 0.87002735 0.89889905 0.94817579 0.94959941 0.97757195\n",
      " 1.03696374 1.02030511 1.06558575 1.13249512 1.1745539  1.07532619\n",
      " 1.0654359  1.02769785 1.05152452 1.13064696 1.11029192 1.05417192\n",
      " 1.0185818  0.98970687 0.96877348 0.95247072 0.94116253 0.93400639\n",
      " 0.92975581 0.92724913 0.92551303 0.9237774  0.9214896  0.91832066\n",
      " 0.9141497  0.90903091 0.90314806 0.89676279]\n",
      "15 day output [[0.89016587]]\n",
      "16 day input [0.51082939 0.50206299 0.52406642 0.55094007 0.50238765 0.51622411\n",
      " 0.54094986 0.54584508 0.55004095 0.55123977 0.54247337 0.54519569\n",
      " 0.54352234 0.58528142 0.5711203  0.60046654 0.6111311  0.61799933\n",
      " 0.61100622 0.62659092 0.62951309 0.62049688 0.59801895 0.57713941\n",
      " 0.60066635 0.57756399 0.58673    0.57811345 0.57241904 0.52004536\n",
      " 0.52344203 0.52446604 0.52886172 0.52776279 0.52728825 0.5226678\n",
      " 0.52046994 0.5096805  0.62664092 0.64839458 0.63171095 0.62424321\n",
      " 0.61932303 0.60009192 0.59791903 0.58258406 0.60406302 0.69669723\n",
      " 0.71762673 0.77834223 0.85022178 0.7964994  0.80087012 0.75326678\n",
      " 0.77709345 0.82209932 0.84023157 0.83031628 0.82434717 0.85661551\n",
      " 0.8217247  0.82082562 0.8074887  0.83813364 0.86792942 0.85376834\n",
      " 0.87002735 0.89889905 0.94817579 0.94959941 0.97757195 1.03696374\n",
      " 1.02030511 1.06558575 1.13249512 1.1745539  1.07532619 1.0654359\n",
      " 1.02769785 1.05152452 1.13064696 1.11029192 1.05417192 1.0185818\n",
      " 0.98970687 0.96877348 0.95247072 0.94116253 0.93400639 0.92975581\n",
      " 0.92724913 0.92551303 0.9237774  0.9214896  0.91832066 0.9141497\n",
      " 0.90903091 0.90314806 0.89676279 0.89016587]\n",
      "16 day output [[0.8836326]]\n",
      "17 day input [0.50206299 0.52406642 0.55094007 0.50238765 0.51622411 0.54094986\n",
      " 0.54584508 0.55004095 0.55123977 0.54247337 0.54519569 0.54352234\n",
      " 0.58528142 0.5711203  0.60046654 0.6111311  0.61799933 0.61100622\n",
      " 0.62659092 0.62951309 0.62049688 0.59801895 0.57713941 0.60066635\n",
      " 0.57756399 0.58673    0.57811345 0.57241904 0.52004536 0.52344203\n",
      " 0.52446604 0.52886172 0.52776279 0.52728825 0.5226678  0.52046994\n",
      " 0.5096805  0.62664092 0.64839458 0.63171095 0.62424321 0.61932303\n",
      " 0.60009192 0.59791903 0.58258406 0.60406302 0.69669723 0.71762673\n",
      " 0.77834223 0.85022178 0.7964994  0.80087012 0.75326678 0.77709345\n",
      " 0.82209932 0.84023157 0.83031628 0.82434717 0.85661551 0.8217247\n",
      " 0.82082562 0.8074887  0.83813364 0.86792942 0.85376834 0.87002735\n",
      " 0.89889905 0.94817579 0.94959941 0.97757195 1.03696374 1.02030511\n",
      " 1.06558575 1.13249512 1.1745539  1.07532619 1.0654359  1.02769785\n",
      " 1.05152452 1.13064696 1.11029192 1.05417192 1.0185818  0.98970687\n",
      " 0.96877348 0.95247072 0.94116253 0.93400639 0.92975581 0.92724913\n",
      " 0.92551303 0.9237774  0.9214896  0.91832066 0.9141497  0.90903091\n",
      " 0.90314806 0.89676279 0.89016587 0.8836326 ]\n",
      "17 day output [[0.8773939]]\n",
      "18 day input [0.52406642 0.55094007 0.50238765 0.51622411 0.54094986 0.54584508\n",
      " 0.55004095 0.55123977 0.54247337 0.54519569 0.54352234 0.58528142\n",
      " 0.5711203  0.60046654 0.6111311  0.61799933 0.61100622 0.62659092\n",
      " 0.62951309 0.62049688 0.59801895 0.57713941 0.60066635 0.57756399\n",
      " 0.58673    0.57811345 0.57241904 0.52004536 0.52344203 0.52446604\n",
      " 0.52886172 0.52776279 0.52728825 0.5226678  0.52046994 0.5096805\n",
      " 0.62664092 0.64839458 0.63171095 0.62424321 0.61932303 0.60009192\n",
      " 0.59791903 0.58258406 0.60406302 0.69669723 0.71762673 0.77834223\n",
      " 0.85022178 0.7964994  0.80087012 0.75326678 0.77709345 0.82209932\n",
      " 0.84023157 0.83031628 0.82434717 0.85661551 0.8217247  0.82082562\n",
      " 0.8074887  0.83813364 0.86792942 0.85376834 0.87002735 0.89889905\n",
      " 0.94817579 0.94959941 0.97757195 1.03696374 1.02030511 1.06558575\n",
      " 1.13249512 1.1745539  1.07532619 1.0654359  1.02769785 1.05152452\n",
      " 1.13064696 1.11029192 1.05417192 1.0185818  0.98970687 0.96877348\n",
      " 0.95247072 0.94116253 0.93400639 0.92975581 0.92724913 0.92551303\n",
      " 0.9237774  0.9214896  0.91832066 0.9141497  0.90903091 0.90314806\n",
      " 0.89676279 0.89016587 0.8836326  0.8773939 ]\n",
      "18 day output [[0.87161726]]\n",
      "19 day input [0.55094007 0.50238765 0.51622411 0.54094986 0.54584508 0.55004095\n",
      " 0.55123977 0.54247337 0.54519569 0.54352234 0.58528142 0.5711203\n",
      " 0.60046654 0.6111311  0.61799933 0.61100622 0.62659092 0.62951309\n",
      " 0.62049688 0.59801895 0.57713941 0.60066635 0.57756399 0.58673\n",
      " 0.57811345 0.57241904 0.52004536 0.52344203 0.52446604 0.52886172\n",
      " 0.52776279 0.52728825 0.5226678  0.52046994 0.5096805  0.62664092\n",
      " 0.64839458 0.63171095 0.62424321 0.61932303 0.60009192 0.59791903\n",
      " 0.58258406 0.60406302 0.69669723 0.71762673 0.77834223 0.85022178\n",
      " 0.7964994  0.80087012 0.75326678 0.77709345 0.82209932 0.84023157\n",
      " 0.83031628 0.82434717 0.85661551 0.8217247  0.82082562 0.8074887\n",
      " 0.83813364 0.86792942 0.85376834 0.87002735 0.89889905 0.94817579\n",
      " 0.94959941 0.97757195 1.03696374 1.02030511 1.06558575 1.13249512\n",
      " 1.1745539  1.07532619 1.0654359  1.02769785 1.05152452 1.13064696\n",
      " 1.11029192 1.05417192 1.0185818  0.98970687 0.96877348 0.95247072\n",
      " 0.94116253 0.93400639 0.92975581 0.92724913 0.92551303 0.9237774\n",
      " 0.9214896  0.91832066 0.9141497  0.90903091 0.90314806 0.89676279\n",
      " 0.89016587 0.8836326  0.8773939  0.87161726]\n",
      "19 day output [[0.86640054]]\n",
      "20 day input [0.50238765 0.51622411 0.54094986 0.54584508 0.55004095 0.55123977\n",
      " 0.54247337 0.54519569 0.54352234 0.58528142 0.5711203  0.60046654\n",
      " 0.6111311  0.61799933 0.61100622 0.62659092 0.62951309 0.62049688\n",
      " 0.59801895 0.57713941 0.60066635 0.57756399 0.58673    0.57811345\n",
      " 0.57241904 0.52004536 0.52344203 0.52446604 0.52886172 0.52776279\n",
      " 0.52728825 0.5226678  0.52046994 0.5096805  0.62664092 0.64839458\n",
      " 0.63171095 0.62424321 0.61932303 0.60009192 0.59791903 0.58258406\n",
      " 0.60406302 0.69669723 0.71762673 0.77834223 0.85022178 0.7964994\n",
      " 0.80087012 0.75326678 0.77709345 0.82209932 0.84023157 0.83031628\n",
      " 0.82434717 0.85661551 0.8217247  0.82082562 0.8074887  0.83813364\n",
      " 0.86792942 0.85376834 0.87002735 0.89889905 0.94817579 0.94959941\n",
      " 0.97757195 1.03696374 1.02030511 1.06558575 1.13249512 1.1745539\n",
      " 1.07532619 1.0654359  1.02769785 1.05152452 1.13064696 1.11029192\n",
      " 1.05417192 1.0185818  0.98970687 0.96877348 0.95247072 0.94116253\n",
      " 0.93400639 0.92975581 0.92724913 0.92551303 0.9237774  0.9214896\n",
      " 0.91832066 0.9141497  0.90903091 0.90314806 0.89676279 0.89016587\n",
      " 0.8836326  0.8773939  0.87161726 0.86640054]\n",
      "20 day output [[0.8617763]]\n",
      "21 day input [0.51622411 0.54094986 0.54584508 0.55004095 0.55123977 0.54247337\n",
      " 0.54519569 0.54352234 0.58528142 0.5711203  0.60046654 0.6111311\n",
      " 0.61799933 0.61100622 0.62659092 0.62951309 0.62049688 0.59801895\n",
      " 0.57713941 0.60066635 0.57756399 0.58673    0.57811345 0.57241904\n",
      " 0.52004536 0.52344203 0.52446604 0.52886172 0.52776279 0.52728825\n",
      " 0.5226678  0.52046994 0.5096805  0.62664092 0.64839458 0.63171095\n",
      " 0.62424321 0.61932303 0.60009192 0.59791903 0.58258406 0.60406302\n",
      " 0.69669723 0.71762673 0.77834223 0.85022178 0.7964994  0.80087012\n",
      " 0.75326678 0.77709345 0.82209932 0.84023157 0.83031628 0.82434717\n",
      " 0.85661551 0.8217247  0.82082562 0.8074887  0.83813364 0.86792942\n",
      " 0.85376834 0.87002735 0.89889905 0.94817579 0.94959941 0.97757195\n",
      " 1.03696374 1.02030511 1.06558575 1.13249512 1.1745539  1.07532619\n",
      " 1.0654359  1.02769785 1.05152452 1.13064696 1.11029192 1.05417192\n",
      " 1.0185818  0.98970687 0.96877348 0.95247072 0.94116253 0.93400639\n",
      " 0.92975581 0.92724913 0.92551303 0.9237774  0.9214896  0.91832066\n",
      " 0.9141497  0.90903091 0.90314806 0.89676279 0.89016587 0.8836326\n",
      " 0.8773939  0.87161726 0.86640054 0.86177629]\n",
      "21 day output [[0.857722]]\n",
      "22 day input [0.54094986 0.54584508 0.55004095 0.55123977 0.54247337 0.54519569\n",
      " 0.54352234 0.58528142 0.5711203  0.60046654 0.6111311  0.61799933\n",
      " 0.61100622 0.62659092 0.62951309 0.62049688 0.59801895 0.57713941\n",
      " 0.60066635 0.57756399 0.58673    0.57811345 0.57241904 0.52004536\n",
      " 0.52344203 0.52446604 0.52886172 0.52776279 0.52728825 0.5226678\n",
      " 0.52046994 0.5096805  0.62664092 0.64839458 0.63171095 0.62424321\n",
      " 0.61932303 0.60009192 0.59791903 0.58258406 0.60406302 0.69669723\n",
      " 0.71762673 0.77834223 0.85022178 0.7964994  0.80087012 0.75326678\n",
      " 0.77709345 0.82209932 0.84023157 0.83031628 0.82434717 0.85661551\n",
      " 0.8217247  0.82082562 0.8074887  0.83813364 0.86792942 0.85376834\n",
      " 0.87002735 0.89889905 0.94817579 0.94959941 0.97757195 1.03696374\n",
      " 1.02030511 1.06558575 1.13249512 1.1745539  1.07532619 1.0654359\n",
      " 1.02769785 1.05152452 1.13064696 1.11029192 1.05417192 1.0185818\n",
      " 0.98970687 0.96877348 0.95247072 0.94116253 0.93400639 0.92975581\n",
      " 0.92724913 0.92551303 0.9237774  0.9214896  0.91832066 0.9141497\n",
      " 0.90903091 0.90314806 0.89676279 0.89016587 0.8836326  0.8773939\n",
      " 0.87161726 0.86640054 0.86177629 0.85772198]\n",
      "22 day output [[0.8541758]]\n",
      "23 day input [0.54584508 0.55004095 0.55123977 0.54247337 0.54519569 0.54352234\n",
      " 0.58528142 0.5711203  0.60046654 0.6111311  0.61799933 0.61100622\n",
      " 0.62659092 0.62951309 0.62049688 0.59801895 0.57713941 0.60066635\n",
      " 0.57756399 0.58673    0.57811345 0.57241904 0.52004536 0.52344203\n",
      " 0.52446604 0.52886172 0.52776279 0.52728825 0.5226678  0.52046994\n",
      " 0.5096805  0.62664092 0.64839458 0.63171095 0.62424321 0.61932303\n",
      " 0.60009192 0.59791903 0.58258406 0.60406302 0.69669723 0.71762673\n",
      " 0.77834223 0.85022178 0.7964994  0.80087012 0.75326678 0.77709345\n",
      " 0.82209932 0.84023157 0.83031628 0.82434717 0.85661551 0.8217247\n",
      " 0.82082562 0.8074887  0.83813364 0.86792942 0.85376834 0.87002735\n",
      " 0.89889905 0.94817579 0.94959941 0.97757195 1.03696374 1.02030511\n",
      " 1.06558575 1.13249512 1.1745539  1.07532619 1.0654359  1.02769785\n",
      " 1.05152452 1.13064696 1.11029192 1.05417192 1.0185818  0.98970687\n",
      " 0.96877348 0.95247072 0.94116253 0.93400639 0.92975581 0.92724913\n",
      " 0.92551303 0.9237774  0.9214896  0.91832066 0.9141497  0.90903091\n",
      " 0.90314806 0.89676279 0.89016587 0.8836326  0.8773939  0.87161726\n",
      " 0.86640054 0.86177629 0.85772198 0.85417581]\n",
      "23 day output [[0.85105026]]\n",
      "24 day input [0.55004095 0.55123977 0.54247337 0.54519569 0.54352234 0.58528142\n",
      " 0.5711203  0.60046654 0.6111311  0.61799933 0.61100622 0.62659092\n",
      " 0.62951309 0.62049688 0.59801895 0.57713941 0.60066635 0.57756399\n",
      " 0.58673    0.57811345 0.57241904 0.52004536 0.52344203 0.52446604\n",
      " 0.52886172 0.52776279 0.52728825 0.5226678  0.52046994 0.5096805\n",
      " 0.62664092 0.64839458 0.63171095 0.62424321 0.61932303 0.60009192\n",
      " 0.59791903 0.58258406 0.60406302 0.69669723 0.71762673 0.77834223\n",
      " 0.85022178 0.7964994  0.80087012 0.75326678 0.77709345 0.82209932\n",
      " 0.84023157 0.83031628 0.82434717 0.85661551 0.8217247  0.82082562\n",
      " 0.8074887  0.83813364 0.86792942 0.85376834 0.87002735 0.89889905\n",
      " 0.94817579 0.94959941 0.97757195 1.03696374 1.02030511 1.06558575\n",
      " 1.13249512 1.1745539  1.07532619 1.0654359  1.02769785 1.05152452\n",
      " 1.13064696 1.11029192 1.05417192 1.0185818  0.98970687 0.96877348\n",
      " 0.95247072 0.94116253 0.93400639 0.92975581 0.92724913 0.92551303\n",
      " 0.9237774  0.9214896  0.91832066 0.9141497  0.90903091 0.90314806\n",
      " 0.89676279 0.89016587 0.8836326  0.8773939  0.87161726 0.86640054\n",
      " 0.86177629 0.85772198 0.85417581 0.85105026]\n",
      "24 day output [[0.8482491]]\n",
      "25 day input [0.55123977 0.54247337 0.54519569 0.54352234 0.58528142 0.5711203\n",
      " 0.60046654 0.6111311  0.61799933 0.61100622 0.62659092 0.62951309\n",
      " 0.62049688 0.59801895 0.57713941 0.60066635 0.57756399 0.58673\n",
      " 0.57811345 0.57241904 0.52004536 0.52344203 0.52446604 0.52886172\n",
      " 0.52776279 0.52728825 0.5226678  0.52046994 0.5096805  0.62664092\n",
      " 0.64839458 0.63171095 0.62424321 0.61932303 0.60009192 0.59791903\n",
      " 0.58258406 0.60406302 0.69669723 0.71762673 0.77834223 0.85022178\n",
      " 0.7964994  0.80087012 0.75326678 0.77709345 0.82209932 0.84023157\n",
      " 0.83031628 0.82434717 0.85661551 0.8217247  0.82082562 0.8074887\n",
      " 0.83813364 0.86792942 0.85376834 0.87002735 0.89889905 0.94817579\n",
      " 0.94959941 0.97757195 1.03696374 1.02030511 1.06558575 1.13249512\n",
      " 1.1745539  1.07532619 1.0654359  1.02769785 1.05152452 1.13064696\n",
      " 1.11029192 1.05417192 1.0185818  0.98970687 0.96877348 0.95247072\n",
      " 0.94116253 0.93400639 0.92975581 0.92724913 0.92551303 0.9237774\n",
      " 0.9214896  0.91832066 0.9141497  0.90903091 0.90314806 0.89676279\n",
      " 0.89016587 0.8836326  0.8773939  0.87161726 0.86640054 0.86177629\n",
      " 0.85772198 0.85417581 0.85105026 0.84824908]\n",
      "25 day output [[0.8456765]]\n",
      "26 day input [0.54247337 0.54519569 0.54352234 0.58528142 0.5711203  0.60046654\n",
      " 0.6111311  0.61799933 0.61100622 0.62659092 0.62951309 0.62049688\n",
      " 0.59801895 0.57713941 0.60066635 0.57756399 0.58673    0.57811345\n",
      " 0.57241904 0.52004536 0.52344203 0.52446604 0.52886172 0.52776279\n",
      " 0.52728825 0.5226678  0.52046994 0.5096805  0.62664092 0.64839458\n",
      " 0.63171095 0.62424321 0.61932303 0.60009192 0.59791903 0.58258406\n",
      " 0.60406302 0.69669723 0.71762673 0.77834223 0.85022178 0.7964994\n",
      " 0.80087012 0.75326678 0.77709345 0.82209932 0.84023157 0.83031628\n",
      " 0.82434717 0.85661551 0.8217247  0.82082562 0.8074887  0.83813364\n",
      " 0.86792942 0.85376834 0.87002735 0.89889905 0.94817579 0.94959941\n",
      " 0.97757195 1.03696374 1.02030511 1.06558575 1.13249512 1.1745539\n",
      " 1.07532619 1.0654359  1.02769785 1.05152452 1.13064696 1.11029192\n",
      " 1.05417192 1.0185818  0.98970687 0.96877348 0.95247072 0.94116253\n",
      " 0.93400639 0.92975581 0.92724913 0.92551303 0.9237774  0.9214896\n",
      " 0.91832066 0.9141497  0.90903091 0.90314806 0.89676279 0.89016587\n",
      " 0.8836326  0.8773939  0.87161726 0.86640054 0.86177629 0.85772198\n",
      " 0.85417581 0.85105026 0.84824908 0.84567648]\n",
      "26 day output [[0.84324807]]\n",
      "27 day input [0.54519569 0.54352234 0.58528142 0.5711203  0.60046654 0.6111311\n",
      " 0.61799933 0.61100622 0.62659092 0.62951309 0.62049688 0.59801895\n",
      " 0.57713941 0.60066635 0.57756399 0.58673    0.57811345 0.57241904\n",
      " 0.52004536 0.52344203 0.52446604 0.52886172 0.52776279 0.52728825\n",
      " 0.5226678  0.52046994 0.5096805  0.62664092 0.64839458 0.63171095\n",
      " 0.62424321 0.61932303 0.60009192 0.59791903 0.58258406 0.60406302\n",
      " 0.69669723 0.71762673 0.77834223 0.85022178 0.7964994  0.80087012\n",
      " 0.75326678 0.77709345 0.82209932 0.84023157 0.83031628 0.82434717\n",
      " 0.85661551 0.8217247  0.82082562 0.8074887  0.83813364 0.86792942\n",
      " 0.85376834 0.87002735 0.89889905 0.94817579 0.94959941 0.97757195\n",
      " 1.03696374 1.02030511 1.06558575 1.13249512 1.1745539  1.07532619\n",
      " 1.0654359  1.02769785 1.05152452 1.13064696 1.11029192 1.05417192\n",
      " 1.0185818  0.98970687 0.96877348 0.95247072 0.94116253 0.93400639\n",
      " 0.92975581 0.92724913 0.92551303 0.9237774  0.9214896  0.91832066\n",
      " 0.9141497  0.90903091 0.90314806 0.89676279 0.89016587 0.8836326\n",
      " 0.8773939  0.87161726 0.86640054 0.86177629 0.85772198 0.85417581\n",
      " 0.85105026 0.84824908 0.84567648 0.84324807]\n",
      "27 day output [[0.8408955]]\n",
      "28 day input [0.54352234 0.58528142 0.5711203  0.60046654 0.6111311  0.61799933\n",
      " 0.61100622 0.62659092 0.62951309 0.62049688 0.59801895 0.57713941\n",
      " 0.60066635 0.57756399 0.58673    0.57811345 0.57241904 0.52004536\n",
      " 0.52344203 0.52446604 0.52886172 0.52776279 0.52728825 0.5226678\n",
      " 0.52046994 0.5096805  0.62664092 0.64839458 0.63171095 0.62424321\n",
      " 0.61932303 0.60009192 0.59791903 0.58258406 0.60406302 0.69669723\n",
      " 0.71762673 0.77834223 0.85022178 0.7964994  0.80087012 0.75326678\n",
      " 0.77709345 0.82209932 0.84023157 0.83031628 0.82434717 0.85661551\n",
      " 0.8217247  0.82082562 0.8074887  0.83813364 0.86792942 0.85376834\n",
      " 0.87002735 0.89889905 0.94817579 0.94959941 0.97757195 1.03696374\n",
      " 1.02030511 1.06558575 1.13249512 1.1745539  1.07532619 1.0654359\n",
      " 1.02769785 1.05152452 1.13064696 1.11029192 1.05417192 1.0185818\n",
      " 0.98970687 0.96877348 0.95247072 0.94116253 0.93400639 0.92975581\n",
      " 0.92724913 0.92551303 0.9237774  0.9214896  0.91832066 0.9141497\n",
      " 0.90903091 0.90314806 0.89676279 0.89016587 0.8836326  0.8773939\n",
      " 0.87161726 0.86640054 0.86177629 0.85772198 0.85417581 0.85105026\n",
      " 0.84824908 0.84567648 0.84324807 0.84089547]\n",
      "28 day output [[0.8385697]]\n",
      "29 day input [0.58528142 0.5711203  0.60046654 0.6111311  0.61799933 0.61100622\n",
      " 0.62659092 0.62951309 0.62049688 0.59801895 0.57713941 0.60066635\n",
      " 0.57756399 0.58673    0.57811345 0.57241904 0.52004536 0.52344203\n",
      " 0.52446604 0.52886172 0.52776279 0.52728825 0.5226678  0.52046994\n",
      " 0.5096805  0.62664092 0.64839458 0.63171095 0.62424321 0.61932303\n",
      " 0.60009192 0.59791903 0.58258406 0.60406302 0.69669723 0.71762673\n",
      " 0.77834223 0.85022178 0.7964994  0.80087012 0.75326678 0.77709345\n",
      " 0.82209932 0.84023157 0.83031628 0.82434717 0.85661551 0.8217247\n",
      " 0.82082562 0.8074887  0.83813364 0.86792942 0.85376834 0.87002735\n",
      " 0.89889905 0.94817579 0.94959941 0.97757195 1.03696374 1.02030511\n",
      " 1.06558575 1.13249512 1.1745539  1.07532619 1.0654359  1.02769785\n",
      " 1.05152452 1.13064696 1.11029192 1.05417192 1.0185818  0.98970687\n",
      " 0.96877348 0.95247072 0.94116253 0.93400639 0.92975581 0.92724913\n",
      " 0.92551303 0.9237774  0.9214896  0.91832066 0.9141497  0.90903091\n",
      " 0.90314806 0.89676279 0.89016587 0.8836326  0.8773939  0.87161726\n",
      " 0.86640054 0.86177629 0.85772198 0.85417581 0.85105026 0.84824908\n",
      " 0.84567648 0.84324807 0.84089547 0.8385697 ]\n",
      "29 day output [[0.83624035]]\n",
      "[[0.9897068738937378], [0.9687734842300415], [0.9524707198143005], [0.9411625266075134], [0.93400639295578], [0.9297558069229126], [0.9272491335868835], [0.9255130290985107], [0.9237774014472961], [0.9214895963668823], [0.9183206558227539], [0.9141497015953064], [0.9090309143066406], [0.9031480550765991], [0.8967627882957458], [0.8901658654212952], [0.8836326003074646], [0.877393901348114], [0.8716172575950623], [0.8664005398750305], [0.8617762923240662], [0.8577219843864441], [0.8541758060455322], [0.8510502576828003], [0.848249077796936], [0.8456764817237854], [0.8432480692863464], [0.8408954739570618], [0.838569700717926], [0.8362403512001038]]\n"
     ]
    }
   ],
   "source": [
    "#prediction for next 30 days\n",
    "from numpy import array\n",
    "\n",
    "lst_output=[]\n",
    "n_steps=100\n",
    "i=0\n",
    "while(i<30):\n",
    "    \n",
    "    if(len(temp_input)>100):\n",
    "        #print(temp_input)\n",
    "        x_input=np.array(temp_input[1:])\n",
    "        print(\"{} day input {}\".format(i,x_input))\n",
    "        x_input=x_input.reshape(1,-1)\n",
    "        x_input = x_input.reshape((1, n_steps, 1))\n",
    "        #print(x_input)\n",
    "        yhat = model.predict(x_input, verbose=0)\n",
    "        print(\"{} day output {}\".format(i,yhat))\n",
    "        temp_input.extend(yhat[0].tolist())\n",
    "        temp_input=temp_input[1:]\n",
    "        #print(temp_input)\n",
    "        lst_output.extend(yhat.tolist())\n",
    "        i=i+1\n",
    "    else:\n",
    "        x_input = x_input.reshape((1, n_steps,1))\n",
    "        yhat = model.predict(x_input, verbose=0)\n",
    "        print(yhat[0])\n",
    "        temp_input.extend(yhat[0].tolist())\n",
    "        print(len(temp_input))\n",
    "        lst_output.extend(yhat.tolist())\n",
    "        i=i+1\n",
    "    \n",
    "\n",
    "print(lst_output)"
   ]
  },
  {
   "cell_type": "code",
   "execution_count": 164,
   "id": "1683e56f",
   "metadata": {},
   "outputs": [],
   "source": [
    "day_new=np.arange(1,101)\n",
    "day_pred=np.arange(101,131)"
   ]
  },
  {
   "cell_type": "code",
   "execution_count": 165,
   "id": "d2d4d4c7",
   "metadata": {},
   "outputs": [
    {
     "data": {
      "text/plain": [
       "2515"
      ]
     },
     "execution_count": 165,
     "metadata": {},
     "output_type": "execute_result"
    }
   ],
   "source": [
    "len(df1)\n"
   ]
  },
  {
   "cell_type": "code",
   "execution_count": 167,
   "id": "f3f66b4f",
   "metadata": {},
   "outputs": [
    {
     "name": "stdout",
     "output_type": "stream",
     "text": [
      "2415\n"
     ]
    },
    {
     "data": {
      "text/plain": [
       "[<matplotlib.lines.Line2D at 0x16be9004910>]"
      ]
     },
     "execution_count": 167,
     "metadata": {},
     "output_type": "execute_result"
    },
    {
     "data": {
      "image/png": "[encoded data removed]",
      "text/plain": [
       "<Figure size 640x480 with 1 Axes>"
      ]
     },
     "metadata": {},
     "output_type": "display_data"
    }
   ],
   "source": [
    "n = len(df1) - 100\n",
    "print(n)\n",
    "plt.plot(day_new,df1[n:])\n",
    "plt.plot(day_pred,scaler.inverse_transform(lst_output))"
   ]
  },
  {
   "cell_type": "code",
   "execution_count": 172,
   "id": "c024a4a8",
   "metadata": {},
   "outputs": [
    {
     "data": {
      "image/png": "[encoded data removed]",
      "text/plain": [
       "<Figure size 640x480 with 1 Axes>"
      ]
     },
     "metadata": {},
     "output_type": "display_data"
    }
   ],
   "source": [
    "df3=df1.tolist()\n",
    "df3.extend(scaler.inverse_transform(lst_output))\n",
    "plt.plot(df3[-150:])\n",
    "plt.title(\"TSLA Price Forecasting\")\n",
    "plt.xlabel(\"Days\")\n",
    "plt.ylabel(\"Price\")\n",
    "plt.show()"
   ]
  },
  {
   "cell_type": "code",
   "execution_count": 173,
   "id": "c0d791f8",
   "metadata": {},
   "outputs": [
    {
     "data": {
      "text/plain": [
       "[<matplotlib.lines.Line2D at 0x16be8f30f50>]"
      ]
     },
     "execution_count": 173,
     "metadata": {},
     "output_type": "execute_result"
    },
    {
     "data": {
      "image/png": "[encoded data removed]",
      "text/plain": [
       "<Figure size 640x480 with 1 Axes>"
      ]
     },
     "metadata": {},
     "output_type": "display_data"
    }
   ],
   "source": [
    "\n",
    "df3=scaler.inverse_transform(df3).tolist()\n",
    "plt.plot(df3)"
   ]
  },
  {
   "cell_type": "code",
   "execution_count": 174,
   "id": "ebd90a5b",
   "metadata": {},
   "outputs": [
    {
     "name": "stderr",
     "output_type": "stream",
     "text": [
      "WARNING:absl:You are saving your model as an HDF5 file via `model.save()` or `keras.saving.save_model(model)`. This file format is considered legacy. We recommend using instead the native Keras format, e.g. `model.save('my_model.keras')` or `keras.saving.save_model(model, 'my_model.keras')`. \n"
     ]
    }
   ],
   "source": [
    "from tensorflow.keras.models import load_model\n",
    "model.save(\"tsla_lstm_model.h5\")\n"
   ]
  },
  {
   "cell_type": "code",
   "execution_count": 175,
   "id": "41820c8d",
   "metadata": {},
   "outputs": [],
   "source": [
    "import pickle\n",
    "\n",
    "with open(\"scaler.pkl\", \"wb\") as f:\n",
    "    pickle.dump(scaler, f)\n"
   ]
  },
  {
   "cell_type": "code",
   "execution_count": null,
   "id": "0155604c",
   "metadata": {},
   "outputs": [],
   "source": []
  }
 ],
 "metadata": {
  "kernelspec": {
   "display_name": "Python 3",
   "language": "python",
   "name": "python3"
  },
  "language_info": {
   "codemirror_mode": {
    "name": "ipython",
    "version": 3
   },
   "file_extension": ".py",
   "mimetype": "text/x-python",
   "name": "python",
   "nbconvert_exporter": "python",
   "pygments_lexer": "ipython3",
   "version": "3.11.13"
  }
 },
 "nbformat": 4,
 "nbformat_minor": 5
}
