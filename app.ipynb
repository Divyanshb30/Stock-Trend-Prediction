{
 "cells": [
  {
   "cell_type": "code",
   "execution_count": null,
   "id": "343fef36",
   "metadata": {},
   "outputs": [],
   "source": [
    "import numpy as np\n",
    "import pandas_datareader as pdr"
   ]
  },
  {
   "cell_type": "code",
   "execution_count": null,
   "id": "a73c2357",
   "metadata": {},
   "outputs": [
    {
     "name": "stderr",
     "output_type": "stream",
     "text": [
      "C:\\Users\\Divyansh\\AppData\\Local\\Temp\\ipykernel_400\\2499730030.py:3: FutureWarning: YF.download() has changed argument auto_adjust default to True\n",
      "  df = yf.download(\"TSLA\", start=\"2015-01-01\", end=\"2024-12-31\")\n",
      "[*********************100%***********************]  1 of 1 completed\n"
     ]
    },
    {
     "data": {
      "text/html": [
       "<div>\n",
       "<style scoped>\n",
       "    .dataframe tbody tr th:only-of-type {\n",
       "        vertical-align: middle;\n",
       "    }\n",
       "\n",
       "    .dataframe tbody tr th {\n",
       "        vertical-align: top;\n",
       "    }\n",
       "\n",
       "    .dataframe thead tr th {\n",
       "        text-align: left;\n",
       "    }\n",
       "\n",
       "    .dataframe thead tr:last-of-type th {\n",
       "        text-align: right;\n",
       "    }\n",
       "</style>\n",
       "<table border=\"1\" class=\"dataframe\">\n",
       "  <thead>\n",
       "    <tr>\n",
       "      <th>Price</th>\n",
       "      <th>Close</th>\n",
       "      <th>High</th>\n",
       "      <th>Low</th>\n",
       "      <th>Open</th>\n",
       "      <th>Volume</th>\n",
       "    </tr>\n",
       "    <tr>\n",
       "      <th>Ticker</th>\n",
       "      <th>TSLA</th>\n",
       "      <th>TSLA</th>\n",
       "      <th>TSLA</th>\n",
       "      <th>TSLA</th>\n",
       "      <th>TSLA</th>\n",
       "    </tr>\n",
       "    <tr>\n",
       "      <th>Date</th>\n",
       "      <th></th>\n",
       "      <th></th>\n",
       "      <th></th>\n",
       "      <th></th>\n",
       "      <th></th>\n",
       "    </tr>\n",
       "  </thead>\n",
       "  <tbody>\n",
       "    <tr>\n",
       "      <th>2015-01-02</th>\n",
       "      <td>14.620667</td>\n",
       "      <td>14.883333</td>\n",
       "      <td>14.217333</td>\n",
       "      <td>14.858000</td>\n",
       "      <td>71466000</td>\n",
       "    </tr>\n",
       "    <tr>\n",
       "      <th>2015-01-05</th>\n",
       "      <td>14.006000</td>\n",
       "      <td>14.433333</td>\n",
       "      <td>13.810667</td>\n",
       "      <td>14.303333</td>\n",
       "      <td>80527500</td>\n",
       "    </tr>\n",
       "    <tr>\n",
       "      <th>2015-01-06</th>\n",
       "      <td>14.085333</td>\n",
       "      <td>14.280000</td>\n",
       "      <td>13.614000</td>\n",
       "      <td>14.004000</td>\n",
       "      <td>93928500</td>\n",
       "    </tr>\n",
       "    <tr>\n",
       "      <th>2015-01-07</th>\n",
       "      <td>14.063333</td>\n",
       "      <td>14.318667</td>\n",
       "      <td>13.985333</td>\n",
       "      <td>14.223333</td>\n",
       "      <td>44526000</td>\n",
       "    </tr>\n",
       "    <tr>\n",
       "      <th>2015-01-08</th>\n",
       "      <td>14.041333</td>\n",
       "      <td>14.253333</td>\n",
       "      <td>14.000667</td>\n",
       "      <td>14.187333</td>\n",
       "      <td>51637500</td>\n",
       "    </tr>\n",
       "  </tbody>\n",
       "</table>\n",
       "</div>"
      ],
      "text/plain": [
       "Price           Close       High        Low       Open    Volume\n",
       "Ticker           TSLA       TSLA       TSLA       TSLA      TSLA\n",
       "Date                                                            \n",
       "2015-01-02  14.620667  14.883333  14.217333  14.858000  71466000\n",
       "2015-01-05  14.006000  14.433333  13.810667  14.303333  80527500\n",
       "2015-01-06  14.085333  14.280000  13.614000  14.004000  93928500\n",
       "2015-01-07  14.063333  14.318667  13.985333  14.223333  44526000\n",
       "2015-01-08  14.041333  14.253333  14.000667  14.187333  51637500"
      ]
     },
     "execution_count": 4,
     "metadata": {},
     "output_type": "execute_result"
    }
   ],
   "source": [
    "import yfinance as yf\n",
    "\n",
    "df = yf.download(\"TSLA\", start=\"2015-01-01\", end=\"2024-12-31\")\n",
    "df.head()\n"
   ]
  },
  {
   "cell_type": "code",
   "execution_count": 7,
   "id": "dbe85ccd",
   "metadata": {},
   "outputs": [
    {
     "name": "stdout",
     "output_type": "stream",
     "text": [
      "<class 'pandas.core.frame.DataFrame'>\n",
      "DatetimeIndex: 2515 entries, 2015-01-02 to 2024-12-30\n",
      "Data columns (total 5 columns):\n",
      " #   Column          Non-Null Count  Dtype  \n",
      "---  ------          --------------  -----  \n",
      " 0   (Close, TSLA)   2515 non-null   float64\n",
      " 1   (High, TSLA)    2515 non-null   float64\n",
      " 2   (Low, TSLA)     2515 non-null   float64\n",
      " 3   (Open, TSLA)    2515 non-null   float64\n",
      " 4   (Volume, TSLA)  2515 non-null   int64  \n",
      "dtypes: float64(4), int64(1)\n",
      "memory usage: 117.9 KB\n"
     ]
    }
   ],
   "source": [
    "import pandas as pd\n",
    "df.info()\n"
   ]
  },
  {
   "cell_type": "code",
   "execution_count": 8,
   "id": "7f4e2641",
   "metadata": {},
   "outputs": [
    {
     "data": {
      "text/html": [
       "<div>\n",
       "<style scoped>\n",
       "    .dataframe tbody tr th:only-of-type {\n",
       "        vertical-align: middle;\n",
       "    }\n",
       "\n",
       "    .dataframe tbody tr th {\n",
       "        vertical-align: top;\n",
       "    }\n",
       "\n",
       "    .dataframe thead tr th {\n",
       "        text-align: left;\n",
       "    }\n",
       "</style>\n",
       "<table border=\"1\" class=\"dataframe\">\n",
       "  <thead>\n",
       "    <tr>\n",
       "      <th>Price</th>\n",
       "      <th>Close</th>\n",
       "      <th>High</th>\n",
       "      <th>Low</th>\n",
       "      <th>Open</th>\n",
       "      <th>Volume</th>\n",
       "    </tr>\n",
       "    <tr>\n",
       "      <th>Ticker</th>\n",
       "      <th>TSLA</th>\n",
       "      <th>TSLA</th>\n",
       "      <th>TSLA</th>\n",
       "      <th>TSLA</th>\n",
       "      <th>TSLA</th>\n",
       "    </tr>\n",
       "  </thead>\n",
       "  <tbody>\n",
       "    <tr>\n",
       "      <th>count</th>\n",
       "      <td>2515.000000</td>\n",
       "      <td>2515.000000</td>\n",
       "      <td>2515.000000</td>\n",
       "      <td>2515.000000</td>\n",
       "      <td>2.515000e+03</td>\n",
       "    </tr>\n",
       "    <tr>\n",
       "      <th>mean</th>\n",
       "      <td>115.564847</td>\n",
       "      <td>118.127021</td>\n",
       "      <td>112.871415</td>\n",
       "      <td>115.578935</td>\n",
       "      <td>1.123238e+08</td>\n",
       "    </tr>\n",
       "    <tr>\n",
       "      <th>std</th>\n",
       "      <td>114.104456</td>\n",
       "      <td>116.747743</td>\n",
       "      <td>111.357651</td>\n",
       "      <td>114.169550</td>\n",
       "      <td>7.408058e+07</td>\n",
       "    </tr>\n",
       "    <tr>\n",
       "      <th>min</th>\n",
       "      <td>9.578000</td>\n",
       "      <td>10.331333</td>\n",
       "      <td>9.403333</td>\n",
       "      <td>9.488000</td>\n",
       "      <td>1.062000e+07</td>\n",
       "    </tr>\n",
       "    <tr>\n",
       "      <th>25%</th>\n",
       "      <td>17.185000</td>\n",
       "      <td>17.480000</td>\n",
       "      <td>16.888333</td>\n",
       "      <td>17.174334</td>\n",
       "      <td>6.681690e+07</td>\n",
       "    </tr>\n",
       "    <tr>\n",
       "      <th>50%</th>\n",
       "      <td>28.502001</td>\n",
       "      <td>28.713333</td>\n",
       "      <td>27.333332</td>\n",
       "      <td>28.299999</td>\n",
       "      <td>9.286200e+07</td>\n",
       "    </tr>\n",
       "    <tr>\n",
       "      <th>75%</th>\n",
       "      <td>220.178337</td>\n",
       "      <td>225.253334</td>\n",
       "      <td>215.294998</td>\n",
       "      <td>220.825005</td>\n",
       "      <td>1.298032e+08</td>\n",
       "    </tr>\n",
       "    <tr>\n",
       "      <th>max</th>\n",
       "      <td>479.859985</td>\n",
       "      <td>488.540009</td>\n",
       "      <td>457.510010</td>\n",
       "      <td>475.899994</td>\n",
       "      <td>9.140820e+08</td>\n",
       "    </tr>\n",
       "  </tbody>\n",
       "</table>\n",
       "</div>"
      ],
      "text/plain": [
       "Price         Close         High          Low         Open        Volume\n",
       "Ticker         TSLA         TSLA         TSLA         TSLA          TSLA\n",
       "count   2515.000000  2515.000000  2515.000000  2515.000000  2.515000e+03\n",
       "mean     115.564847   118.127021   112.871415   115.578935  1.123238e+08\n",
       "std      114.104456   116.747743   111.357651   114.169550  7.408058e+07\n",
       "min        9.578000    10.331333     9.403333     9.488000  1.062000e+07\n",
       "25%       17.185000    17.480000    16.888333    17.174334  6.681690e+07\n",
       "50%       28.502001    28.713333    27.333332    28.299999  9.286200e+07\n",
       "75%      220.178337   225.253334   215.294998   220.825005  1.298032e+08\n",
       "max      479.859985   488.540009   457.510010   475.899994  9.140820e+08"
      ]
     },
     "execution_count": 8,
     "metadata": {},
     "output_type": "execute_result"
    }
   ],
   "source": [
    "df.describe()"
   ]
  },
  {
   "cell_type": "code",
   "execution_count": 12,
   "id": "79e0098b",
   "metadata": {},
   "outputs": [
    {
     "data": {
      "text/plain": [
       "MultiIndex([( 'Close', 'TSLA'),\n",
       "            (  'High', 'TSLA'),\n",
       "            (   'Low', 'TSLA'),\n",
       "            (  'Open', 'TSLA'),\n",
       "            ('Volume', 'TSLA')],\n",
       "           names=['Price', 'Ticker'])"
      ]
     },
     "execution_count": 12,
     "metadata": {},
     "output_type": "execute_result"
    }
   ],
   "source": [
    "df.columns"
   ]
  },
  {
   "cell_type": "code",
   "execution_count": null,
   "id": "9f327610",
   "metadata": {},
   "outputs": [],
   "source": [
    "# df has MultiIndex columns like ('Close', 'TSLA')\n",
    "df.columns = df.columns.droplevel(1)  # Remove ticker name like 'TSLA'\n",
    "df.to_csv('AAPL_clean.csv')          \n"
   ]
  },
  {
   "cell_type": "code",
   "execution_count": 14,
   "id": "2eb76d57",
   "metadata": {},
   "outputs": [],
   "source": [
    "df = pd.read_csv('AAPL_clean.csv', index_col='Date', parse_dates=True)\n"
   ]
  },
  {
   "cell_type": "code",
   "execution_count": 15,
   "id": "db88caea",
   "metadata": {},
   "outputs": [
    {
     "data": {
      "text/html": [
       "<div>\n",
       "<style scoped>\n",
       "    .dataframe tbody tr th:only-of-type {\n",
       "        vertical-align: middle;\n",
       "    }\n",
       "\n",
       "    .dataframe tbody tr th {\n",
       "        vertical-align: top;\n",
       "    }\n",
       "\n",
       "    .dataframe thead th {\n",
       "        text-align: right;\n",
       "    }\n",
       "</style>\n",
       "<table border=\"1\" class=\"dataframe\">\n",
       "  <thead>\n",
       "    <tr style=\"text-align: right;\">\n",
       "      <th></th>\n",
       "      <th>Close</th>\n",
       "      <th>High</th>\n",
       "      <th>Low</th>\n",
       "      <th>Open</th>\n",
       "      <th>Volume</th>\n",
       "    </tr>\n",
       "    <tr>\n",
       "      <th>Date</th>\n",
       "      <th></th>\n",
       "      <th></th>\n",
       "      <th></th>\n",
       "      <th></th>\n",
       "      <th></th>\n",
       "    </tr>\n",
       "  </thead>\n",
       "  <tbody>\n",
       "    <tr>\n",
       "      <th>2015-01-02</th>\n",
       "      <td>14.620667</td>\n",
       "      <td>14.883333</td>\n",
       "      <td>14.217333</td>\n",
       "      <td>14.858000</td>\n",
       "      <td>71466000</td>\n",
       "    </tr>\n",
       "    <tr>\n",
       "      <th>2015-01-05</th>\n",
       "      <td>14.006000</td>\n",
       "      <td>14.433333</td>\n",
       "      <td>13.810667</td>\n",
       "      <td>14.303333</td>\n",
       "      <td>80527500</td>\n",
       "    </tr>\n",
       "    <tr>\n",
       "      <th>2015-01-06</th>\n",
       "      <td>14.085333</td>\n",
       "      <td>14.280000</td>\n",
       "      <td>13.614000</td>\n",
       "      <td>14.004000</td>\n",
       "      <td>93928500</td>\n",
       "    </tr>\n",
       "    <tr>\n",
       "      <th>2015-01-07</th>\n",
       "      <td>14.063333</td>\n",
       "      <td>14.318667</td>\n",
       "      <td>13.985333</td>\n",
       "      <td>14.223333</td>\n",
       "      <td>44526000</td>\n",
       "    </tr>\n",
       "    <tr>\n",
       "      <th>2015-01-08</th>\n",
       "      <td>14.041333</td>\n",
       "      <td>14.253333</td>\n",
       "      <td>14.000667</td>\n",
       "      <td>14.187333</td>\n",
       "      <td>51637500</td>\n",
       "    </tr>\n",
       "  </tbody>\n",
       "</table>\n",
       "</div>"
      ],
      "text/plain": [
       "                Close       High        Low       Open    Volume\n",
       "Date                                                            \n",
       "2015-01-02  14.620667  14.883333  14.217333  14.858000  71466000\n",
       "2015-01-05  14.006000  14.433333  13.810667  14.303333  80527500\n",
       "2015-01-06  14.085333  14.280000  13.614000  14.004000  93928500\n",
       "2015-01-07  14.063333  14.318667  13.985333  14.223333  44526000\n",
       "2015-01-08  14.041333  14.253333  14.000667  14.187333  51637500"
      ]
     },
     "execution_count": 15,
     "metadata": {},
     "output_type": "execute_result"
    }
   ],
   "source": [
    "df.head()"
   ]
  },
  {
   "cell_type": "code",
   "execution_count": 16,
   "id": "738240e0",
   "metadata": {},
   "outputs": [
    {
     "data": {
      "text/html": [
       "<div>\n",
       "<style scoped>\n",
       "    .dataframe tbody tr th:only-of-type {\n",
       "        vertical-align: middle;\n",
       "    }\n",
       "\n",
       "    .dataframe tbody tr th {\n",
       "        vertical-align: top;\n",
       "    }\n",
       "\n",
       "    .dataframe thead th {\n",
       "        text-align: right;\n",
       "    }\n",
       "</style>\n",
       "<table border=\"1\" class=\"dataframe\">\n",
       "  <thead>\n",
       "    <tr style=\"text-align: right;\">\n",
       "      <th></th>\n",
       "      <th>Close</th>\n",
       "      <th>High</th>\n",
       "      <th>Low</th>\n",
       "      <th>Open</th>\n",
       "      <th>Volume</th>\n",
       "    </tr>\n",
       "    <tr>\n",
       "      <th>Date</th>\n",
       "      <th></th>\n",
       "      <th></th>\n",
       "      <th></th>\n",
       "      <th></th>\n",
       "      <th></th>\n",
       "    </tr>\n",
       "  </thead>\n",
       "  <tbody>\n",
       "    <tr>\n",
       "      <th>2024-12-23</th>\n",
       "      <td>430.600006</td>\n",
       "      <td>434.510010</td>\n",
       "      <td>415.410004</td>\n",
       "      <td>431.000000</td>\n",
       "      <td>72698100</td>\n",
       "    </tr>\n",
       "    <tr>\n",
       "      <th>2024-12-24</th>\n",
       "      <td>462.279999</td>\n",
       "      <td>462.779999</td>\n",
       "      <td>435.140015</td>\n",
       "      <td>435.899994</td>\n",
       "      <td>59551800</td>\n",
       "    </tr>\n",
       "    <tr>\n",
       "      <th>2024-12-26</th>\n",
       "      <td>454.130005</td>\n",
       "      <td>465.329987</td>\n",
       "      <td>451.019989</td>\n",
       "      <td>465.160004</td>\n",
       "      <td>76366400</td>\n",
       "    </tr>\n",
       "    <tr>\n",
       "      <th>2024-12-27</th>\n",
       "      <td>431.660004</td>\n",
       "      <td>450.000000</td>\n",
       "      <td>426.500000</td>\n",
       "      <td>449.519989</td>\n",
       "      <td>82666800</td>\n",
       "    </tr>\n",
       "    <tr>\n",
       "      <th>2024-12-30</th>\n",
       "      <td>417.410004</td>\n",
       "      <td>427.000000</td>\n",
       "      <td>415.750000</td>\n",
       "      <td>419.399994</td>\n",
       "      <td>64941000</td>\n",
       "    </tr>\n",
       "  </tbody>\n",
       "</table>\n",
       "</div>"
      ],
      "text/plain": [
       "                 Close        High         Low        Open    Volume\n",
       "Date                                                                \n",
       "2024-12-23  430.600006  434.510010  415.410004  431.000000  72698100\n",
       "2024-12-24  462.279999  462.779999  435.140015  435.899994  59551800\n",
       "2024-12-26  454.130005  465.329987  451.019989  465.160004  76366400\n",
       "2024-12-27  431.660004  450.000000  426.500000  449.519989  82666800\n",
       "2024-12-30  417.410004  427.000000  415.750000  419.399994  64941000"
      ]
     },
     "execution_count": 16,
     "metadata": {},
     "output_type": "execute_result"
    }
   ],
   "source": [
    "df.tail()"
   ]
  },
  {
   "cell_type": "code",
   "execution_count": 24,
   "id": "e31c9052",
   "metadata": {},
   "outputs": [
    {
     "data": {
      "text/plain": [
       "0        14.620667\n",
       "1        14.006000\n",
       "2        14.085333\n",
       "3        14.063333\n",
       "4        14.041333\n",
       "           ...    \n",
       "2510    430.600006\n",
       "2511    462.279999\n",
       "2512    454.130005\n",
       "2513    431.660004\n",
       "2514    417.410004\n",
       "Name: Close, Length: 2515, dtype: float64"
      ]
     },
     "execution_count": 24,
     "metadata": {},
     "output_type": "execute_result"
    }
   ],
   "source": [
    "df1 = df.reset_index()['Close']\n",
    "df1"
   ]
  },
  {
   "cell_type": "code",
   "execution_count": 26,
   "id": "9a7fea71",
   "metadata": {},
   "outputs": [
    {
     "data": {
      "text/plain": [
       "[<matplotlib.lines.Line2D at 0x1a59815df90>]"
      ]
     },
     "execution_count": 26,
     "metadata": {},
     "output_type": "execute_result"
    },
    {
     "data": {
      "image/png": "[encoded data removed]",
      "text/plain": [
       "<Figure size 640x480 with 1 Axes>"
      ]
     },
     "metadata": {},
     "output_type": "display_data"
    }
   ],
   "source": [
    "import matplotlib.pyplot as plt\n",
    "plt.plot(df1)"
   ]
  },
  {
   "cell_type": "code",
   "execution_count": 36,
   "id": "729b8f63",
   "metadata": {},
   "outputs": [
    {
     "name": "stdout",
     "output_type": "stream",
     "text": [
      "(1760, 1)\n",
      "(755, 1)\n"
     ]
    }
   ],
   "source": [
    "training_size = int(len(df1) * 0.70)\n",
    "train_data = df1[0:training_size]\n",
    "test_data = df1[training_size:]\n",
    "print(train_data.shape)\n",
    "print(test_data.shape)\n"
   ]
  },
  {
   "cell_type": "code",
   "execution_count": 39,
   "id": "a31eaecf",
   "metadata": {},
   "outputs": [],
   "source": [
    "from sklearn.preprocessing import MinMaxScaler\n",
    "scaler = MinMaxScaler(feature_range=(0,1))\n",
    "train_scaled = scaler.fit_transform(np.array(train_data))\n",
    "test_scaled = scaler.transform(test_data)\n"
   ]
  },
  {
   "cell_type": "code",
   "execution_count": 41,
   "id": "13d1e135",
   "metadata": {},
   "outputs": [],
   "source": [
    "def create_dataset(dataset, time_step=1):\n",
    "    dataX, dataY = [],[]\n",
    "    for i in range(len(dataset)-time_step-1):\n",
    "        a = dataset[i:(i+time_step),0]\n",
    "        dataX.append(a)\n",
    "        dataY.append(dataset[i+time_step,0])\n",
    "\n",
    "    return np.array(dataX),np.array(dataY)"
   ]
  },
  {
   "cell_type": "code",
   "execution_count": 42,
   "id": "50aec0bf",
   "metadata": {},
   "outputs": [],
   "source": [
    "time_step = 100\n",
    "X_train, y_train = create_dataset(train_scaled, time_step)\n",
    "X_test, y_test = create_dataset(test_scaled,time_step)"
   ]
  },
  {
   "cell_type": "code",
   "execution_count": 44,
   "id": "d222269e",
   "metadata": {},
   "outputs": [
    {
     "name": "stdout",
     "output_type": "stream",
     "text": [
      "(1659, 100)\n",
      "(1659,)\n"
     ]
    },
    {
     "data": {
      "text/plain": [
       "(None, None)"
      ]
     },
     "execution_count": 44,
     "metadata": {},
     "output_type": "execute_result"
    }
   ],
   "source": [
    "print(X_train.shape),print(y_train.shape)"
   ]
  },
  {
   "cell_type": "code",
   "execution_count": 45,
   "id": "15fad829",
   "metadata": {},
   "outputs": [
    {
     "name": "stdout",
     "output_type": "stream",
     "text": [
      "(654, 100)\n",
      "(654,)\n"
     ]
    },
    {
     "data": {
      "text/plain": [
       "(None, None)"
      ]
     },
     "execution_count": 45,
     "metadata": {},
     "output_type": "execute_result"
    }
   ],
   "source": [
    "print(X_test.shape),print(y_test.shape)"
   ]
  },
  {
   "cell_type": "code",
   "execution_count": 46,
   "id": "d17776e3",
   "metadata": {},
   "outputs": [],
   "source": [
    "# reshape input to be [samples, time steps, features] which is required for LSTM\n",
    "X_train =X_train.reshape(X_train.shape[0],X_train.shape[1] , 1)\n",
    "X_test = X_test.reshape(X_test.shape[0],X_test.shape[1] , 1)"
   ]
  },
  {
   "cell_type": "code",
   "execution_count": 52,
   "id": "34cb0e44",
   "metadata": {},
   "outputs": [],
   "source": [
    "### Create the Stacked LSTM model\n",
    "from tensorflow.keras.models import Sequential\n",
    "from tensorflow.keras.layers import Dense\n",
    "from tensorflow.keras.layers import LSTM"
   ]
  },
  {
   "cell_type": "code",
   "execution_count": 53,
   "id": "fc63c03d",
   "metadata": {},
   "outputs": [],
   "source": [
    "model=Sequential()\n",
    "model.add(LSTM(50,return_sequences=True,input_shape=(100,1)))\n",
    "model.add(LSTM(50,return_sequences=True))\n",
    "model.add(LSTM(50))\n",
    "model.add(Dense(1))\n",
    "model.compile(loss='mean_squared_error',optimizer='adam')"
   ]
  },
  {
   "cell_type": "code",
   "execution_count": 54,
   "id": "308ca3d4",
   "metadata": {},
   "outputs": [
    {
     "data": {
      "text/html": [
       "<pre style=\"white-space:pre;overflow-x:auto;line-height:normal;font-family:Menlo,'DejaVu Sans Mono',consolas,'Courier New',monospace\"><span style=\"font-weight: bold\">Model: \"sequential_1\"</span>\n",
       "</pre>\n"
      ],
      "text/plain": [
       "\u001b[1mModel: \"sequential_1\"\u001b[0m\n"
      ]
     },
     "metadata": {},
     "output_type": "display_data"
    },
    {
     "data": {
      "text/html": [
       "<pre style=\"white-space:pre;overflow-x:auto;line-height:normal;font-family:Menlo,'DejaVu Sans Mono',consolas,'Courier New',monospace\">┏━━━━━━━━━━━━━━━━━━━━━━━━━━━━━━━━━┳━━━━━━━━━━━━━━━━━━━━━━━━┳━━━━━━━━━━━━━━━┓\n",
       "┃<span style=\"font-weight: bold\"> Layer (type)                    </span>┃<span style=\"font-weight: bold\"> Output Shape           </span>┃<span style=\"font-weight: bold\">       Param # </span>┃\n",
       "┡━━━━━━━━━━━━━━━━━━━━━━━━━━━━━━━━━╇━━━━━━━━━━━━━━━━━━━━━━━━╇━━━━━━━━━━━━━━━┩\n",
       "│ lstm_3 (<span style=\"color: #0087ff; text-decoration-color: #0087ff\">LSTM</span>)                   │ (<span style=\"color: #00d7ff; text-decoration-color: #00d7ff\">None</span>, <span style=\"color: #00af00; text-decoration-color: #00af00\">100</span>, <span style=\"color: #00af00; text-decoration-color: #00af00\">50</span>)        │        <span style=\"color: #00af00; text-decoration-color: #00af00\">10,400</span> │\n",
       "├─────────────────────────────────┼────────────────────────┼───────────────┤\n",
       "│ lstm_4 (<span style=\"color: #0087ff; text-decoration-color: #0087ff\">LSTM</span>)                   │ (<span style=\"color: #00d7ff; text-decoration-color: #00d7ff\">None</span>, <span style=\"color: #00af00; text-decoration-color: #00af00\">100</span>, <span style=\"color: #00af00; text-decoration-color: #00af00\">50</span>)        │        <span style=\"color: #00af00; text-decoration-color: #00af00\">20,200</span> │\n",
       "├─────────────────────────────────┼────────────────────────┼───────────────┤\n",
       "│ lstm_5 (<span style=\"color: #0087ff; text-decoration-color: #0087ff\">LSTM</span>)                   │ (<span style=\"color: #00d7ff; text-decoration-color: #00d7ff\">None</span>, <span style=\"color: #00af00; text-decoration-color: #00af00\">50</span>)             │        <span style=\"color: #00af00; text-decoration-color: #00af00\">20,200</span> │\n",
       "├─────────────────────────────────┼────────────────────────┼───────────────┤\n",
       "│ dense_1 (<span style=\"color: #0087ff; text-decoration-color: #0087ff\">Dense</span>)                 │ (<span style=\"color: #00d7ff; text-decoration-color: #00d7ff\">None</span>, <span style=\"color: #00af00; text-decoration-color: #00af00\">1</span>)              │            <span style=\"color: #00af00; text-decoration-color: #00af00\">51</span> │\n",
       "└─────────────────────────────────┴────────────────────────┴───────────────┘\n",
       "</pre>\n"
      ],
      "text/plain": [
       "┏━━━━━━━━━━━━━━━━━━━━━━━━━━━━━━━━━┳━━━━━━━━━━━━━━━━━━━━━━━━┳━━━━━━━━━━━━━━━┓\n",
       "┃\u001b[1m \u001b[0m\u001b[1mLayer (type)                   \u001b[0m\u001b[1m \u001b[0m┃\u001b[1m \u001b[0m\u001b[1mOutput Shape          \u001b[0m\u001b[1m \u001b[0m┃\u001b[1m \u001b[0m\u001b[1m      Param #\u001b[0m\u001b[1m \u001b[0m┃\n",
       "┡━━━━━━━━━━━━━━━━━━━━━━━━━━━━━━━━━╇━━━━━━━━━━━━━━━━━━━━━━━━╇━━━━━━━━━━━━━━━┩\n",
       "│ lstm_3 (\u001b[38;5;33mLSTM\u001b[0m)                   │ (\u001b[38;5;45mNone\u001b[0m, \u001b[38;5;34m100\u001b[0m, \u001b[38;5;34m50\u001b[0m)        │        \u001b[38;5;34m10,400\u001b[0m │\n",
       "├─────────────────────────────────┼────────────────────────┼───────────────┤\n",
       "│ lstm_4 (\u001b[38;5;33mLSTM\u001b[0m)                   │ (\u001b[38;5;45mNone\u001b[0m, \u001b[38;5;34m100\u001b[0m, \u001b[38;5;34m50\u001b[0m)        │        \u001b[38;5;34m20,200\u001b[0m │\n",
       "├─────────────────────────────────┼────────────────────────┼───────────────┤\n",
       "│ lstm_5 (\u001b[38;5;33mLSTM\u001b[0m)                   │ (\u001b[38;5;45mNone\u001b[0m, \u001b[38;5;34m50\u001b[0m)             │        \u001b[38;5;34m20,200\u001b[0m │\n",
       "├─────────────────────────────────┼────────────────────────┼───────────────┤\n",
       "│ dense_1 (\u001b[38;5;33mDense\u001b[0m)                 │ (\u001b[38;5;45mNone\u001b[0m, \u001b[38;5;34m1\u001b[0m)              │            \u001b[38;5;34m51\u001b[0m │\n",
       "└─────────────────────────────────┴────────────────────────┴───────────────┘\n"
      ]
     },
     "metadata": {},
     "output_type": "display_data"
    },
    {
     "data": {
      "text/html": [
       "<pre style=\"white-space:pre;overflow-x:auto;line-height:normal;font-family:Menlo,'DejaVu Sans Mono',consolas,'Courier New',monospace\"><span style=\"font-weight: bold\"> Total params: </span><span style=\"color: #00af00; text-decoration-color: #00af00\">50,851</span> (198.64 KB)\n",
       "</pre>\n"
      ],
      "text/plain": [
       "\u001b[1m Total params: \u001b[0m\u001b[38;5;34m50,851\u001b[0m (198.64 KB)\n"
      ]
     },
     "metadata": {},
     "output_type": "display_data"
    },
    {
     "data": {
      "text/html": [
       "<pre style=\"white-space:pre;overflow-x:auto;line-height:normal;font-family:Menlo,'DejaVu Sans Mono',consolas,'Courier New',monospace\"><span style=\"font-weight: bold\"> Trainable params: </span><span style=\"color: #00af00; text-decoration-color: #00af00\">50,851</span> (198.64 KB)\n",
       "</pre>\n"
      ],
      "text/plain": [
       "\u001b[1m Trainable params: \u001b[0m\u001b[38;5;34m50,851\u001b[0m (198.64 KB)\n"
      ]
     },
     "metadata": {},
     "output_type": "display_data"
    },
    {
     "data": {
      "text/html": [
       "<pre style=\"white-space:pre;overflow-x:auto;line-height:normal;font-family:Menlo,'DejaVu Sans Mono',consolas,'Courier New',monospace\"><span style=\"font-weight: bold\"> Non-trainable params: </span><span style=\"color: #00af00; text-decoration-color: #00af00\">0</span> (0.00 B)\n",
       "</pre>\n"
      ],
      "text/plain": [
       "\u001b[1m Non-trainable params: \u001b[0m\u001b[38;5;34m0\u001b[0m (0.00 B)\n"
      ]
     },
     "metadata": {},
     "output_type": "display_data"
    }
   ],
   "source": [
    "model.summary()"
   ]
  },
  {
   "cell_type": "code",
   "execution_count": 55,
   "id": "d9751816",
   "metadata": {},
   "outputs": [
    {
     "name": "stdout",
     "output_type": "stream",
     "text": [
      "Epoch 1/100\n",
      "\u001b[1m26/26\u001b[0m \u001b[32m━━━━━━━━━━━━━━━━━━━━\u001b[0m\u001b[37m\u001b[0m \u001b[1m5s\u001b[0m 86ms/step - loss: 0.0230 - val_loss: 0.0041\n",
      "Epoch 2/100\n",
      "\u001b[1m26/26\u001b[0m \u001b[32m━━━━━━━━━━━━━━━━━━━━\u001b[0m\u001b[37m\u001b[0m \u001b[1m2s\u001b[0m 68ms/step - loss: 0.0012 - val_loss: 0.0039\n",
      "Epoch 3/100\n",
      "\u001b[1m26/26\u001b[0m \u001b[32m━━━━━━━━━━━━━━━━━━━━\u001b[0m\u001b[37m\u001b[0m \u001b[1m2s\u001b[0m 68ms/step - loss: 7.8573e-04 - val_loss: 0.0034\n",
      "Epoch 4/100\n",
      "\u001b[1m26/26\u001b[0m \u001b[32m━━━━━━━━━━━━━━━━━━━━\u001b[0m\u001b[37m\u001b[0m \u001b[1m2s\u001b[0m 68ms/step - loss: 9.9466e-04 - val_loss: 0.0032\n",
      "Epoch 5/100\n",
      "\u001b[1m26/26\u001b[0m \u001b[32m━━━━━━━━━━━━━━━━━━━━\u001b[0m\u001b[37m\u001b[0m \u001b[1m2s\u001b[0m 68ms/step - loss: 8.0195e-04 - val_loss: 0.0031\n",
      "Epoch 6/100\n",
      "\u001b[1m26/26\u001b[0m \u001b[32m━━━━━━━━━━━━━━━━━━━━\u001b[0m\u001b[37m\u001b[0m \u001b[1m2s\u001b[0m 71ms/step - loss: 6.6431e-04 - val_loss: 0.0030\n",
      "Epoch 7/100\n",
      "\u001b[1m26/26\u001b[0m \u001b[32m━━━━━━━━━━━━━━━━━━━━\u001b[0m\u001b[37m\u001b[0m \u001b[1m2s\u001b[0m 69ms/step - loss: 6.9411e-04 - val_loss: 0.0025\n",
      "Epoch 8/100\n",
      "\u001b[1m26/26\u001b[0m \u001b[32m━━━━━━━━━━━━━━━━━━━━\u001b[0m\u001b[37m\u001b[0m \u001b[1m2s\u001b[0m 67ms/step - loss: 7.9497e-04 - val_loss: 0.0023\n",
      "Epoch 9/100\n",
      "\u001b[1m26/26\u001b[0m \u001b[32m━━━━━━━━━━━━━━━━━━━━\u001b[0m\u001b[37m\u001b[0m \u001b[1m2s\u001b[0m 73ms/step - loss: 5.8826e-04 - val_loss: 0.0028\n",
      "Epoch 10/100\n",
      "\u001b[1m26/26\u001b[0m \u001b[32m━━━━━━━━━━━━━━━━━━━━\u001b[0m\u001b[37m\u001b[0m \u001b[1m2s\u001b[0m 72ms/step - loss: 6.1647e-04 - val_loss: 0.0023\n",
      "Epoch 11/100\n",
      "\u001b[1m26/26\u001b[0m \u001b[32m━━━━━━━━━━━━━━━━━━━━\u001b[0m\u001b[37m\u001b[0m \u001b[1m2s\u001b[0m 76ms/step - loss: 6.8621e-04 - val_loss: 0.0021\n",
      "Epoch 12/100\n",
      "\u001b[1m26/26\u001b[0m \u001b[32m━━━━━━━━━━━━━━━━━━━━\u001b[0m\u001b[37m\u001b[0m \u001b[1m2s\u001b[0m 72ms/step - loss: 7.6832e-04 - val_loss: 0.0021\n",
      "Epoch 13/100\n",
      "\u001b[1m26/26\u001b[0m \u001b[32m━━━━━━━━━━━━━━━━━━━━\u001b[0m\u001b[37m\u001b[0m \u001b[1m2s\u001b[0m 69ms/step - loss: 6.1673e-04 - val_loss: 0.0020\n",
      "Epoch 14/100\n",
      "\u001b[1m26/26\u001b[0m \u001b[32m━━━━━━━━━━━━━━━━━━━━\u001b[0m\u001b[37m\u001b[0m \u001b[1m2s\u001b[0m 69ms/step - loss: 6.4150e-04 - val_loss: 0.0018\n",
      "Epoch 15/100\n",
      "\u001b[1m26/26\u001b[0m \u001b[32m━━━━━━━━━━━━━━━━━━━━\u001b[0m\u001b[37m\u001b[0m \u001b[1m2s\u001b[0m 69ms/step - loss: 7.1484e-04 - val_loss: 0.0022\n",
      "Epoch 16/100\n",
      "\u001b[1m26/26\u001b[0m \u001b[32m━━━━━━━━━━━━━━━━━━━━\u001b[0m\u001b[37m\u001b[0m \u001b[1m2s\u001b[0m 69ms/step - loss: 4.8959e-04 - val_loss: 0.0018\n",
      "Epoch 17/100\n",
      "\u001b[1m26/26\u001b[0m \u001b[32m━━━━━━━━━━━━━━━━━━━━\u001b[0m\u001b[37m\u001b[0m \u001b[1m2s\u001b[0m 69ms/step - loss: 5.8142e-04 - val_loss: 0.0023\n",
      "Epoch 18/100\n",
      "\u001b[1m26/26\u001b[0m \u001b[32m━━━━━━━━━━━━━━━━━━━━\u001b[0m\u001b[37m\u001b[0m \u001b[1m2s\u001b[0m 69ms/step - loss: 4.5770e-04 - val_loss: 0.0017\n",
      "Epoch 19/100\n",
      "\u001b[1m26/26\u001b[0m \u001b[32m━━━━━━━━━━━━━━━━━━━━\u001b[0m\u001b[37m\u001b[0m \u001b[1m2s\u001b[0m 69ms/step - loss: 5.1336e-04 - val_loss: 0.0016\n",
      "Epoch 20/100\n",
      "\u001b[1m26/26\u001b[0m \u001b[32m━━━━━━━━━━━━━━━━━━━━\u001b[0m\u001b[37m\u001b[0m \u001b[1m2s\u001b[0m 70ms/step - loss: 5.4138e-04 - val_loss: 0.0046\n",
      "Epoch 21/100\n",
      "\u001b[1m26/26\u001b[0m \u001b[32m━━━━━━━━━━━━━━━━━━━━\u001b[0m\u001b[37m\u001b[0m \u001b[1m2s\u001b[0m 69ms/step - loss: 7.7094e-04 - val_loss: 0.0020\n",
      "Epoch 22/100\n",
      "\u001b[1m26/26\u001b[0m \u001b[32m━━━━━━━━━━━━━━━━━━━━\u001b[0m\u001b[37m\u001b[0m \u001b[1m2s\u001b[0m 69ms/step - loss: 5.3753e-04 - val_loss: 0.0015\n",
      "Epoch 23/100\n",
      "\u001b[1m26/26\u001b[0m \u001b[32m━━━━━━━━━━━━━━━━━━━━\u001b[0m\u001b[37m\u001b[0m \u001b[1m2s\u001b[0m 70ms/step - loss: 4.3560e-04 - val_loss: 0.0015\n",
      "Epoch 24/100\n",
      "\u001b[1m26/26\u001b[0m \u001b[32m━━━━━━━━━━━━━━━━━━━━\u001b[0m\u001b[37m\u001b[0m \u001b[1m2s\u001b[0m 68ms/step - loss: 3.3035e-04 - val_loss: 0.0014\n",
      "Epoch 25/100\n",
      "\u001b[1m26/26\u001b[0m \u001b[32m━━━━━━━━━━━━━━━━━━━━\u001b[0m\u001b[37m\u001b[0m \u001b[1m2s\u001b[0m 69ms/step - loss: 4.7367e-04 - val_loss: 0.0014\n",
      "Epoch 26/100\n",
      "\u001b[1m26/26\u001b[0m \u001b[32m━━━━━━━━━━━━━━━━━━━━\u001b[0m\u001b[37m\u001b[0m \u001b[1m2s\u001b[0m 68ms/step - loss: 4.9810e-04 - val_loss: 0.0015\n",
      "Epoch 27/100\n",
      "\u001b[1m26/26\u001b[0m \u001b[32m━━━━━━━━━━━━━━━━━━━━\u001b[0m\u001b[37m\u001b[0m \u001b[1m2s\u001b[0m 69ms/step - loss: 4.2906e-04 - val_loss: 0.0016\n",
      "Epoch 28/100\n",
      "\u001b[1m26/26\u001b[0m \u001b[32m━━━━━━━━━━━━━━━━━━━━\u001b[0m\u001b[37m\u001b[0m \u001b[1m2s\u001b[0m 70ms/step - loss: 3.8892e-04 - val_loss: 0.0020\n",
      "Epoch 29/100\n",
      "\u001b[1m26/26\u001b[0m \u001b[32m━━━━━━━━━━━━━━━━━━━━\u001b[0m\u001b[37m\u001b[0m \u001b[1m2s\u001b[0m 70ms/step - loss: 4.4921e-04 - val_loss: 0.0023\n",
      "Epoch 30/100\n",
      "\u001b[1m26/26\u001b[0m \u001b[32m━━━━━━━━━━━━━━━━━━━━\u001b[0m\u001b[37m\u001b[0m \u001b[1m2s\u001b[0m 70ms/step - loss: 4.3159e-04 - val_loss: 0.0011\n",
      "Epoch 31/100\n",
      "\u001b[1m26/26\u001b[0m \u001b[32m━━━━━━━━━━━━━━━━━━━━\u001b[0m\u001b[37m\u001b[0m \u001b[1m2s\u001b[0m 69ms/step - loss: 3.8644e-04 - val_loss: 0.0011\n",
      "Epoch 32/100\n",
      "\u001b[1m26/26\u001b[0m \u001b[32m━━━━━━━━━━━━━━━━━━━━\u001b[0m\u001b[37m\u001b[0m \u001b[1m2s\u001b[0m 69ms/step - loss: 3.7828e-04 - val_loss: 0.0014\n",
      "Epoch 33/100\n",
      "\u001b[1m26/26\u001b[0m \u001b[32m━━━━━━━━━━━━━━━━━━━━\u001b[0m\u001b[37m\u001b[0m \u001b[1m2s\u001b[0m 68ms/step - loss: 3.5819e-04 - val_loss: 0.0010\n",
      "Epoch 34/100\n",
      "\u001b[1m26/26\u001b[0m \u001b[32m━━━━━━━━━━━━━━━━━━━━\u001b[0m\u001b[37m\u001b[0m \u001b[1m2s\u001b[0m 70ms/step - loss: 3.0062e-04 - val_loss: 9.7350e-04\n",
      "Epoch 35/100\n",
      "\u001b[1m26/26\u001b[0m \u001b[32m━━━━━━━━━━━━━━━━━━━━\u001b[0m\u001b[37m\u001b[0m \u001b[1m2s\u001b[0m 68ms/step - loss: 3.7083e-04 - val_loss: 0.0010\n",
      "Epoch 36/100\n",
      "\u001b[1m26/26\u001b[0m \u001b[32m━━━━━━━━━━━━━━━━━━━━\u001b[0m\u001b[37m\u001b[0m \u001b[1m2s\u001b[0m 70ms/step - loss: 3.9238e-04 - val_loss: 0.0010\n",
      "Epoch 37/100\n",
      "\u001b[1m26/26\u001b[0m \u001b[32m━━━━━━━━━━━━━━━━━━━━\u001b[0m\u001b[37m\u001b[0m \u001b[1m2s\u001b[0m 69ms/step - loss: 3.1341e-04 - val_loss: 0.0012\n",
      "Epoch 38/100\n",
      "\u001b[1m26/26\u001b[0m \u001b[32m━━━━━━━━━━━━━━━━━━━━\u001b[0m\u001b[37m\u001b[0m \u001b[1m2s\u001b[0m 71ms/step - loss: 3.9790e-04 - val_loss: 9.3486e-04\n",
      "Epoch 39/100\n",
      "\u001b[1m26/26\u001b[0m \u001b[32m━━━━━━━━━━━━━━━━━━━━\u001b[0m\u001b[37m\u001b[0m \u001b[1m2s\u001b[0m 71ms/step - loss: 2.2835e-04 - val_loss: 9.1449e-04\n",
      "Epoch 40/100\n",
      "\u001b[1m26/26\u001b[0m \u001b[32m━━━━━━━━━━━━━━━━━━━━\u001b[0m\u001b[37m\u001b[0m \u001b[1m2s\u001b[0m 69ms/step - loss: 2.9157e-04 - val_loss: 0.0012\n",
      "Epoch 41/100\n",
      "\u001b[1m26/26\u001b[0m \u001b[32m━━━━━━━━━━━━━━━━━━━━\u001b[0m\u001b[37m\u001b[0m \u001b[1m2s\u001b[0m 69ms/step - loss: 2.8906e-04 - val_loss: 9.9585e-04\n",
      "Epoch 42/100\n",
      "\u001b[1m26/26\u001b[0m \u001b[32m━━━━━━━━━━━━━━━━━━━━\u001b[0m\u001b[37m\u001b[0m \u001b[1m2s\u001b[0m 70ms/step - loss: 3.0398e-04 - val_loss: 8.9391e-04\n",
      "Epoch 43/100\n",
      "\u001b[1m26/26\u001b[0m \u001b[32m━━━━━━━━━━━━━━━━━━━━\u001b[0m\u001b[37m\u001b[0m \u001b[1m2s\u001b[0m 70ms/step - loss: 2.9371e-04 - val_loss: 8.3846e-04\n",
      "Epoch 44/100\n",
      "\u001b[1m26/26\u001b[0m \u001b[32m━━━━━━━━━━━━━━━━━━━━\u001b[0m\u001b[37m\u001b[0m \u001b[1m2s\u001b[0m 70ms/step - loss: 2.6420e-04 - val_loss: 7.7563e-04\n",
      "Epoch 45/100\n",
      "\u001b[1m26/26\u001b[0m \u001b[32m━━━━━━━━━━━━━━━━━━━━\u001b[0m\u001b[37m\u001b[0m \u001b[1m2s\u001b[0m 70ms/step - loss: 2.2189e-04 - val_loss: 7.7018e-04\n",
      "Epoch 46/100\n",
      "\u001b[1m26/26\u001b[0m \u001b[32m━━━━━━━━━━━━━━━━━━━━\u001b[0m\u001b[37m\u001b[0m \u001b[1m2s\u001b[0m 69ms/step - loss: 2.2090e-04 - val_loss: 7.8714e-04\n",
      "Epoch 47/100\n",
      "\u001b[1m26/26\u001b[0m \u001b[32m━━━━━━━━━━━━━━━━━━━━\u001b[0m\u001b[37m\u001b[0m \u001b[1m2s\u001b[0m 70ms/step - loss: 2.1039e-04 - val_loss: 7.5350e-04\n",
      "Epoch 48/100\n",
      "\u001b[1m26/26\u001b[0m \u001b[32m━━━━━━━━━━━━━━━━━━━━\u001b[0m\u001b[37m\u001b[0m \u001b[1m2s\u001b[0m 71ms/step - loss: 2.4190e-04 - val_loss: 9.2752e-04\n",
      "Epoch 49/100\n",
      "\u001b[1m26/26\u001b[0m \u001b[32m━━━━━━━━━━━━━━━━━━━━\u001b[0m\u001b[37m\u001b[0m \u001b[1m2s\u001b[0m 71ms/step - loss: 2.5978e-04 - val_loss: 0.0010\n",
      "Epoch 50/100\n",
      "\u001b[1m26/26\u001b[0m \u001b[32m━━━━━━━━━━━━━━━━━━━━\u001b[0m\u001b[37m\u001b[0m \u001b[1m2s\u001b[0m 70ms/step - loss: 2.8973e-04 - val_loss: 0.0015\n",
      "Epoch 51/100\n",
      "\u001b[1m26/26\u001b[0m \u001b[32m━━━━━━━━━━━━━━━━━━━━\u001b[0m\u001b[37m\u001b[0m \u001b[1m2s\u001b[0m 70ms/step - loss: 2.9384e-04 - val_loss: 0.0012\n",
      "Epoch 52/100\n",
      "\u001b[1m26/26\u001b[0m \u001b[32m━━━━━━━━━━━━━━━━━━━━\u001b[0m\u001b[37m\u001b[0m \u001b[1m2s\u001b[0m 69ms/step - loss: 2.2844e-04 - val_loss: 8.9066e-04\n",
      "Epoch 53/100\n",
      "\u001b[1m26/26\u001b[0m \u001b[32m━━━━━━━━━━━━━━━━━━━━\u001b[0m\u001b[37m\u001b[0m \u001b[1m2s\u001b[0m 69ms/step - loss: 2.2620e-04 - val_loss: 8.0571e-04\n",
      "Epoch 54/100\n",
      "\u001b[1m26/26\u001b[0m \u001b[32m━━━━━━━━━━━━━━━━━━━━\u001b[0m\u001b[37m\u001b[0m \u001b[1m2s\u001b[0m 69ms/step - loss: 2.2115e-04 - val_loss: 0.0013\n",
      "Epoch 55/100\n",
      "\u001b[1m26/26\u001b[0m \u001b[32m━━━━━━━━━━━━━━━━━━━━\u001b[0m\u001b[37m\u001b[0m \u001b[1m2s\u001b[0m 70ms/step - loss: 3.1004e-04 - val_loss: 7.5605e-04\n",
      "Epoch 56/100\n",
      "\u001b[1m26/26\u001b[0m \u001b[32m━━━━━━━━━━━━━━━━━━━━\u001b[0m\u001b[37m\u001b[0m \u001b[1m2s\u001b[0m 70ms/step - loss: 1.8762e-04 - val_loss: 6.8935e-04\n",
      "Epoch 57/100\n",
      "\u001b[1m26/26\u001b[0m \u001b[32m━━━━━━━━━━━━━━━━━━━━\u001b[0m\u001b[37m\u001b[0m \u001b[1m2s\u001b[0m 70ms/step - loss: 2.3734e-04 - val_loss: 8.9097e-04\n",
      "Epoch 58/100\n",
      "\u001b[1m26/26\u001b[0m \u001b[32m━━━━━━━━━━━━━━━━━━━━\u001b[0m\u001b[37m\u001b[0m \u001b[1m2s\u001b[0m 71ms/step - loss: 1.7760e-04 - val_loss: 6.5004e-04\n",
      "Epoch 59/100\n",
      "\u001b[1m26/26\u001b[0m \u001b[32m━━━━━━━━━━━━━━━━━━━━\u001b[0m\u001b[37m\u001b[0m \u001b[1m2s\u001b[0m 70ms/step - loss: 2.0015e-04 - val_loss: 7.4100e-04\n",
      "Epoch 60/100\n",
      "\u001b[1m26/26\u001b[0m \u001b[32m━━━━━━━━━━━━━━━━━━━━\u001b[0m\u001b[37m\u001b[0m \u001b[1m2s\u001b[0m 70ms/step - loss: 2.0986e-04 - val_loss: 7.1840e-04\n",
      "Epoch 61/100\n",
      "\u001b[1m26/26\u001b[0m \u001b[32m━━━━━━━━━━━━━━━━━━━━\u001b[0m\u001b[37m\u001b[0m \u001b[1m2s\u001b[0m 70ms/step - loss: 2.4823e-04 - val_loss: 8.9141e-04\n",
      "Epoch 62/100\n",
      "\u001b[1m26/26\u001b[0m \u001b[32m━━━━━━━━━━━━━━━━━━━━\u001b[0m\u001b[37m\u001b[0m \u001b[1m2s\u001b[0m 68ms/step - loss: 2.7383e-04 - val_loss: 6.2484e-04\n",
      "Epoch 63/100\n",
      "\u001b[1m26/26\u001b[0m \u001b[32m━━━━━━━━━━━━━━━━━━━━\u001b[0m\u001b[37m\u001b[0m \u001b[1m2s\u001b[0m 71ms/step - loss: 2.0107e-04 - val_loss: 6.4529e-04\n",
      "Epoch 64/100\n",
      "\u001b[1m26/26\u001b[0m \u001b[32m━━━━━━━━━━━━━━━━━━━━\u001b[0m\u001b[37m\u001b[0m \u001b[1m2s\u001b[0m 70ms/step - loss: 2.3169e-04 - val_loss: 7.6014e-04\n",
      "Epoch 65/100\n",
      "\u001b[1m26/26\u001b[0m \u001b[32m━━━━━━━━━━━━━━━━━━━━\u001b[0m\u001b[37m\u001b[0m \u001b[1m2s\u001b[0m 70ms/step - loss: 1.9622e-04 - val_loss: 7.5492e-04\n",
      "Epoch 66/100\n",
      "\u001b[1m26/26\u001b[0m \u001b[32m━━━━━━━━━━━━━━━━━━━━\u001b[0m\u001b[37m\u001b[0m \u001b[1m2s\u001b[0m 69ms/step - loss: 2.1314e-04 - val_loss: 5.8267e-04\n",
      "Epoch 67/100\n",
      "\u001b[1m26/26\u001b[0m \u001b[32m━━━━━━━━━━━━━━━━━━━━\u001b[0m\u001b[37m\u001b[0m \u001b[1m2s\u001b[0m 70ms/step - loss: 1.6175e-04 - val_loss: 8.7685e-04\n",
      "Epoch 68/100\n",
      "\u001b[1m26/26\u001b[0m \u001b[32m━━━━━━━━━━━━━━━━━━━━\u001b[0m\u001b[37m\u001b[0m \u001b[1m2s\u001b[0m 69ms/step - loss: 2.1509e-04 - val_loss: 5.8287e-04\n",
      "Epoch 69/100\n",
      "\u001b[1m26/26\u001b[0m \u001b[32m━━━━━━━━━━━━━━━━━━━━\u001b[0m\u001b[37m\u001b[0m \u001b[1m2s\u001b[0m 69ms/step - loss: 1.9503e-04 - val_loss: 6.7124e-04\n",
      "Epoch 70/100\n",
      "\u001b[1m26/26\u001b[0m \u001b[32m━━━━━━━━━━━━━━━━━━━━\u001b[0m\u001b[37m\u001b[0m \u001b[1m2s\u001b[0m 69ms/step - loss: 1.5891e-04 - val_loss: 5.5675e-04\n",
      "Epoch 71/100\n",
      "\u001b[1m26/26\u001b[0m \u001b[32m━━━━━━━━━━━━━━━━━━━━\u001b[0m\u001b[37m\u001b[0m \u001b[1m2s\u001b[0m 70ms/step - loss: 1.9302e-04 - val_loss: 5.5600e-04\n",
      "Epoch 72/100\n",
      "\u001b[1m26/26\u001b[0m \u001b[32m━━━━━━━━━━━━━━━━━━━━\u001b[0m\u001b[37m\u001b[0m \u001b[1m2s\u001b[0m 70ms/step - loss: 2.0844e-04 - val_loss: 6.4016e-04\n",
      "Epoch 73/100\n",
      "\u001b[1m26/26\u001b[0m \u001b[32m━━━━━━━━━━━━━━━━━━━━\u001b[0m\u001b[37m\u001b[0m \u001b[1m2s\u001b[0m 71ms/step - loss: 1.6498e-04 - val_loss: 5.2343e-04\n",
      "Epoch 74/100\n",
      "\u001b[1m26/26\u001b[0m \u001b[32m━━━━━━━━━━━━━━━━━━━━\u001b[0m\u001b[37m\u001b[0m \u001b[1m2s\u001b[0m 69ms/step - loss: 1.7184e-04 - val_loss: 5.3398e-04\n",
      "Epoch 75/100\n",
      "\u001b[1m26/26\u001b[0m \u001b[32m━━━━━━━━━━━━━━━━━━━━\u001b[0m\u001b[37m\u001b[0m \u001b[1m2s\u001b[0m 70ms/step - loss: 1.9072e-04 - val_loss: 5.3670e-04\n",
      "Epoch 76/100\n",
      "\u001b[1m26/26\u001b[0m \u001b[32m━━━━━━━━━━━━━━━━━━━━\u001b[0m\u001b[37m\u001b[0m \u001b[1m2s\u001b[0m 70ms/step - loss: 1.9277e-04 - val_loss: 5.0327e-04\n",
      "Epoch 77/100\n",
      "\u001b[1m26/26\u001b[0m \u001b[32m━━━━━━━━━━━━━━━━━━━━\u001b[0m\u001b[37m\u001b[0m \u001b[1m2s\u001b[0m 70ms/step - loss: 1.5751e-04 - val_loss: 4.7739e-04\n",
      "Epoch 78/100\n",
      "\u001b[1m26/26\u001b[0m \u001b[32m━━━━━━━━━━━━━━━━━━━━\u001b[0m\u001b[37m\u001b[0m \u001b[1m2s\u001b[0m 69ms/step - loss: 1.6186e-04 - val_loss: 4.7795e-04\n",
      "Epoch 79/100\n",
      "\u001b[1m26/26\u001b[0m \u001b[32m━━━━━━━━━━━━━━━━━━━━\u001b[0m\u001b[37m\u001b[0m \u001b[1m2s\u001b[0m 69ms/step - loss: 1.5658e-04 - val_loss: 4.5748e-04\n",
      "Epoch 80/100\n",
      "\u001b[1m26/26\u001b[0m \u001b[32m━━━━━━━━━━━━━━━━━━━━\u001b[0m\u001b[37m\u001b[0m \u001b[1m2s\u001b[0m 70ms/step - loss: 1.9376e-04 - val_loss: 4.5416e-04\n",
      "Epoch 81/100\n",
      "\u001b[1m26/26\u001b[0m \u001b[32m━━━━━━━━━━━━━━━━━━━━\u001b[0m\u001b[37m\u001b[0m \u001b[1m2s\u001b[0m 70ms/step - loss: 1.2946e-04 - val_loss: 5.6710e-04\n",
      "Epoch 82/100\n",
      "\u001b[1m26/26\u001b[0m \u001b[32m━━━━━━━━━━━━━━━━━━━━\u001b[0m\u001b[37m\u001b[0m \u001b[1m2s\u001b[0m 70ms/step - loss: 1.7337e-04 - val_loss: 4.3803e-04\n",
      "Epoch 83/100\n",
      "\u001b[1m26/26\u001b[0m \u001b[32m━━━━━━━━━━━━━━━━━━━━\u001b[0m\u001b[37m\u001b[0m \u001b[1m2s\u001b[0m 70ms/step - loss: 1.2287e-04 - val_loss: 4.3751e-04\n",
      "Epoch 84/100\n",
      "\u001b[1m26/26\u001b[0m \u001b[32m━━━━━━━━━━━━━━━━━━━━\u001b[0m\u001b[37m\u001b[0m \u001b[1m2s\u001b[0m 70ms/step - loss: 1.4637e-04 - val_loss: 5.2425e-04\n",
      "Epoch 85/100\n",
      "\u001b[1m26/26\u001b[0m \u001b[32m━━━━━━━━━━━━━━━━━━━━\u001b[0m\u001b[37m\u001b[0m \u001b[1m2s\u001b[0m 70ms/step - loss: 1.7367e-04 - val_loss: 7.3785e-04\n",
      "Epoch 86/100\n",
      "\u001b[1m26/26\u001b[0m \u001b[32m━━━━━━━━━━━━━━━━━━━━\u001b[0m\u001b[37m\u001b[0m \u001b[1m2s\u001b[0m 70ms/step - loss: 2.2235e-04 - val_loss: 4.3435e-04\n",
      "Epoch 87/100\n",
      "\u001b[1m26/26\u001b[0m \u001b[32m━━━━━━━━━━━━━━━━━━━━\u001b[0m\u001b[37m\u001b[0m \u001b[1m2s\u001b[0m 70ms/step - loss: 1.5334e-04 - val_loss: 6.4954e-04\n",
      "Epoch 88/100\n",
      "\u001b[1m26/26\u001b[0m \u001b[32m━━━━━━━━━━━━━━━━━━━━\u001b[0m\u001b[37m\u001b[0m \u001b[1m2s\u001b[0m 70ms/step - loss: 1.7315e-04 - val_loss: 4.2689e-04\n",
      "Epoch 89/100\n",
      "\u001b[1m26/26\u001b[0m \u001b[32m━━━━━━━━━━━━━━━━━━━━\u001b[0m\u001b[37m\u001b[0m \u001b[1m2s\u001b[0m 71ms/step - loss: 1.5491e-04 - val_loss: 4.1705e-04\n",
      "Epoch 90/100\n",
      "\u001b[1m26/26\u001b[0m \u001b[32m━━━━━━━━━━━━━━━━━━━━\u001b[0m\u001b[37m\u001b[0m \u001b[1m2s\u001b[0m 70ms/step - loss: 1.4350e-04 - val_loss: 4.0401e-04\n",
      "Epoch 91/100\n",
      "\u001b[1m26/26\u001b[0m \u001b[32m━━━━━━━━━━━━━━━━━━━━\u001b[0m\u001b[37m\u001b[0m \u001b[1m2s\u001b[0m 70ms/step - loss: 1.1564e-04 - val_loss: 5.7435e-04\n",
      "Epoch 92/100\n",
      "\u001b[1m26/26\u001b[0m \u001b[32m━━━━━━━━━━━━━━━━━━━━\u001b[0m\u001b[37m\u001b[0m \u001b[1m2s\u001b[0m 70ms/step - loss: 1.7501e-04 - val_loss: 5.3983e-04\n",
      "Epoch 93/100\n",
      "\u001b[1m26/26\u001b[0m \u001b[32m━━━━━━━━━━━━━━━━━━━━\u001b[0m\u001b[37m\u001b[0m \u001b[1m2s\u001b[0m 69ms/step - loss: 1.4006e-04 - val_loss: 5.6148e-04\n",
      "Epoch 94/100\n",
      "\u001b[1m26/26\u001b[0m \u001b[32m━━━━━━━━━━━━━━━━━━━━\u001b[0m\u001b[37m\u001b[0m \u001b[1m2s\u001b[0m 69ms/step - loss: 1.2744e-04 - val_loss: 4.8822e-04\n",
      "Epoch 95/100\n",
      "\u001b[1m26/26\u001b[0m \u001b[32m━━━━━━━━━━━━━━━━━━━━\u001b[0m\u001b[37m\u001b[0m \u001b[1m2s\u001b[0m 70ms/step - loss: 1.4797e-04 - val_loss: 4.2336e-04\n",
      "Epoch 96/100\n",
      "\u001b[1m26/26\u001b[0m \u001b[32m━━━━━━━━━━━━━━━━━━━━\u001b[0m\u001b[37m\u001b[0m \u001b[1m2s\u001b[0m 70ms/step - loss: 1.3057e-04 - val_loss: 4.7980e-04\n",
      "Epoch 97/100\n",
      "\u001b[1m26/26\u001b[0m \u001b[32m━━━━━━━━━━━━━━━━━━━━\u001b[0m\u001b[37m\u001b[0m \u001b[1m2s\u001b[0m 71ms/step - loss: 1.5918e-04 - val_loss: 7.7937e-04\n",
      "Epoch 98/100\n",
      "\u001b[1m26/26\u001b[0m \u001b[32m━━━━━━━━━━━━━━━━━━━━\u001b[0m\u001b[37m\u001b[0m \u001b[1m2s\u001b[0m 69ms/step - loss: 1.9202e-04 - val_loss: 4.1376e-04\n",
      "Epoch 99/100\n",
      "\u001b[1m26/26\u001b[0m \u001b[32m━━━━━━━━━━━━━━━━━━━━\u001b[0m\u001b[37m\u001b[0m \u001b[1m2s\u001b[0m 69ms/step - loss: 1.3701e-04 - val_loss: 3.9403e-04\n",
      "Epoch 100/100\n",
      "\u001b[1m26/26\u001b[0m \u001b[32m━━━━━━━━━━━━━━━━━━━━\u001b[0m\u001b[37m\u001b[0m \u001b[1m2s\u001b[0m 71ms/step - loss: 1.5278e-04 - val_loss: 4.9018e-04\n"
     ]
    },
    {
     "data": {
      "text/plain": [
       "<keras.src.callbacks.history.History at 0x1a5c42dc350>"
      ]
     },
     "execution_count": 55,
     "metadata": {},
     "output_type": "execute_result"
    }
   ],
   "source": [
    "model.fit(X_train,y_train,validation_data=(X_test,y_test),epochs=100,batch_size=64,verbose=1)"
   ]
  },
  {
   "cell_type": "code",
   "execution_count": 56,
   "id": "6b8a0c72",
   "metadata": {},
   "outputs": [
    {
     "name": "stdout",
     "output_type": "stream",
     "text": [
      "\u001b[1m52/52\u001b[0m \u001b[32m━━━━━━━━━━━━━━━━━━━━\u001b[0m\u001b[37m\u001b[0m \u001b[1m2s\u001b[0m 31ms/step\n",
      "\u001b[1m21/21\u001b[0m \u001b[32m━━━━━━━━━━━━━━━━━━━━\u001b[0m\u001b[37m\u001b[0m \u001b[1m0s\u001b[0m 19ms/step\n"
     ]
    }
   ],
   "source": [
    "### Lets Do the prediction and check performance metrics\n",
    "train_predict=model.predict(X_train)\n",
    "test_predict=model.predict(X_test)"
   ]
  },
  {
   "cell_type": "code",
   "execution_count": 57,
   "id": "3a7b85d4",
   "metadata": {},
   "outputs": [],
   "source": [
    "##Transformback to original form\n",
    "train_predict=scaler.inverse_transform(train_predict)\n",
    "test_predict=scaler.inverse_transform(test_predict)"
   ]
  },
  {
   "cell_type": "code",
   "execution_count": 58,
   "id": "f4272b08",
   "metadata": {},
   "outputs": [
    {
     "data": {
      "text/plain": [
       "0.011694407666159732"
      ]
     },
     "execution_count": 58,
     "metadata": {},
     "output_type": "execute_result"
    }
   ],
   "source": [
    "### Calculate RMSE performance metrics\n",
    "import math\n",
    "from sklearn.metrics import mean_squared_error\n",
    "math.sqrt(mean_squared_error(y_train,train_predict))"
   ]
  },
  {
   "cell_type": "code",
   "execution_count": 60,
   "id": "fe4c8613",
   "metadata": {},
   "outputs": [
    {
     "data": {
      "text/plain": [
       "0.022140038063868675"
      ]
     },
     "execution_count": 60,
     "metadata": {},
     "output_type": "execute_result"
    }
   ],
   "source": [
    "### Test Data RMSE\n",
    "math.sqrt(mean_squared_error(y_test,test_predict))"
   ]
  },
  {
   "cell_type": "code",
   "execution_count": 61,
   "id": "2b7be14d",
   "metadata": {},
   "outputs": [
    {
     "data": {
      "image/png": "[encoded data removed]",
      "text/plain": [
       "<Figure size 640x480 with 1 Axes>"
      ]
     },
     "metadata": {},
     "output_type": "display_data"
    }
   ],
   "source": [
    "### Plotting \n",
    "# shift train predictions for plotting\n",
    "look_back=100\n",
    "trainPredictPlot = np.empty_like(df1)\n",
    "trainPredictPlot[:, :] = np.nan\n",
    "trainPredictPlot[look_back:len(train_predict)+look_back, :] = train_predict\n",
    "# shift test predictions for plotting\n",
    "testPredictPlot = np.empty_like(df1)\n",
    "testPredictPlot[:, :] = np.nan\n",
    "testPredictPlot[len(train_predict)+(look_back*2)+1:len(df1)-1, :] = test_predict\n",
    "# plot baseline and predictions\n",
    "plt.plot(scaler.inverse_transform(df1))\n",
    "plt.plot(trainPredictPlot)\n",
    "plt.plot(testPredictPlot)\n",
    "plt.show()"
   ]
  },
  {
   "cell_type": "code",
   "execution_count": 63,
   "id": "df4250cc",
   "metadata": {},
   "outputs": [
    {
     "data": {
      "text/plain": [
       "755"
      ]
     },
     "execution_count": 63,
     "metadata": {},
     "output_type": "execute_result"
    }
   ],
   "source": [
    "len(test_scaled)"
   ]
  },
  {
   "cell_type": "code",
   "execution_count": 72,
   "id": "5f765090",
   "metadata": {},
   "outputs": [
    {
     "data": {
      "text/plain": [
       "(1, 100)"
      ]
     },
     "execution_count": 72,
     "metadata": {},
     "output_type": "execute_result"
    }
   ],
   "source": [
    "x_input=test_scaled[655:].reshape(1,-1)\n",
    "x_input.shape"
   ]
  },
  {
   "cell_type": "code",
   "execution_count": 74,
   "id": "93b4e0d5",
   "metadata": {},
   "outputs": [],
   "source": [
    "temp_input=list(x_input)\n",
    "temp_input=temp_input[0].tolist()"
   ]
  },
  {
   "cell_type": "code",
   "execution_count": 75,
   "id": "6aff8a10",
   "metadata": {},
   "outputs": [
    {
     "data": {
      "text/plain": [
       "[0.402443644859957,\n",
       " 0.40491025786749446,\n",
       " 0.3995730461830494,\n",
       " 0.4215598469993098,\n",
       " 0.4078446779090837,\n",
       " 0.43497732365387054,\n",
       " 0.43918755451429353,\n",
       " 0.45322170064375966,\n",
       " 0.44977696925305366,\n",
       " 0.4543912182288888,\n",
       " 0.42757751707729985,\n",
       " 0.4481183924763404,\n",
       " 0.4329998022839592,\n",
       " 0.42449426704089904,\n",
       " 0.41713696477939344,\n",
       " 0.41826394560341557,\n",
       " 0.434913534735231,\n",
       " 0.42744993924002067,\n",
       " 0.446183375421494,\n",
       " 0.46906325354475087,\n",
       " 0.42772634707211155,\n",
       " 0.4395065315535335,\n",
       " 0.4605577183016907,\n",
       " 0.46472544484704864,\n",
       " 0.4682977540750337,\n",
       " 0.4693184092193092,\n",
       " 0.46185481372409903,\n",
       " 0.46417256429078285,\n",
       " 0.4627478910310953,\n",
       " 0.49830103094277023,\n",
       " 0.4862444386292575,\n",
       " 0.5112294484057468,\n",
       " 0.5203091163626052,\n",
       " 0.5261566393961671,\n",
       " 0.5202027906828586,\n",
       " 0.5334714048965656,\n",
       " 0.5359593025076776,\n",
       " 0.5282830232069322,\n",
       " 0.5091456013560888,\n",
       " 0.49136903140025123,\n",
       " 0.511399563004133,\n",
       " 0.49173051275455637,\n",
       " 0.49953433744653897,\n",
       " 0.49219831978860795,\n",
       " 0.487350167295747,\n",
       " 0.4427598961883207,\n",
       " 0.44565177946880274,\n",
       " 0.44652360461826657,\n",
       " 0.4502660284446379,\n",
       " 0.4493304143765346,\n",
       " 0.4489263962611225,\n",
       " 0.4449926056788323,\n",
       " 0.4431213775426257,\n",
       " 0.4339353839060206,\n",
       " 0.5335139741037147,\n",
       " 0.5520347589256948,\n",
       " 0.5378305306438844,\n",
       " 0.5314725989230797,\n",
       " 0.5272836202201893,\n",
       " 0.5109105038125488,\n",
       " 0.5090605278338746,\n",
       " 0.496004532533619,\n",
       " 0.5142914462846151,\n",
       " 0.5931590140388406,\n",
       " 0.6109781207557852,\n",
       " 0.6626705060041167,\n",
       " 0.7238678294822514,\n",
       " 0.6781292929472283,\n",
       " 0.6818504646160671,\n",
       " 0.6413215943742521,\n",
       " 0.6616073140987342,\n",
       " 0.69992472700757,\n",
       " 0.7153622942391912,\n",
       " 0.7069205479147705,\n",
       " 0.7018385243509259,\n",
       " 0.729311366846443,\n",
       " 0.6996057824143721,\n",
       " 0.698840315390697,\n",
       " 0.6874854336282618,\n",
       " 0.7135761396251986,\n",
       " 0.7389438829135254,\n",
       " 0.7268873230460547,\n",
       " 0.740730037527518,\n",
       " 0.7653110291885952,\n",
       " 0.8072646051361398,\n",
       " 0.8084766594823761,\n",
       " 0.8322921192276942,\n",
       " 0.8828575236520037,\n",
       " 0.8686745799737678,\n",
       " 0.9072259288456715,\n",
       " 0.9641917044137667,\n",
       " 1.0,\n",
       " 0.9155188127292384,\n",
       " 0.9070983510083924,\n",
       " 0.8749686578838488,\n",
       " 0.8952543776083309,\n",
       " 0.9626182011592674,\n",
       " 0.9452881860799491,\n",
       " 0.8975083392563751,\n",
       " 0.8672073699529732]"
      ]
     },
     "execution_count": 75,
     "metadata": {},
     "output_type": "execute_result"
    }
   ],
   "source": [
    "temp_input"
   ]
  },
  {
   "cell_type": "code",
   "execution_count": 76,
   "id": "0e2faa8d",
   "metadata": {},
   "outputs": [
    {
     "name": "stdout",
     "output_type": "stream",
     "text": [
      "[0.8679419]\n",
      "101\n",
      "1 day input [0.40491026 0.39957305 0.42155985 0.40784468 0.43497732 0.43918755\n",
      " 0.4532217  0.44977697 0.45439122 0.42757752 0.44811839 0.4329998\n",
      " 0.42449427 0.41713696 0.41826395 0.43491353 0.42744994 0.44618338\n",
      " 0.46906325 0.42772635 0.43950653 0.46055772 0.46472544 0.46829775\n",
      " 0.46931841 0.46185481 0.46417256 0.46274789 0.49830103 0.48624444\n",
      " 0.51122945 0.52030912 0.52615664 0.52020279 0.5334714  0.5359593\n",
      " 0.52828302 0.5091456  0.49136903 0.51139956 0.49173051 0.49953434\n",
      " 0.49219832 0.48735017 0.4427599  0.44565178 0.4465236  0.45026603\n",
      " 0.44933041 0.4489264  0.44499261 0.44312138 0.43393538 0.53351397\n",
      " 0.55203476 0.53783053 0.5314726  0.52728362 0.5109105  0.50906053\n",
      " 0.49600453 0.51429145 0.59315901 0.61097812 0.66267051 0.72386783\n",
      " 0.67812929 0.68185046 0.64132159 0.66160731 0.69992473 0.71536229\n",
      " 0.70692055 0.70183852 0.72931137 0.69960578 0.69884032 0.68748543\n",
      " 0.71357614 0.73894388 0.72688732 0.74073004 0.76531103 0.80726461\n",
      " 0.80847666 0.83229212 0.88285752 0.86867458 0.90722593 0.9641917\n",
      " 1.         0.91551881 0.90709835 0.87496866 0.89525438 0.9626182\n",
      " 0.94528819 0.89750834 0.86720737 0.86794192]\n",
      "1 day output [[0.8785324]]\n",
      "2 day input [0.39957305 0.42155985 0.40784468 0.43497732 0.43918755 0.4532217\n",
      " 0.44977697 0.45439122 0.42757752 0.44811839 0.4329998  0.42449427\n",
      " 0.41713696 0.41826395 0.43491353 0.42744994 0.44618338 0.46906325\n",
      " 0.42772635 0.43950653 0.46055772 0.46472544 0.46829775 0.46931841\n",
      " 0.46185481 0.46417256 0.46274789 0.49830103 0.48624444 0.51122945\n",
      " 0.52030912 0.52615664 0.52020279 0.5334714  0.5359593  0.52828302\n",
      " 0.5091456  0.49136903 0.51139956 0.49173051 0.49953434 0.49219832\n",
      " 0.48735017 0.4427599  0.44565178 0.4465236  0.45026603 0.44933041\n",
      " 0.4489264  0.44499261 0.44312138 0.43393538 0.53351397 0.55203476\n",
      " 0.53783053 0.5314726  0.52728362 0.5109105  0.50906053 0.49600453\n",
      " 0.51429145 0.59315901 0.61097812 0.66267051 0.72386783 0.67812929\n",
      " 0.68185046 0.64132159 0.66160731 0.69992473 0.71536229 0.70692055\n",
      " 0.70183852 0.72931137 0.69960578 0.69884032 0.68748543 0.71357614\n",
      " 0.73894388 0.72688732 0.74073004 0.76531103 0.80726461 0.80847666\n",
      " 0.83229212 0.88285752 0.86867458 0.90722593 0.9641917  1.\n",
      " 0.91551881 0.90709835 0.87496866 0.89525438 0.9626182  0.94528819\n",
      " 0.89750834 0.86720737 0.86794192 0.87853241]\n",
      "2 day output [[0.890581]]\n",
      "3 day input [0.42155985 0.40784468 0.43497732 0.43918755 0.4532217  0.44977697\n",
      " 0.45439122 0.42757752 0.44811839 0.4329998  0.42449427 0.41713696\n",
      " 0.41826395 0.43491353 0.42744994 0.44618338 0.46906325 0.42772635\n",
      " 0.43950653 0.46055772 0.46472544 0.46829775 0.46931841 0.46185481\n",
      " 0.46417256 0.46274789 0.49830103 0.48624444 0.51122945 0.52030912\n",
      " 0.52615664 0.52020279 0.5334714  0.5359593  0.52828302 0.5091456\n",
      " 0.49136903 0.51139956 0.49173051 0.49953434 0.49219832 0.48735017\n",
      " 0.4427599  0.44565178 0.4465236  0.45026603 0.44933041 0.4489264\n",
      " 0.44499261 0.44312138 0.43393538 0.53351397 0.55203476 0.53783053\n",
      " 0.5314726  0.52728362 0.5109105  0.50906053 0.49600453 0.51429145\n",
      " 0.59315901 0.61097812 0.66267051 0.72386783 0.67812929 0.68185046\n",
      " 0.64132159 0.66160731 0.69992473 0.71536229 0.70692055 0.70183852\n",
      " 0.72931137 0.69960578 0.69884032 0.68748543 0.71357614 0.73894388\n",
      " 0.72688732 0.74073004 0.76531103 0.80726461 0.80847666 0.83229212\n",
      " 0.88285752 0.86867458 0.90722593 0.9641917  1.         0.91551881\n",
      " 0.90709835 0.87496866 0.89525438 0.9626182  0.94528819 0.89750834\n",
      " 0.86720737 0.86794192 0.87853241 0.89058101]\n",
      "3 day output [[0.901161]]\n",
      "4 day input [0.40784468 0.43497732 0.43918755 0.4532217  0.44977697 0.45439122\n",
      " 0.42757752 0.44811839 0.4329998  0.42449427 0.41713696 0.41826395\n",
      " 0.43491353 0.42744994 0.44618338 0.46906325 0.42772635 0.43950653\n",
      " 0.46055772 0.46472544 0.46829775 0.46931841 0.46185481 0.46417256\n",
      " 0.46274789 0.49830103 0.48624444 0.51122945 0.52030912 0.52615664\n",
      " 0.52020279 0.5334714  0.5359593  0.52828302 0.5091456  0.49136903\n",
      " 0.51139956 0.49173051 0.49953434 0.49219832 0.48735017 0.4427599\n",
      " 0.44565178 0.4465236  0.45026603 0.44933041 0.4489264  0.44499261\n",
      " 0.44312138 0.43393538 0.53351397 0.55203476 0.53783053 0.5314726\n",
      " 0.52728362 0.5109105  0.50906053 0.49600453 0.51429145 0.59315901\n",
      " 0.61097812 0.66267051 0.72386783 0.67812929 0.68185046 0.64132159\n",
      " 0.66160731 0.69992473 0.71536229 0.70692055 0.70183852 0.72931137\n",
      " 0.69960578 0.69884032 0.68748543 0.71357614 0.73894388 0.72688732\n",
      " 0.74073004 0.76531103 0.80726461 0.80847666 0.83229212 0.88285752\n",
      " 0.86867458 0.90722593 0.9641917  1.         0.91551881 0.90709835\n",
      " 0.87496866 0.89525438 0.9626182  0.94528819 0.89750834 0.86720737\n",
      " 0.86794192 0.87853241 0.89058101 0.90116102]\n",
      "4 day output [[0.9107386]]\n",
      "5 day input [0.43497732 0.43918755 0.4532217  0.44977697 0.45439122 0.42757752\n",
      " 0.44811839 0.4329998  0.42449427 0.41713696 0.41826395 0.43491353\n",
      " 0.42744994 0.44618338 0.46906325 0.42772635 0.43950653 0.46055772\n",
      " 0.46472544 0.46829775 0.46931841 0.46185481 0.46417256 0.46274789\n",
      " 0.49830103 0.48624444 0.51122945 0.52030912 0.52615664 0.52020279\n",
      " 0.5334714  0.5359593  0.52828302 0.5091456  0.49136903 0.51139956\n",
      " 0.49173051 0.49953434 0.49219832 0.48735017 0.4427599  0.44565178\n",
      " 0.4465236  0.45026603 0.44933041 0.4489264  0.44499261 0.44312138\n",
      " 0.43393538 0.53351397 0.55203476 0.53783053 0.5314726  0.52728362\n",
      " 0.5109105  0.50906053 0.49600453 0.51429145 0.59315901 0.61097812\n",
      " 0.66267051 0.72386783 0.67812929 0.68185046 0.64132159 0.66160731\n",
      " 0.69992473 0.71536229 0.70692055 0.70183852 0.72931137 0.69960578\n",
      " 0.69884032 0.68748543 0.71357614 0.73894388 0.72688732 0.74073004\n",
      " 0.76531103 0.80726461 0.80847666 0.83229212 0.88285752 0.86867458\n",
      " 0.90722593 0.9641917  1.         0.91551881 0.90709835 0.87496866\n",
      " 0.89525438 0.9626182  0.94528819 0.89750834 0.86720737 0.86794192\n",
      " 0.87853241 0.89058101 0.90116102 0.91073859]\n",
      "5 day output [[0.91981786]]\n",
      "6 day input [0.43918755 0.4532217  0.44977697 0.45439122 0.42757752 0.44811839\n",
      " 0.4329998  0.42449427 0.41713696 0.41826395 0.43491353 0.42744994\n",
      " 0.44618338 0.46906325 0.42772635 0.43950653 0.46055772 0.46472544\n",
      " 0.46829775 0.46931841 0.46185481 0.46417256 0.46274789 0.49830103\n",
      " 0.48624444 0.51122945 0.52030912 0.52615664 0.52020279 0.5334714\n",
      " 0.5359593  0.52828302 0.5091456  0.49136903 0.51139956 0.49173051\n",
      " 0.49953434 0.49219832 0.48735017 0.4427599  0.44565178 0.4465236\n",
      " 0.45026603 0.44933041 0.4489264  0.44499261 0.44312138 0.43393538\n",
      " 0.53351397 0.55203476 0.53783053 0.5314726  0.52728362 0.5109105\n",
      " 0.50906053 0.49600453 0.51429145 0.59315901 0.61097812 0.66267051\n",
      " 0.72386783 0.67812929 0.68185046 0.64132159 0.66160731 0.69992473\n",
      " 0.71536229 0.70692055 0.70183852 0.72931137 0.69960578 0.69884032\n",
      " 0.68748543 0.71357614 0.73894388 0.72688732 0.74073004 0.76531103\n",
      " 0.80726461 0.80847666 0.83229212 0.88285752 0.86867458 0.90722593\n",
      " 0.9641917  1.         0.91551881 0.90709835 0.87496866 0.89525438\n",
      " 0.9626182  0.94528819 0.89750834 0.86720737 0.86794192 0.87853241\n",
      " 0.89058101 0.90116102 0.91073859 0.91981786]\n",
      "6 day output [[0.92869776]]\n",
      "7 day input [0.4532217  0.44977697 0.45439122 0.42757752 0.44811839 0.4329998\n",
      " 0.42449427 0.41713696 0.41826395 0.43491353 0.42744994 0.44618338\n",
      " 0.46906325 0.42772635 0.43950653 0.46055772 0.46472544 0.46829775\n",
      " 0.46931841 0.46185481 0.46417256 0.46274789 0.49830103 0.48624444\n",
      " 0.51122945 0.52030912 0.52615664 0.52020279 0.5334714  0.5359593\n",
      " 0.52828302 0.5091456  0.49136903 0.51139956 0.49173051 0.49953434\n",
      " 0.49219832 0.48735017 0.4427599  0.44565178 0.4465236  0.45026603\n",
      " 0.44933041 0.4489264  0.44499261 0.44312138 0.43393538 0.53351397\n",
      " 0.55203476 0.53783053 0.5314726  0.52728362 0.5109105  0.50906053\n",
      " 0.49600453 0.51429145 0.59315901 0.61097812 0.66267051 0.72386783\n",
      " 0.67812929 0.68185046 0.64132159 0.66160731 0.69992473 0.71536229\n",
      " 0.70692055 0.70183852 0.72931137 0.69960578 0.69884032 0.68748543\n",
      " 0.71357614 0.73894388 0.72688732 0.74073004 0.76531103 0.80726461\n",
      " 0.80847666 0.83229212 0.88285752 0.86867458 0.90722593 0.9641917\n",
      " 1.         0.91551881 0.90709835 0.87496866 0.89525438 0.9626182\n",
      " 0.94528819 0.89750834 0.86720737 0.86794192 0.87853241 0.89058101\n",
      " 0.90116102 0.91073859 0.91981786 0.92869776]\n",
      "7 day output [[0.93732417]]\n",
      "8 day input [0.44977697 0.45439122 0.42757752 0.44811839 0.4329998  0.42449427\n",
      " 0.41713696 0.41826395 0.43491353 0.42744994 0.44618338 0.46906325\n",
      " 0.42772635 0.43950653 0.46055772 0.46472544 0.46829775 0.46931841\n",
      " 0.46185481 0.46417256 0.46274789 0.49830103 0.48624444 0.51122945\n",
      " 0.52030912 0.52615664 0.52020279 0.5334714  0.5359593  0.52828302\n",
      " 0.5091456  0.49136903 0.51139956 0.49173051 0.49953434 0.49219832\n",
      " 0.48735017 0.4427599  0.44565178 0.4465236  0.45026603 0.44933041\n",
      " 0.4489264  0.44499261 0.44312138 0.43393538 0.53351397 0.55203476\n",
      " 0.53783053 0.5314726  0.52728362 0.5109105  0.50906053 0.49600453\n",
      " 0.51429145 0.59315901 0.61097812 0.66267051 0.72386783 0.67812929\n",
      " 0.68185046 0.64132159 0.66160731 0.69992473 0.71536229 0.70692055\n",
      " 0.70183852 0.72931137 0.69960578 0.69884032 0.68748543 0.71357614\n",
      " 0.73894388 0.72688732 0.74073004 0.76531103 0.80726461 0.80847666\n",
      " 0.83229212 0.88285752 0.86867458 0.90722593 0.9641917  1.\n",
      " 0.91551881 0.90709835 0.87496866 0.89525438 0.9626182  0.94528819\n",
      " 0.89750834 0.86720737 0.86794192 0.87853241 0.89058101 0.90116102\n",
      " 0.91073859 0.91981786 0.92869776 0.93732417]\n",
      "8 day output [[0.94539815]]\n",
      "9 day input [0.45439122 0.42757752 0.44811839 0.4329998  0.42449427 0.41713696\n",
      " 0.41826395 0.43491353 0.42744994 0.44618338 0.46906325 0.42772635\n",
      " 0.43950653 0.46055772 0.46472544 0.46829775 0.46931841 0.46185481\n",
      " 0.46417256 0.46274789 0.49830103 0.48624444 0.51122945 0.52030912\n",
      " 0.52615664 0.52020279 0.5334714  0.5359593  0.52828302 0.5091456\n",
      " 0.49136903 0.51139956 0.49173051 0.49953434 0.49219832 0.48735017\n",
      " 0.4427599  0.44565178 0.4465236  0.45026603 0.44933041 0.4489264\n",
      " 0.44499261 0.44312138 0.43393538 0.53351397 0.55203476 0.53783053\n",
      " 0.5314726  0.52728362 0.5109105  0.50906053 0.49600453 0.51429145\n",
      " 0.59315901 0.61097812 0.66267051 0.72386783 0.67812929 0.68185046\n",
      " 0.64132159 0.66160731 0.69992473 0.71536229 0.70692055 0.70183852\n",
      " 0.72931137 0.69960578 0.69884032 0.68748543 0.71357614 0.73894388\n",
      " 0.72688732 0.74073004 0.76531103 0.80726461 0.80847666 0.83229212\n",
      " 0.88285752 0.86867458 0.90722593 0.9641917  1.         0.91551881\n",
      " 0.90709835 0.87496866 0.89525438 0.9626182  0.94528819 0.89750834\n",
      " 0.86720737 0.86794192 0.87853241 0.89058101 0.90116102 0.91073859\n",
      " 0.91981786 0.92869776 0.93732417 0.94539815]\n",
      "9 day output [[0.9525576]]\n",
      "10 day input [0.42757752 0.44811839 0.4329998  0.42449427 0.41713696 0.41826395\n",
      " 0.43491353 0.42744994 0.44618338 0.46906325 0.42772635 0.43950653\n",
      " 0.46055772 0.46472544 0.46829775 0.46931841 0.46185481 0.46417256\n",
      " 0.46274789 0.49830103 0.48624444 0.51122945 0.52030912 0.52615664\n",
      " 0.52020279 0.5334714  0.5359593  0.52828302 0.5091456  0.49136903\n",
      " 0.51139956 0.49173051 0.49953434 0.49219832 0.48735017 0.4427599\n",
      " 0.44565178 0.4465236  0.45026603 0.44933041 0.4489264  0.44499261\n",
      " 0.44312138 0.43393538 0.53351397 0.55203476 0.53783053 0.5314726\n",
      " 0.52728362 0.5109105  0.50906053 0.49600453 0.51429145 0.59315901\n",
      " 0.61097812 0.66267051 0.72386783 0.67812929 0.68185046 0.64132159\n",
      " 0.66160731 0.69992473 0.71536229 0.70692055 0.70183852 0.72931137\n",
      " 0.69960578 0.69884032 0.68748543 0.71357614 0.73894388 0.72688732\n",
      " 0.74073004 0.76531103 0.80726461 0.80847666 0.83229212 0.88285752\n",
      " 0.86867458 0.90722593 0.9641917  1.         0.91551881 0.90709835\n",
      " 0.87496866 0.89525438 0.9626182  0.94528819 0.89750834 0.86720737\n",
      " 0.86794192 0.87853241 0.89058101 0.90116102 0.91073859 0.91981786\n",
      " 0.92869776 0.93732417 0.94539815 0.95255762]\n",
      "10 day output [[0.9585226]]\n",
      "11 day input [0.44811839 0.4329998  0.42449427 0.41713696 0.41826395 0.43491353\n",
      " 0.42744994 0.44618338 0.46906325 0.42772635 0.43950653 0.46055772\n",
      " 0.46472544 0.46829775 0.46931841 0.46185481 0.46417256 0.46274789\n",
      " 0.49830103 0.48624444 0.51122945 0.52030912 0.52615664 0.52020279\n",
      " 0.5334714  0.5359593  0.52828302 0.5091456  0.49136903 0.51139956\n",
      " 0.49173051 0.49953434 0.49219832 0.48735017 0.4427599  0.44565178\n",
      " 0.4465236  0.45026603 0.44933041 0.4489264  0.44499261 0.44312138\n",
      " 0.43393538 0.53351397 0.55203476 0.53783053 0.5314726  0.52728362\n",
      " 0.5109105  0.50906053 0.49600453 0.51429145 0.59315901 0.61097812\n",
      " 0.66267051 0.72386783 0.67812929 0.68185046 0.64132159 0.66160731\n",
      " 0.69992473 0.71536229 0.70692055 0.70183852 0.72931137 0.69960578\n",
      " 0.69884032 0.68748543 0.71357614 0.73894388 0.72688732 0.74073004\n",
      " 0.76531103 0.80726461 0.80847666 0.83229212 0.88285752 0.86867458\n",
      " 0.90722593 0.9641917  1.         0.91551881 0.90709835 0.87496866\n",
      " 0.89525438 0.9626182  0.94528819 0.89750834 0.86720737 0.86794192\n",
      " 0.87853241 0.89058101 0.90116102 0.91073859 0.91981786 0.92869776\n",
      " 0.93732417 0.94539815 0.95255762 0.95852262]\n",
      "11 day output [[0.96316546]]\n",
      "12 day input [0.4329998  0.42449427 0.41713696 0.41826395 0.43491353 0.42744994\n",
      " 0.44618338 0.46906325 0.42772635 0.43950653 0.46055772 0.46472544\n",
      " 0.46829775 0.46931841 0.46185481 0.46417256 0.46274789 0.49830103\n",
      " 0.48624444 0.51122945 0.52030912 0.52615664 0.52020279 0.5334714\n",
      " 0.5359593  0.52828302 0.5091456  0.49136903 0.51139956 0.49173051\n",
      " 0.49953434 0.49219832 0.48735017 0.4427599  0.44565178 0.4465236\n",
      " 0.45026603 0.44933041 0.4489264  0.44499261 0.44312138 0.43393538\n",
      " 0.53351397 0.55203476 0.53783053 0.5314726  0.52728362 0.5109105\n",
      " 0.50906053 0.49600453 0.51429145 0.59315901 0.61097812 0.66267051\n",
      " 0.72386783 0.67812929 0.68185046 0.64132159 0.66160731 0.69992473\n",
      " 0.71536229 0.70692055 0.70183852 0.72931137 0.69960578 0.69884032\n",
      " 0.68748543 0.71357614 0.73894388 0.72688732 0.74073004 0.76531103\n",
      " 0.80726461 0.80847666 0.83229212 0.88285752 0.86867458 0.90722593\n",
      " 0.9641917  1.         0.91551881 0.90709835 0.87496866 0.89525438\n",
      " 0.9626182  0.94528819 0.89750834 0.86720737 0.86794192 0.87853241\n",
      " 0.89058101 0.90116102 0.91073859 0.91981786 0.92869776 0.93732417\n",
      " 0.94539815 0.95255762 0.95852262 0.96316546]\n",
      "12 day output [[0.96651447]]\n",
      "13 day input [0.42449427 0.41713696 0.41826395 0.43491353 0.42744994 0.44618338\n",
      " 0.46906325 0.42772635 0.43950653 0.46055772 0.46472544 0.46829775\n",
      " 0.46931841 0.46185481 0.46417256 0.46274789 0.49830103 0.48624444\n",
      " 0.51122945 0.52030912 0.52615664 0.52020279 0.5334714  0.5359593\n",
      " 0.52828302 0.5091456  0.49136903 0.51139956 0.49173051 0.49953434\n",
      " 0.49219832 0.48735017 0.4427599  0.44565178 0.4465236  0.45026603\n",
      " 0.44933041 0.4489264  0.44499261 0.44312138 0.43393538 0.53351397\n",
      " 0.55203476 0.53783053 0.5314726  0.52728362 0.5109105  0.50906053\n",
      " 0.49600453 0.51429145 0.59315901 0.61097812 0.66267051 0.72386783\n",
      " 0.67812929 0.68185046 0.64132159 0.66160731 0.69992473 0.71536229\n",
      " 0.70692055 0.70183852 0.72931137 0.69960578 0.69884032 0.68748543\n",
      " 0.71357614 0.73894388 0.72688732 0.74073004 0.76531103 0.80726461\n",
      " 0.80847666 0.83229212 0.88285752 0.86867458 0.90722593 0.9641917\n",
      " 1.         0.91551881 0.90709835 0.87496866 0.89525438 0.9626182\n",
      " 0.94528819 0.89750834 0.86720737 0.86794192 0.87853241 0.89058101\n",
      " 0.90116102 0.91073859 0.91981786 0.92869776 0.93732417 0.94539815\n",
      " 0.95255762 0.95852262 0.96316546 0.96651447]\n",
      "13 day output [[0.9687192]]\n",
      "14 day input [0.41713696 0.41826395 0.43491353 0.42744994 0.44618338 0.46906325\n",
      " 0.42772635 0.43950653 0.46055772 0.46472544 0.46829775 0.46931841\n",
      " 0.46185481 0.46417256 0.46274789 0.49830103 0.48624444 0.51122945\n",
      " 0.52030912 0.52615664 0.52020279 0.5334714  0.5359593  0.52828302\n",
      " 0.5091456  0.49136903 0.51139956 0.49173051 0.49953434 0.49219832\n",
      " 0.48735017 0.4427599  0.44565178 0.4465236  0.45026603 0.44933041\n",
      " 0.4489264  0.44499261 0.44312138 0.43393538 0.53351397 0.55203476\n",
      " 0.53783053 0.5314726  0.52728362 0.5109105  0.50906053 0.49600453\n",
      " 0.51429145 0.59315901 0.61097812 0.66267051 0.72386783 0.67812929\n",
      " 0.68185046 0.64132159 0.66160731 0.69992473 0.71536229 0.70692055\n",
      " 0.70183852 0.72931137 0.69960578 0.69884032 0.68748543 0.71357614\n",
      " 0.73894388 0.72688732 0.74073004 0.76531103 0.80726461 0.80847666\n",
      " 0.83229212 0.88285752 0.86867458 0.90722593 0.9641917  1.\n",
      " 0.91551881 0.90709835 0.87496866 0.89525438 0.9626182  0.94528819\n",
      " 0.89750834 0.86720737 0.86794192 0.87853241 0.89058101 0.90116102\n",
      " 0.91073859 0.91981786 0.92869776 0.93732417 0.94539815 0.95255762\n",
      " 0.95852262 0.96316546 0.96651447 0.96871918]\n",
      "14 day output [[0.97000426]]\n",
      "15 day input [0.41826395 0.43491353 0.42744994 0.44618338 0.46906325 0.42772635\n",
      " 0.43950653 0.46055772 0.46472544 0.46829775 0.46931841 0.46185481\n",
      " 0.46417256 0.46274789 0.49830103 0.48624444 0.51122945 0.52030912\n",
      " 0.52615664 0.52020279 0.5334714  0.5359593  0.52828302 0.5091456\n",
      " 0.49136903 0.51139956 0.49173051 0.49953434 0.49219832 0.48735017\n",
      " 0.4427599  0.44565178 0.4465236  0.45026603 0.44933041 0.4489264\n",
      " 0.44499261 0.44312138 0.43393538 0.53351397 0.55203476 0.53783053\n",
      " 0.5314726  0.52728362 0.5109105  0.50906053 0.49600453 0.51429145\n",
      " 0.59315901 0.61097812 0.66267051 0.72386783 0.67812929 0.68185046\n",
      " 0.64132159 0.66160731 0.69992473 0.71536229 0.70692055 0.70183852\n",
      " 0.72931137 0.69960578 0.69884032 0.68748543 0.71357614 0.73894388\n",
      " 0.72688732 0.74073004 0.76531103 0.80726461 0.80847666 0.83229212\n",
      " 0.88285752 0.86867458 0.90722593 0.9641917  1.         0.91551881\n",
      " 0.90709835 0.87496866 0.89525438 0.9626182  0.94528819 0.89750834\n",
      " 0.86720737 0.86794192 0.87853241 0.89058101 0.90116102 0.91073859\n",
      " 0.91981786 0.92869776 0.93732417 0.94539815 0.95255762 0.95852262\n",
      " 0.96316546 0.96651447 0.96871918 0.97000426]\n",
      "15 day output [[0.9706246]]\n",
      "16 day input [0.43491353 0.42744994 0.44618338 0.46906325 0.42772635 0.43950653\n",
      " 0.46055772 0.46472544 0.46829775 0.46931841 0.46185481 0.46417256\n",
      " 0.46274789 0.49830103 0.48624444 0.51122945 0.52030912 0.52615664\n",
      " 0.52020279 0.5334714  0.5359593  0.52828302 0.5091456  0.49136903\n",
      " 0.51139956 0.49173051 0.49953434 0.49219832 0.48735017 0.4427599\n",
      " 0.44565178 0.4465236  0.45026603 0.44933041 0.4489264  0.44499261\n",
      " 0.44312138 0.43393538 0.53351397 0.55203476 0.53783053 0.5314726\n",
      " 0.52728362 0.5109105  0.50906053 0.49600453 0.51429145 0.59315901\n",
      " 0.61097812 0.66267051 0.72386783 0.67812929 0.68185046 0.64132159\n",
      " 0.66160731 0.69992473 0.71536229 0.70692055 0.70183852 0.72931137\n",
      " 0.69960578 0.69884032 0.68748543 0.71357614 0.73894388 0.72688732\n",
      " 0.74073004 0.76531103 0.80726461 0.80847666 0.83229212 0.88285752\n",
      " 0.86867458 0.90722593 0.9641917  1.         0.91551881 0.90709835\n",
      " 0.87496866 0.89525438 0.9626182  0.94528819 0.89750834 0.86720737\n",
      " 0.86794192 0.87853241 0.89058101 0.90116102 0.91073859 0.91981786\n",
      " 0.92869776 0.93732417 0.94539815 0.95255762 0.95852262 0.96316546\n",
      " 0.96651447 0.96871918 0.97000426 0.97062463]\n",
      "16 day output [[0.9708344]]\n",
      "17 day input [0.42744994 0.44618338 0.46906325 0.42772635 0.43950653 0.46055772\n",
      " 0.46472544 0.46829775 0.46931841 0.46185481 0.46417256 0.46274789\n",
      " 0.49830103 0.48624444 0.51122945 0.52030912 0.52615664 0.52020279\n",
      " 0.5334714  0.5359593  0.52828302 0.5091456  0.49136903 0.51139956\n",
      " 0.49173051 0.49953434 0.49219832 0.48735017 0.4427599  0.44565178\n",
      " 0.4465236  0.45026603 0.44933041 0.4489264  0.44499261 0.44312138\n",
      " 0.43393538 0.53351397 0.55203476 0.53783053 0.5314726  0.52728362\n",
      " 0.5109105  0.50906053 0.49600453 0.51429145 0.59315901 0.61097812\n",
      " 0.66267051 0.72386783 0.67812929 0.68185046 0.64132159 0.66160731\n",
      " 0.69992473 0.71536229 0.70692055 0.70183852 0.72931137 0.69960578\n",
      " 0.69884032 0.68748543 0.71357614 0.73894388 0.72688732 0.74073004\n",
      " 0.76531103 0.80726461 0.80847666 0.83229212 0.88285752 0.86867458\n",
      " 0.90722593 0.9641917  1.         0.91551881 0.90709835 0.87496866\n",
      " 0.89525438 0.9626182  0.94528819 0.89750834 0.86720737 0.86794192\n",
      " 0.87853241 0.89058101 0.90116102 0.91073859 0.91981786 0.92869776\n",
      " 0.93732417 0.94539815 0.95255762 0.95852262 0.96316546 0.96651447\n",
      " 0.96871918 0.97000426 0.97062463 0.97083437]\n",
      "17 day output [[0.9708634]]\n",
      "18 day input [0.44618338 0.46906325 0.42772635 0.43950653 0.46055772 0.46472544\n",
      " 0.46829775 0.46931841 0.46185481 0.46417256 0.46274789 0.49830103\n",
      " 0.48624444 0.51122945 0.52030912 0.52615664 0.52020279 0.5334714\n",
      " 0.5359593  0.52828302 0.5091456  0.49136903 0.51139956 0.49173051\n",
      " 0.49953434 0.49219832 0.48735017 0.4427599  0.44565178 0.4465236\n",
      " 0.45026603 0.44933041 0.4489264  0.44499261 0.44312138 0.43393538\n",
      " 0.53351397 0.55203476 0.53783053 0.5314726  0.52728362 0.5109105\n",
      " 0.50906053 0.49600453 0.51429145 0.59315901 0.61097812 0.66267051\n",
      " 0.72386783 0.67812929 0.68185046 0.64132159 0.66160731 0.69992473\n",
      " 0.71536229 0.70692055 0.70183852 0.72931137 0.69960578 0.69884032\n",
      " 0.68748543 0.71357614 0.73894388 0.72688732 0.74073004 0.76531103\n",
      " 0.80726461 0.80847666 0.83229212 0.88285752 0.86867458 0.90722593\n",
      " 0.9641917  1.         0.91551881 0.90709835 0.87496866 0.89525438\n",
      " 0.9626182  0.94528819 0.89750834 0.86720737 0.86794192 0.87853241\n",
      " 0.89058101 0.90116102 0.91073859 0.91981786 0.92869776 0.93732417\n",
      " 0.94539815 0.95255762 0.95852262 0.96316546 0.96651447 0.96871918\n",
      " 0.97000426 0.97062463 0.97083437 0.9708634 ]\n",
      "18 day output [[0.9709038]]\n",
      "19 day input [0.46906325 0.42772635 0.43950653 0.46055772 0.46472544 0.46829775\n",
      " 0.46931841 0.46185481 0.46417256 0.46274789 0.49830103 0.48624444\n",
      " 0.51122945 0.52030912 0.52615664 0.52020279 0.5334714  0.5359593\n",
      " 0.52828302 0.5091456  0.49136903 0.51139956 0.49173051 0.49953434\n",
      " 0.49219832 0.48735017 0.4427599  0.44565178 0.4465236  0.45026603\n",
      " 0.44933041 0.4489264  0.44499261 0.44312138 0.43393538 0.53351397\n",
      " 0.55203476 0.53783053 0.5314726  0.52728362 0.5109105  0.50906053\n",
      " 0.49600453 0.51429145 0.59315901 0.61097812 0.66267051 0.72386783\n",
      " 0.67812929 0.68185046 0.64132159 0.66160731 0.69992473 0.71536229\n",
      " 0.70692055 0.70183852 0.72931137 0.69960578 0.69884032 0.68748543\n",
      " 0.71357614 0.73894388 0.72688732 0.74073004 0.76531103 0.80726461\n",
      " 0.80847666 0.83229212 0.88285752 0.86867458 0.90722593 0.9641917\n",
      " 1.         0.91551881 0.90709835 0.87496866 0.89525438 0.9626182\n",
      " 0.94528819 0.89750834 0.86720737 0.86794192 0.87853241 0.89058101\n",
      " 0.90116102 0.91073859 0.91981786 0.92869776 0.93732417 0.94539815\n",
      " 0.95255762 0.95852262 0.96316546 0.96651447 0.96871918 0.97000426\n",
      " 0.97062463 0.97083437 0.9708634  0.97090381]\n",
      "19 day output [[0.9711011]]\n",
      "20 day input [0.42772635 0.43950653 0.46055772 0.46472544 0.46829775 0.46931841\n",
      " 0.46185481 0.46417256 0.46274789 0.49830103 0.48624444 0.51122945\n",
      " 0.52030912 0.52615664 0.52020279 0.5334714  0.5359593  0.52828302\n",
      " 0.5091456  0.49136903 0.51139956 0.49173051 0.49953434 0.49219832\n",
      " 0.48735017 0.4427599  0.44565178 0.4465236  0.45026603 0.44933041\n",
      " 0.4489264  0.44499261 0.44312138 0.43393538 0.53351397 0.55203476\n",
      " 0.53783053 0.5314726  0.52728362 0.5109105  0.50906053 0.49600453\n",
      " 0.51429145 0.59315901 0.61097812 0.66267051 0.72386783 0.67812929\n",
      " 0.68185046 0.64132159 0.66160731 0.69992473 0.71536229 0.70692055\n",
      " 0.70183852 0.72931137 0.69960578 0.69884032 0.68748543 0.71357614\n",
      " 0.73894388 0.72688732 0.74073004 0.76531103 0.80726461 0.80847666\n",
      " 0.83229212 0.88285752 0.86867458 0.90722593 0.9641917  1.\n",
      " 0.91551881 0.90709835 0.87496866 0.89525438 0.9626182  0.94528819\n",
      " 0.89750834 0.86720737 0.86794192 0.87853241 0.89058101 0.90116102\n",
      " 0.91073859 0.91981786 0.92869776 0.93732417 0.94539815 0.95255762\n",
      " 0.95852262 0.96316546 0.96651447 0.96871918 0.97000426 0.97062463\n",
      " 0.97083437 0.9708634  0.97090381 0.97110111]\n",
      "20 day output [[0.9715531]]\n",
      "21 day input [0.43950653 0.46055772 0.46472544 0.46829775 0.46931841 0.46185481\n",
      " 0.46417256 0.46274789 0.49830103 0.48624444 0.51122945 0.52030912\n",
      " 0.52615664 0.52020279 0.5334714  0.5359593  0.52828302 0.5091456\n",
      " 0.49136903 0.51139956 0.49173051 0.49953434 0.49219832 0.48735017\n",
      " 0.4427599  0.44565178 0.4465236  0.45026603 0.44933041 0.4489264\n",
      " 0.44499261 0.44312138 0.43393538 0.53351397 0.55203476 0.53783053\n",
      " 0.5314726  0.52728362 0.5109105  0.50906053 0.49600453 0.51429145\n",
      " 0.59315901 0.61097812 0.66267051 0.72386783 0.67812929 0.68185046\n",
      " 0.64132159 0.66160731 0.69992473 0.71536229 0.70692055 0.70183852\n",
      " 0.72931137 0.69960578 0.69884032 0.68748543 0.71357614 0.73894388\n",
      " 0.72688732 0.74073004 0.76531103 0.80726461 0.80847666 0.83229212\n",
      " 0.88285752 0.86867458 0.90722593 0.9641917  1.         0.91551881\n",
      " 0.90709835 0.87496866 0.89525438 0.9626182  0.94528819 0.89750834\n",
      " 0.86720737 0.86794192 0.87853241 0.89058101 0.90116102 0.91073859\n",
      " 0.91981786 0.92869776 0.93732417 0.94539815 0.95255762 0.95852262\n",
      " 0.96316546 0.96651447 0.96871918 0.97000426 0.97062463 0.97083437\n",
      " 0.9708634  0.97090381 0.97110111 0.97155309]\n",
      "21 day output [[0.97230935]]\n",
      "22 day input [0.46055772 0.46472544 0.46829775 0.46931841 0.46185481 0.46417256\n",
      " 0.46274789 0.49830103 0.48624444 0.51122945 0.52030912 0.52615664\n",
      " 0.52020279 0.5334714  0.5359593  0.52828302 0.5091456  0.49136903\n",
      " 0.51139956 0.49173051 0.49953434 0.49219832 0.48735017 0.4427599\n",
      " 0.44565178 0.4465236  0.45026603 0.44933041 0.4489264  0.44499261\n",
      " 0.44312138 0.43393538 0.53351397 0.55203476 0.53783053 0.5314726\n",
      " 0.52728362 0.5109105  0.50906053 0.49600453 0.51429145 0.59315901\n",
      " 0.61097812 0.66267051 0.72386783 0.67812929 0.68185046 0.64132159\n",
      " 0.66160731 0.69992473 0.71536229 0.70692055 0.70183852 0.72931137\n",
      " 0.69960578 0.69884032 0.68748543 0.71357614 0.73894388 0.72688732\n",
      " 0.74073004 0.76531103 0.80726461 0.80847666 0.83229212 0.88285752\n",
      " 0.86867458 0.90722593 0.9641917  1.         0.91551881 0.90709835\n",
      " 0.87496866 0.89525438 0.9626182  0.94528819 0.89750834 0.86720737\n",
      " 0.86794192 0.87853241 0.89058101 0.90116102 0.91073859 0.91981786\n",
      " 0.92869776 0.93732417 0.94539815 0.95255762 0.95852262 0.96316546\n",
      " 0.96651447 0.96871918 0.97000426 0.97062463 0.97083437 0.9708634\n",
      " 0.97090381 0.97110111 0.97155309 0.97230935]\n",
      "22 day output [[0.9733784]]\n",
      "23 day input [0.46472544 0.46829775 0.46931841 0.46185481 0.46417256 0.46274789\n",
      " 0.49830103 0.48624444 0.51122945 0.52030912 0.52615664 0.52020279\n",
      " 0.5334714  0.5359593  0.52828302 0.5091456  0.49136903 0.51139956\n",
      " 0.49173051 0.49953434 0.49219832 0.48735017 0.4427599  0.44565178\n",
      " 0.4465236  0.45026603 0.44933041 0.4489264  0.44499261 0.44312138\n",
      " 0.43393538 0.53351397 0.55203476 0.53783053 0.5314726  0.52728362\n",
      " 0.5109105  0.50906053 0.49600453 0.51429145 0.59315901 0.61097812\n",
      " 0.66267051 0.72386783 0.67812929 0.68185046 0.64132159 0.66160731\n",
      " 0.69992473 0.71536229 0.70692055 0.70183852 0.72931137 0.69960578\n",
      " 0.69884032 0.68748543 0.71357614 0.73894388 0.72688732 0.74073004\n",
      " 0.76531103 0.80726461 0.80847666 0.83229212 0.88285752 0.86867458\n",
      " 0.90722593 0.9641917  1.         0.91551881 0.90709835 0.87496866\n",
      " 0.89525438 0.9626182  0.94528819 0.89750834 0.86720737 0.86794192\n",
      " 0.87853241 0.89058101 0.90116102 0.91073859 0.91981786 0.92869776\n",
      " 0.93732417 0.94539815 0.95255762 0.95852262 0.96316546 0.96651447\n",
      " 0.96871918 0.97000426 0.97062463 0.97083437 0.9708634  0.97090381\n",
      " 0.97110111 0.97155309 0.97230935 0.97337842]\n",
      "23 day output [[0.97473335]]\n",
      "24 day input [0.46829775 0.46931841 0.46185481 0.46417256 0.46274789 0.49830103\n",
      " 0.48624444 0.51122945 0.52030912 0.52615664 0.52020279 0.5334714\n",
      " 0.5359593  0.52828302 0.5091456  0.49136903 0.51139956 0.49173051\n",
      " 0.49953434 0.49219832 0.48735017 0.4427599  0.44565178 0.4465236\n",
      " 0.45026603 0.44933041 0.4489264  0.44499261 0.44312138 0.43393538\n",
      " 0.53351397 0.55203476 0.53783053 0.5314726  0.52728362 0.5109105\n",
      " 0.50906053 0.49600453 0.51429145 0.59315901 0.61097812 0.66267051\n",
      " 0.72386783 0.67812929 0.68185046 0.64132159 0.66160731 0.69992473\n",
      " 0.71536229 0.70692055 0.70183852 0.72931137 0.69960578 0.69884032\n",
      " 0.68748543 0.71357614 0.73894388 0.72688732 0.74073004 0.76531103\n",
      " 0.80726461 0.80847666 0.83229212 0.88285752 0.86867458 0.90722593\n",
      " 0.9641917  1.         0.91551881 0.90709835 0.87496866 0.89525438\n",
      " 0.9626182  0.94528819 0.89750834 0.86720737 0.86794192 0.87853241\n",
      " 0.89058101 0.90116102 0.91073859 0.91981786 0.92869776 0.93732417\n",
      " 0.94539815 0.95255762 0.95852262 0.96316546 0.96651447 0.96871918\n",
      " 0.97000426 0.97062463 0.97083437 0.9708634  0.97090381 0.97110111\n",
      " 0.97155309 0.97230935 0.97337842 0.97473335]\n",
      "24 day output [[0.9763215]]\n",
      "25 day input [0.46931841 0.46185481 0.46417256 0.46274789 0.49830103 0.48624444\n",
      " 0.51122945 0.52030912 0.52615664 0.52020279 0.5334714  0.5359593\n",
      " 0.52828302 0.5091456  0.49136903 0.51139956 0.49173051 0.49953434\n",
      " 0.49219832 0.48735017 0.4427599  0.44565178 0.4465236  0.45026603\n",
      " 0.44933041 0.4489264  0.44499261 0.44312138 0.43393538 0.53351397\n",
      " 0.55203476 0.53783053 0.5314726  0.52728362 0.5109105  0.50906053\n",
      " 0.49600453 0.51429145 0.59315901 0.61097812 0.66267051 0.72386783\n",
      " 0.67812929 0.68185046 0.64132159 0.66160731 0.69992473 0.71536229\n",
      " 0.70692055 0.70183852 0.72931137 0.69960578 0.69884032 0.68748543\n",
      " 0.71357614 0.73894388 0.72688732 0.74073004 0.76531103 0.80726461\n",
      " 0.80847666 0.83229212 0.88285752 0.86867458 0.90722593 0.9641917\n",
      " 1.         0.91551881 0.90709835 0.87496866 0.89525438 0.9626182\n",
      " 0.94528819 0.89750834 0.86720737 0.86794192 0.87853241 0.89058101\n",
      " 0.90116102 0.91073859 0.91981786 0.92869776 0.93732417 0.94539815\n",
      " 0.95255762 0.95852262 0.96316546 0.96651447 0.96871918 0.97000426\n",
      " 0.97062463 0.97083437 0.9708634  0.97090381 0.97110111 0.97155309\n",
      " 0.97230935 0.97337842 0.97473335 0.97632152]\n",
      "25 day output [[0.9780737]]\n",
      "26 day input [0.46185481 0.46417256 0.46274789 0.49830103 0.48624444 0.51122945\n",
      " 0.52030912 0.52615664 0.52020279 0.5334714  0.5359593  0.52828302\n",
      " 0.5091456  0.49136903 0.51139956 0.49173051 0.49953434 0.49219832\n",
      " 0.48735017 0.4427599  0.44565178 0.4465236  0.45026603 0.44933041\n",
      " 0.4489264  0.44499261 0.44312138 0.43393538 0.53351397 0.55203476\n",
      " 0.53783053 0.5314726  0.52728362 0.5109105  0.50906053 0.49600453\n",
      " 0.51429145 0.59315901 0.61097812 0.66267051 0.72386783 0.67812929\n",
      " 0.68185046 0.64132159 0.66160731 0.69992473 0.71536229 0.70692055\n",
      " 0.70183852 0.72931137 0.69960578 0.69884032 0.68748543 0.71357614\n",
      " 0.73894388 0.72688732 0.74073004 0.76531103 0.80726461 0.80847666\n",
      " 0.83229212 0.88285752 0.86867458 0.90722593 0.9641917  1.\n",
      " 0.91551881 0.90709835 0.87496866 0.89525438 0.9626182  0.94528819\n",
      " 0.89750834 0.86720737 0.86794192 0.87853241 0.89058101 0.90116102\n",
      " 0.91073859 0.91981786 0.92869776 0.93732417 0.94539815 0.95255762\n",
      " 0.95852262 0.96316546 0.96651447 0.96871918 0.97000426 0.97062463\n",
      " 0.97083437 0.9708634  0.97090381 0.97110111 0.97155309 0.97230935\n",
      " 0.97337842 0.97473335 0.97632152 0.97807372]\n",
      "26 day output [[0.97991323]]\n",
      "27 day input [0.46417256 0.46274789 0.49830103 0.48624444 0.51122945 0.52030912\n",
      " 0.52615664 0.52020279 0.5334714  0.5359593  0.52828302 0.5091456\n",
      " 0.49136903 0.51139956 0.49173051 0.49953434 0.49219832 0.48735017\n",
      " 0.4427599  0.44565178 0.4465236  0.45026603 0.44933041 0.4489264\n",
      " 0.44499261 0.44312138 0.43393538 0.53351397 0.55203476 0.53783053\n",
      " 0.5314726  0.52728362 0.5109105  0.50906053 0.49600453 0.51429145\n",
      " 0.59315901 0.61097812 0.66267051 0.72386783 0.67812929 0.68185046\n",
      " 0.64132159 0.66160731 0.69992473 0.71536229 0.70692055 0.70183852\n",
      " 0.72931137 0.69960578 0.69884032 0.68748543 0.71357614 0.73894388\n",
      " 0.72688732 0.74073004 0.76531103 0.80726461 0.80847666 0.83229212\n",
      " 0.88285752 0.86867458 0.90722593 0.9641917  1.         0.91551881\n",
      " 0.90709835 0.87496866 0.89525438 0.9626182  0.94528819 0.89750834\n",
      " 0.86720737 0.86794192 0.87853241 0.89058101 0.90116102 0.91073859\n",
      " 0.91981786 0.92869776 0.93732417 0.94539815 0.95255762 0.95852262\n",
      " 0.96316546 0.96651447 0.96871918 0.97000426 0.97062463 0.97083437\n",
      " 0.9708634  0.97090381 0.97110111 0.97155309 0.97230935 0.97337842\n",
      " 0.97473335 0.97632152 0.97807372 0.97991323]\n",
      "27 day output [[0.9817641]]\n",
      "28 day input [0.46274789 0.49830103 0.48624444 0.51122945 0.52030912 0.52615664\n",
      " 0.52020279 0.5334714  0.5359593  0.52828302 0.5091456  0.49136903\n",
      " 0.51139956 0.49173051 0.49953434 0.49219832 0.48735017 0.4427599\n",
      " 0.44565178 0.4465236  0.45026603 0.44933041 0.4489264  0.44499261\n",
      " 0.44312138 0.43393538 0.53351397 0.55203476 0.53783053 0.5314726\n",
      " 0.52728362 0.5109105  0.50906053 0.49600453 0.51429145 0.59315901\n",
      " 0.61097812 0.66267051 0.72386783 0.67812929 0.68185046 0.64132159\n",
      " 0.66160731 0.69992473 0.71536229 0.70692055 0.70183852 0.72931137\n",
      " 0.69960578 0.69884032 0.68748543 0.71357614 0.73894388 0.72688732\n",
      " 0.74073004 0.76531103 0.80726461 0.80847666 0.83229212 0.88285752\n",
      " 0.86867458 0.90722593 0.9641917  1.         0.91551881 0.90709835\n",
      " 0.87496866 0.89525438 0.9626182  0.94528819 0.89750834 0.86720737\n",
      " 0.86794192 0.87853241 0.89058101 0.90116102 0.91073859 0.91981786\n",
      " 0.92869776 0.93732417 0.94539815 0.95255762 0.95852262 0.96316546\n",
      " 0.96651447 0.96871918 0.97000426 0.97062463 0.97083437 0.9708634\n",
      " 0.97090381 0.97110111 0.97155309 0.97230935 0.97337842 0.97473335\n",
      " 0.97632152 0.97807372 0.97991323 0.98176408]\n",
      "28 day output [[0.9835574]]\n",
      "29 day input [0.49830103 0.48624444 0.51122945 0.52030912 0.52615664 0.52020279\n",
      " 0.5334714  0.5359593  0.52828302 0.5091456  0.49136903 0.51139956\n",
      " 0.49173051 0.49953434 0.49219832 0.48735017 0.4427599  0.44565178\n",
      " 0.4465236  0.45026603 0.44933041 0.4489264  0.44499261 0.44312138\n",
      " 0.43393538 0.53351397 0.55203476 0.53783053 0.5314726  0.52728362\n",
      " 0.5109105  0.50906053 0.49600453 0.51429145 0.59315901 0.61097812\n",
      " 0.66267051 0.72386783 0.67812929 0.68185046 0.64132159 0.66160731\n",
      " 0.69992473 0.71536229 0.70692055 0.70183852 0.72931137 0.69960578\n",
      " 0.69884032 0.68748543 0.71357614 0.73894388 0.72688732 0.74073004\n",
      " 0.76531103 0.80726461 0.80847666 0.83229212 0.88285752 0.86867458\n",
      " 0.90722593 0.9641917  1.         0.91551881 0.90709835 0.87496866\n",
      " 0.89525438 0.9626182  0.94528819 0.89750834 0.86720737 0.86794192\n",
      " 0.87853241 0.89058101 0.90116102 0.91073859 0.91981786 0.92869776\n",
      " 0.93732417 0.94539815 0.95255762 0.95852262 0.96316546 0.96651447\n",
      " 0.96871918 0.97000426 0.97062463 0.97083437 0.9708634  0.97090381\n",
      " 0.97110111 0.97155309 0.97230935 0.97337842 0.97473335 0.97632152\n",
      " 0.97807372 0.97991323 0.98176408 0.9835574 ]\n",
      "29 day output [[0.98523766]]\n",
      "[[0.8679419159889221], [0.8785324096679688], [0.8905810117721558], [0.9011610150337219], [0.9107385873794556], [0.9198178648948669], [0.9286977648735046], [0.9373241662979126], [0.9453981518745422], [0.9525576233863831], [0.958522617816925], [0.9631654620170593], [0.9665144681930542], [0.9687191843986511], [0.9700042605400085], [0.9706246256828308], [0.9708343744277954], [0.970863401889801], [0.9709038138389587], [0.9711011052131653], [0.9715530872344971], [0.9723093509674072], [0.9733784198760986], [0.9747333526611328], [0.9763215184211731], [0.9780737161636353], [0.9799132347106934], [0.9817640781402588], [0.983557403087616], [0.9852376580238342]]\n"
     ]
    }
   ],
   "source": [
    "#prediction for next 30 days\n",
    "from numpy import array\n",
    "\n",
    "lst_output=[]\n",
    "n_steps=100\n",
    "i=0\n",
    "while(i<30):\n",
    "    \n",
    "    if(len(temp_input)>100):\n",
    "        #print(temp_input)\n",
    "        x_input=np.array(temp_input[1:])\n",
    "        print(\"{} day input {}\".format(i,x_input))\n",
    "        x_input=x_input.reshape(1,-1)\n",
    "        x_input = x_input.reshape((1, n_steps, 1))\n",
    "        #print(x_input)\n",
    "        yhat = model.predict(x_input, verbose=0)\n",
    "        print(\"{} day output {}\".format(i,yhat))\n",
    "        temp_input.extend(yhat[0].tolist())\n",
    "        temp_input=temp_input[1:]\n",
    "        #print(temp_input)\n",
    "        lst_output.extend(yhat.tolist())\n",
    "        i=i+1\n",
    "    else:\n",
    "        x_input = x_input.reshape((1, n_steps,1))\n",
    "        yhat = model.predict(x_input, verbose=0)\n",
    "        print(yhat[0])\n",
    "        temp_input.extend(yhat[0].tolist())\n",
    "        print(len(temp_input))\n",
    "        lst_output.extend(yhat.tolist())\n",
    "        i=i+1\n",
    "    \n",
    "\n",
    "print(lst_output)"
   ]
  },
  {
   "cell_type": "code",
   "execution_count": 77,
   "id": "1683e56f",
   "metadata": {},
   "outputs": [],
   "source": [
    "day_new=np.arange(1,101)\n",
    "day_pred=np.arange(101,131)"
   ]
  },
  {
   "cell_type": "code",
   "execution_count": 78,
   "id": "d2d4d4c7",
   "metadata": {},
   "outputs": [
    {
     "data": {
      "text/plain": [
       "2515"
      ]
     },
     "execution_count": 78,
     "metadata": {},
     "output_type": "execute_result"
    }
   ],
   "source": [
    "len(df1)\n"
   ]
  },
  {
   "cell_type": "code",
   "execution_count": 79,
   "id": "f3f66b4f",
   "metadata": {},
   "outputs": [
    {
     "name": "stdout",
     "output_type": "stream",
     "text": [
      "2415\n"
     ]
    },
    {
     "data": {
      "text/plain": [
       "[<matplotlib.lines.Line2D at 0x1a5d20f6ed0>]"
      ]
     },
     "execution_count": 79,
     "metadata": {},
     "output_type": "execute_result"
    },
    {
     "data": {
      "image/png": "[encoded data removed]",
      "text/plain": [
       "<Figure size 640x480 with 1 Axes>"
      ]
     },
     "metadata": {},
     "output_type": "display_data"
    }
   ],
   "source": [
    "n = len(df1) - 100\n",
    "print(n)\n",
    "plt.plot(day_new,scaler.inverse_transform(df1[n:]))\n",
    "plt.plot(day_pred,scaler.inverse_transform(lst_output))"
   ]
  },
  {
   "cell_type": "code",
   "execution_count": 80,
   "id": "c024a4a8",
   "metadata": {},
   "outputs": [
    {
     "data": {
      "text/plain": [
       "[<matplotlib.lines.Line2D at 0x1a5cfc09310>]"
      ]
     },
     "execution_count": 80,
     "metadata": {},
     "output_type": "execute_result"
    },
    {
     "data": {
      "image/png": "[encoded data removed]",
      "text/plain": [
       "<Figure size 640x480 with 1 Axes>"
      ]
     },
     "metadata": {},
     "output_type": "display_data"
    }
   ],
   "source": [
    "df3=df1.tolist()\n",
    "df3.extend(lst_output)\n",
    "plt.plot(df3[1200:])"
   ]
  },
  {
   "cell_type": "code",
   "execution_count": 81,
   "id": "c0d791f8",
   "metadata": {},
   "outputs": [
    {
     "data": {
      "text/plain": [
       "[<matplotlib.lines.Line2D at 0x1a5d216fdd0>]"
      ]
     },
     "execution_count": 81,
     "metadata": {},
     "output_type": "execute_result"
    },
    {
     "data": {
      "image/png": "[encoded data removed]",
      "text/plain": [
       "<Figure size 640x480 with 1 Axes>"
      ]
     },
     "metadata": {},
     "output_type": "display_data"
    }
   ],
   "source": [
    "\n",
    "df3=scaler.inverse_transform(df3).tolist()\n",
    "plt.plot(df3)"
   ]
  },
  {
   "cell_type": "code",
   "execution_count": null,
   "id": "ebd90a5b",
   "metadata": {},
   "outputs": [],
   "source": []
  }
 ],
 "metadata": {
  "kernelspec": {
   "display_name": "venv1",
   "language": "python",
   "name": "python3"
  },
  "language_info": {
   "codemirror_mode": {
    "name": "ipython",
    "version": 3
   },
   "file_extension": ".py",
   "mimetype": "text/x-python",
   "name": "python",
   "nbconvert_exporter": "python",
   "pygments_lexer": "ipython3",
   "version": "3.11.13"
  }
 },
 "nbformat": 4,
 "nbformat_minor": 5
}
